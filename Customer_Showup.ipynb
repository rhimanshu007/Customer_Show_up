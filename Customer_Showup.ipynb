{
 "cells": [
  {
   "cell_type": "markdown",
   "metadata": {},
   "source": [
    "# TABLE OF CONTENTS\n",
    "\n",
    "__1. Problem Description__\n",
    "   \n",
    "__2. Importing required libraries__\n",
    "\n",
    "__3. Loading dataset__\n",
    "\n",
    "__4. Exploratory Data Analysis (EDA)__\n",
    "   - Checking shape,unique values,statistics and datatypes of data\n",
    "   \n",
    "__5. Preprocessing__\n",
    "   - Dropping unnecessary variables\n",
    "   - Typecasting obvious datatypes\n",
    "   \n",
    "__6. Chi-Square Dependency Test__\n",
    "\n",
    "__7. Visualization__\n",
    "        \n",
    "__8. Feature Engineering__\n",
    "\n",
    "__9. Splitting data into train and validation__\n",
    "\n",
    "__10. Preperation for Model Building__\n",
    "   - Checking and Imputing Missing values\n",
    "   - Target Encoding\n",
    "   - Initiating Pipeline with StandardScaler and Onehotencoding\n",
    "    \n",
    "__12. Building Models__"
   ]
  },
  {
   "cell_type": "markdown",
   "metadata": {},
   "source": [
    "# Problem Description"
   ]
  },
  {
   "cell_type": "markdown",
   "metadata": {},
   "source": [
    "### Identify whether a consumer will make a transaction next month\n",
    "\n",
    "Every month lakhs of consumers purchase their prescription medicines from Generico stores. Month after month, we lose few consumers and gain few. \n",
    "The training dataset contains bill level data of all consumers transacted during April 2019 – September 2019. \n",
    "And the test/holdout dataset contains binary 1/0 for all consumers (in test data) who’ve transacted in October 2019. \n"
   ]
  },
  {
   "cell_type": "markdown",
   "metadata": {},
   "source": [
    "## Importing required packages"
   ]
  },
  {
   "cell_type": "code",
   "execution_count": 1,
   "metadata": {},
   "outputs": [],
   "source": [
    "import pandas as pd\n",
    "import numpy as np\n",
    "import matplotlib.pyplot as plt\n",
    "import seaborn as sns\n",
    "\n",
    "import warnings\n",
    "warnings.filterwarnings('ignore')"
   ]
  },
  {
   "cell_type": "code",
   "execution_count": 2,
   "metadata": {},
   "outputs": [],
   "source": [
    "from sklearn.model_selection import train_test_split\n",
    "from sklearn.impute import SimpleImputer\n",
    "from sklearn.impute import KNNImputer                                # Knn Imputation function\n",
    "from sklearn.preprocessing import StandardScaler, OneHotEncoder            \n",
    "from scipy.stats import skew                                         # importing skew function\n",
    "import category_encoders as ce                                       # importing target encoders\n",
    "import statsmodels.api as sm\n",
    "\n",
    "from sklearn.metrics import accuracy_score,recall_score,precision_score,f1_score \n",
    "from sklearn.metrics import classification_report, confusion_matrix\n",
    "from sklearn.metrics import roc_auc_score,roc_curve\n",
    "\n",
    "from sklearn.model_selection import GridSearchCV\n",
    "from sklearn_pandas import DataFrameMapper\n",
    "from sklearn.pipeline import Pipeline\n",
    "\n",
    "from sklearn.linear_model import LogisticRegression\n",
    "from sklearn.ensemble import RandomForestClassifier\n",
    "from sklearn.feature_selection import SelectFromModel\n",
    "from sklearn import tree\n",
    "from sklearn.tree import DecisionTreeClassifier"
   ]
  },
  {
   "cell_type": "markdown",
   "metadata": {},
   "source": [
    "# Loading Data"
   ]
  },
  {
   "cell_type": "code",
   "execution_count": 3,
   "metadata": {
    "id": "GnQ6fn5CSFfP"
   },
   "outputs": [],
   "source": [
    "train_data = pd.read_csv(\"purchase_data_bill_level_sept.csv\",header=0)"
   ]
  },
  {
   "cell_type": "code",
   "execution_count": 4,
   "metadata": {
    "id": "sUx4HYP8SFfW"
   },
   "outputs": [],
   "source": [
    "test_data = pd.read_csv(\"out_of_time_test_oct.csv\",header=0)"
   ]
  },
  {
   "cell_type": "code",
   "execution_count": 5,
   "metadata": {},
   "outputs": [
    {
     "data": {
      "text/html": [
       "<div>\n",
       "<style scoped>\n",
       "    .dataframe tbody tr th:only-of-type {\n",
       "        vertical-align: middle;\n",
       "    }\n",
       "\n",
       "    .dataframe tbody tr th {\n",
       "        vertical-align: top;\n",
       "    }\n",
       "\n",
       "    .dataframe thead th {\n",
       "        text-align: right;\n",
       "    }\n",
       "</style>\n",
       "<table border=\"1\" class=\"dataframe\">\n",
       "  <thead>\n",
       "    <tr style=\"text-align: right;\">\n",
       "      <th></th>\n",
       "      <th>customer_ref_id</th>\n",
       "      <th>oct_purchase_flag</th>\n",
       "    </tr>\n",
       "  </thead>\n",
       "  <tbody>\n",
       "    <tr>\n",
       "      <th>0</th>\n",
       "      <td>6251676</td>\n",
       "      <td>0</td>\n",
       "    </tr>\n",
       "    <tr>\n",
       "      <th>1</th>\n",
       "      <td>6702206</td>\n",
       "      <td>0</td>\n",
       "    </tr>\n",
       "    <tr>\n",
       "      <th>2</th>\n",
       "      <td>6689660</td>\n",
       "      <td>1</td>\n",
       "    </tr>\n",
       "    <tr>\n",
       "      <th>3</th>\n",
       "      <td>8539983</td>\n",
       "      <td>0</td>\n",
       "    </tr>\n",
       "    <tr>\n",
       "      <th>4</th>\n",
       "      <td>8539984</td>\n",
       "      <td>0</td>\n",
       "    </tr>\n",
       "  </tbody>\n",
       "</table>\n",
       "</div>"
      ],
      "text/plain": [
       "   customer_ref_id  oct_purchase_flag\n",
       "0          6251676                  0\n",
       "1          6702206                  0\n",
       "2          6689660                  1\n",
       "3          8539983                  0\n",
       "4          8539984                  0"
      ]
     },
     "execution_count": 5,
     "metadata": {},
     "output_type": "execute_result"
    }
   ],
   "source": [
    "test_data.head()"
   ]
  },
  {
   "cell_type": "code",
   "execution_count": 6,
   "metadata": {},
   "outputs": [
    {
     "data": {
      "text/plain": [
       "(278136, 2)"
      ]
     },
     "execution_count": 6,
     "metadata": {},
     "output_type": "execute_result"
    }
   ],
   "source": [
    "test_data.shape"
   ]
  },
  {
   "cell_type": "markdown",
   "metadata": {},
   "source": [
    "### Data Preperation"
   ]
  },
  {
   "cell_type": "code",
   "execution_count": 7,
   "metadata": {},
   "outputs": [
    {
     "data": {
      "text/plain": [
       "278136"
      ]
     },
     "execution_count": 7,
     "metadata": {},
     "output_type": "execute_result"
    }
   ],
   "source": [
    "train_data['customer_ref_id'].nunique()"
   ]
  },
  {
   "cell_type": "code",
   "execution_count": 8,
   "metadata": {},
   "outputs": [],
   "source": [
    "# Merging both target data and attributes data on Custmer_ref_id\n",
    "\n",
    "train_data=train_data.merge(test_data,how='inner',on='customer_ref_id')"
   ]
  },
  {
   "cell_type": "markdown",
   "metadata": {},
   "source": [
    "# Exploratory Data Analysis"
   ]
  },
  {
   "cell_type": "code",
   "execution_count": 9,
   "metadata": {},
   "outputs": [
    {
     "data": {
      "text/html": [
       "<div>\n",
       "<style scoped>\n",
       "    .dataframe tbody tr th:only-of-type {\n",
       "        vertical-align: middle;\n",
       "    }\n",
       "\n",
       "    .dataframe tbody tr th {\n",
       "        vertical-align: top;\n",
       "    }\n",
       "\n",
       "    .dataframe thead th {\n",
       "        text-align: right;\n",
       "    }\n",
       "</style>\n",
       "<table border=\"1\" class=\"dataframe\">\n",
       "  <thead>\n",
       "    <tr style=\"text-align: right;\">\n",
       "      <th></th>\n",
       "      <th>bill_ref_id</th>\n",
       "      <th>store_ref_id</th>\n",
       "      <th>customer_ref_id</th>\n",
       "      <th>doctor_ref_id</th>\n",
       "      <th>payment_method</th>\n",
       "      <th>created_at_bill</th>\n",
       "      <th>num_drugs_bill</th>\n",
       "      <th>total_quantity_bill</th>\n",
       "      <th>mrp_bill</th>\n",
       "      <th>total_spend_bill</th>\n",
       "      <th>...</th>\n",
       "      <th>quantity_ethical</th>\n",
       "      <th>quantity_generic</th>\n",
       "      <th>quantity_surgical</th>\n",
       "      <th>quantity_ayurvedic</th>\n",
       "      <th>quantity_general</th>\n",
       "      <th>quantity_otc</th>\n",
       "      <th>quantity_chronic</th>\n",
       "      <th>quantity_acute</th>\n",
       "      <th>quantity_h1</th>\n",
       "      <th>oct_purchase_flag</th>\n",
       "    </tr>\n",
       "  </thead>\n",
       "  <tbody>\n",
       "    <tr>\n",
       "      <th>0</th>\n",
       "      <td>7562292</td>\n",
       "      <td>468</td>\n",
       "      <td>6251676</td>\n",
       "      <td>6628790</td>\n",
       "      <td>cash</td>\n",
       "      <td>2019-04-01 09:09:51.000000</td>\n",
       "      <td>3</td>\n",
       "      <td>12</td>\n",
       "      <td>394.6</td>\n",
       "      <td>146.92</td>\n",
       "      <td>...</td>\n",
       "      <td>0</td>\n",
       "      <td>11</td>\n",
       "      <td>1</td>\n",
       "      <td>0</td>\n",
       "      <td>0</td>\n",
       "      <td>0</td>\n",
       "      <td>10</td>\n",
       "      <td>2</td>\n",
       "      <td>0</td>\n",
       "      <td>0</td>\n",
       "    </tr>\n",
       "    <tr>\n",
       "      <th>1</th>\n",
       "      <td>7727438</td>\n",
       "      <td>468</td>\n",
       "      <td>6251676</td>\n",
       "      <td>6628790</td>\n",
       "      <td>cash</td>\n",
       "      <td>2019-04-10 17:23:29.000000</td>\n",
       "      <td>1</td>\n",
       "      <td>2</td>\n",
       "      <td>70.0</td>\n",
       "      <td>41.32</td>\n",
       "      <td>...</td>\n",
       "      <td>0</td>\n",
       "      <td>0</td>\n",
       "      <td>2</td>\n",
       "      <td>0</td>\n",
       "      <td>0</td>\n",
       "      <td>0</td>\n",
       "      <td>0</td>\n",
       "      <td>2</td>\n",
       "      <td>0</td>\n",
       "      <td>0</td>\n",
       "    </tr>\n",
       "    <tr>\n",
       "      <th>2</th>\n",
       "      <td>7827629</td>\n",
       "      <td>468</td>\n",
       "      <td>6251676</td>\n",
       "      <td>6628790</td>\n",
       "      <td>cash</td>\n",
       "      <td>2019-04-15 21:55:02.000000</td>\n",
       "      <td>1</td>\n",
       "      <td>2</td>\n",
       "      <td>70.0</td>\n",
       "      <td>41.66</td>\n",
       "      <td>...</td>\n",
       "      <td>0</td>\n",
       "      <td>0</td>\n",
       "      <td>2</td>\n",
       "      <td>0</td>\n",
       "      <td>0</td>\n",
       "      <td>0</td>\n",
       "      <td>0</td>\n",
       "      <td>2</td>\n",
       "      <td>0</td>\n",
       "      <td>0</td>\n",
       "    </tr>\n",
       "    <tr>\n",
       "      <th>3</th>\n",
       "      <td>11318230</td>\n",
       "      <td>468</td>\n",
       "      <td>6251676</td>\n",
       "      <td>6628790</td>\n",
       "      <td>cash</td>\n",
       "      <td>2019-05-09 14:07:14.000000</td>\n",
       "      <td>2</td>\n",
       "      <td>11</td>\n",
       "      <td>464.4</td>\n",
       "      <td>148.96</td>\n",
       "      <td>...</td>\n",
       "      <td>0</td>\n",
       "      <td>10</td>\n",
       "      <td>1</td>\n",
       "      <td>0</td>\n",
       "      <td>0</td>\n",
       "      <td>0</td>\n",
       "      <td>10</td>\n",
       "      <td>1</td>\n",
       "      <td>0</td>\n",
       "      <td>0</td>\n",
       "    </tr>\n",
       "    <tr>\n",
       "      <th>4</th>\n",
       "      <td>7562335</td>\n",
       "      <td>468</td>\n",
       "      <td>6702206</td>\n",
       "      <td>7298144</td>\n",
       "      <td>cash</td>\n",
       "      <td>2019-04-01 09:30:17.000000</td>\n",
       "      <td>1</td>\n",
       "      <td>1</td>\n",
       "      <td>50.5</td>\n",
       "      <td>26.04</td>\n",
       "      <td>...</td>\n",
       "      <td>0</td>\n",
       "      <td>1</td>\n",
       "      <td>0</td>\n",
       "      <td>0</td>\n",
       "      <td>0</td>\n",
       "      <td>0</td>\n",
       "      <td>0</td>\n",
       "      <td>1</td>\n",
       "      <td>0</td>\n",
       "      <td>0</td>\n",
       "    </tr>\n",
       "  </tbody>\n",
       "</table>\n",
       "<p>5 rows × 22 columns</p>\n",
       "</div>"
      ],
      "text/plain": [
       "   bill_ref_id  store_ref_id  customer_ref_id  doctor_ref_id payment_method  \\\n",
       "0      7562292           468          6251676        6628790           cash   \n",
       "1      7727438           468          6251676        6628790           cash   \n",
       "2      7827629           468          6251676        6628790           cash   \n",
       "3     11318230           468          6251676        6628790           cash   \n",
       "4      7562335           468          6702206        7298144           cash   \n",
       "\n",
       "              created_at_bill  num_drugs_bill  total_quantity_bill  mrp_bill  \\\n",
       "0  2019-04-01 09:09:51.000000               3                   12     394.6   \n",
       "1  2019-04-10 17:23:29.000000               1                    2      70.0   \n",
       "2  2019-04-15 21:55:02.000000               1                    2      70.0   \n",
       "3  2019-05-09 14:07:14.000000               2                   11     464.4   \n",
       "4  2019-04-01 09:30:17.000000               1                    1      50.5   \n",
       "\n",
       "   total_spend_bill  ...  quantity_ethical  quantity_generic  \\\n",
       "0            146.92  ...                 0                11   \n",
       "1             41.32  ...                 0                 0   \n",
       "2             41.66  ...                 0                 0   \n",
       "3            148.96  ...                 0                10   \n",
       "4             26.04  ...                 0                 1   \n",
       "\n",
       "   quantity_surgical  quantity_ayurvedic  quantity_general  quantity_otc  \\\n",
       "0                  1                   0                 0             0   \n",
       "1                  2                   0                 0             0   \n",
       "2                  2                   0                 0             0   \n",
       "3                  1                   0                 0             0   \n",
       "4                  0                   0                 0             0   \n",
       "\n",
       "   quantity_chronic  quantity_acute  quantity_h1  oct_purchase_flag  \n",
       "0                10               2            0                  0  \n",
       "1                 0               2            0                  0  \n",
       "2                 0               2            0                  0  \n",
       "3                10               1            0                  0  \n",
       "4                 0               1            0                  0  \n",
       "\n",
       "[5 rows x 22 columns]"
      ]
     },
     "execution_count": 9,
     "metadata": {},
     "output_type": "execute_result"
    }
   ],
   "source": [
    "train_data.head()"
   ]
  },
  {
   "cell_type": "code",
   "execution_count": 10,
   "metadata": {
    "scrolled": true
   },
   "outputs": [
    {
     "data": {
      "text/plain": [
       "Index(['bill_ref_id', 'store_ref_id', 'customer_ref_id', 'doctor_ref_id',\n",
       "       'payment_method', 'created_at_bill', 'num_drugs_bill',\n",
       "       'total_quantity_bill', 'mrp_bill', 'total_spend_bill',\n",
       "       'return_value_bill', 'returned_quantity_bill', 'quantity_ethical',\n",
       "       'quantity_generic', 'quantity_surgical', 'quantity_ayurvedic',\n",
       "       'quantity_general', 'quantity_otc', 'quantity_chronic',\n",
       "       'quantity_acute', 'quantity_h1', 'oct_purchase_flag'],\n",
       "      dtype='object')"
      ]
     },
     "execution_count": 10,
     "metadata": {},
     "output_type": "execute_result"
    }
   ],
   "source": [
    "train_data.columns"
   ]
  },
  {
   "cell_type": "code",
   "execution_count": 11,
   "metadata": {},
   "outputs": [
    {
     "data": {
      "text/plain": [
       "(1184025, 22)"
      ]
     },
     "execution_count": 11,
     "metadata": {},
     "output_type": "execute_result"
    }
   ],
   "source": [
    "train_data.shape"
   ]
  },
  {
   "cell_type": "code",
   "execution_count": 12,
   "metadata": {},
   "outputs": [
    {
     "data": {
      "text/plain": [
       "(1184025, 22)"
      ]
     },
     "execution_count": 12,
     "metadata": {},
     "output_type": "execute_result"
    }
   ],
   "source": [
    "train_data.shape"
   ]
  },
  {
   "cell_type": "code",
   "execution_count": 13,
   "metadata": {},
   "outputs": [
    {
     "name": "stdout",
     "output_type": "stream",
     "text": [
      "<class 'pandas.core.frame.DataFrame'>\n",
      "Int64Index: 1184025 entries, 0 to 1184024\n",
      "Data columns (total 22 columns):\n",
      " #   Column                  Non-Null Count    Dtype  \n",
      "---  ------                  --------------    -----  \n",
      " 0   bill_ref_id             1184025 non-null  int64  \n",
      " 1   store_ref_id            1184025 non-null  int64  \n",
      " 2   customer_ref_id         1184025 non-null  int64  \n",
      " 3   doctor_ref_id           1184025 non-null  int64  \n",
      " 4   payment_method          1184022 non-null  object \n",
      " 5   created_at_bill         1184025 non-null  object \n",
      " 6   num_drugs_bill          1184025 non-null  int64  \n",
      " 7   total_quantity_bill     1184025 non-null  int64  \n",
      " 8   mrp_bill                1184025 non-null  float64\n",
      " 9   total_spend_bill        1184025 non-null  float64\n",
      " 10  return_value_bill       1184025 non-null  float64\n",
      " 11  returned_quantity_bill  1184025 non-null  int64  \n",
      " 12  quantity_ethical        1184025 non-null  int64  \n",
      " 13  quantity_generic        1184025 non-null  int64  \n",
      " 14  quantity_surgical       1184025 non-null  int64  \n",
      " 15  quantity_ayurvedic      1184025 non-null  int64  \n",
      " 16  quantity_general        1184025 non-null  int64  \n",
      " 17  quantity_otc            1184025 non-null  int64  \n",
      " 18  quantity_chronic        1184025 non-null  int64  \n",
      " 19  quantity_acute          1184025 non-null  int64  \n",
      " 20  quantity_h1             1184025 non-null  int64  \n",
      " 21  oct_purchase_flag       1184025 non-null  int64  \n",
      "dtypes: float64(3), int64(17), object(2)\n",
      "memory usage: 207.8+ MB\n"
     ]
    }
   ],
   "source": [
    "train_data.info()"
   ]
  },
  {
   "cell_type": "code",
   "execution_count": 14,
   "metadata": {},
   "outputs": [
    {
     "data": {
      "text/plain": [
       "bill_ref_id               1184025\n",
       "store_ref_id                   43\n",
       "customer_ref_id            278136\n",
       "doctor_ref_id               72099\n",
       "payment_method                  6\n",
       "created_at_bill           1089104\n",
       "num_drugs_bill                 49\n",
       "total_quantity_bill           257\n",
       "mrp_bill                   200462\n",
       "total_spend_bill           229685\n",
       "return_value_bill           18147\n",
       "returned_quantity_bill         88\n",
       "quantity_ethical              159\n",
       "quantity_generic              194\n",
       "quantity_surgical             103\n",
       "quantity_ayurvedic             30\n",
       "quantity_general               80\n",
       "quantity_otc                   30\n",
       "quantity_chronic              155\n",
       "quantity_acute                224\n",
       "quantity_h1                    50\n",
       "oct_purchase_flag               2\n",
       "dtype: int64"
      ]
     },
     "execution_count": 14,
     "metadata": {},
     "output_type": "execute_result"
    }
   ],
   "source": [
    "train_data.nunique()"
   ]
  },
  {
   "cell_type": "markdown",
   "metadata": {},
   "source": [
    "# Preprocessing"
   ]
  },
  {
   "cell_type": "markdown",
   "metadata": {
    "id": "hRBGsW8ASFgq"
   },
   "source": [
    "### Drop Unnecessary variables Train Data"
   ]
  },
  {
   "cell_type": "code",
   "execution_count": 15,
   "metadata": {
    "id": "t6h5RMuWSFgs",
    "outputId": "d06f9652-c31c-472d-b966-394f6f0e5558"
   },
   "outputs": [
    {
     "data": {
      "text/html": [
       "<div>\n",
       "<style scoped>\n",
       "    .dataframe tbody tr th:only-of-type {\n",
       "        vertical-align: middle;\n",
       "    }\n",
       "\n",
       "    .dataframe tbody tr th {\n",
       "        vertical-align: top;\n",
       "    }\n",
       "\n",
       "    .dataframe thead th {\n",
       "        text-align: right;\n",
       "    }\n",
       "</style>\n",
       "<table border=\"1\" class=\"dataframe\">\n",
       "  <thead>\n",
       "    <tr style=\"text-align: right;\">\n",
       "      <th></th>\n",
       "      <th>bill_ref_id</th>\n",
       "      <th>store_ref_id</th>\n",
       "      <th>customer_ref_id</th>\n",
       "      <th>doctor_ref_id</th>\n",
       "      <th>payment_method</th>\n",
       "      <th>created_at_bill</th>\n",
       "      <th>num_drugs_bill</th>\n",
       "      <th>total_quantity_bill</th>\n",
       "      <th>mrp_bill</th>\n",
       "      <th>total_spend_bill</th>\n",
       "      <th>...</th>\n",
       "      <th>quantity_ethical</th>\n",
       "      <th>quantity_generic</th>\n",
       "      <th>quantity_surgical</th>\n",
       "      <th>quantity_ayurvedic</th>\n",
       "      <th>quantity_general</th>\n",
       "      <th>quantity_otc</th>\n",
       "      <th>quantity_chronic</th>\n",
       "      <th>quantity_acute</th>\n",
       "      <th>quantity_h1</th>\n",
       "      <th>oct_purchase_flag</th>\n",
       "    </tr>\n",
       "  </thead>\n",
       "  <tbody>\n",
       "    <tr>\n",
       "      <th>0</th>\n",
       "      <td>7562292</td>\n",
       "      <td>468</td>\n",
       "      <td>6251676</td>\n",
       "      <td>6628790</td>\n",
       "      <td>cash</td>\n",
       "      <td>2019-04-01 09:09:51.000000</td>\n",
       "      <td>3</td>\n",
       "      <td>12</td>\n",
       "      <td>394.6</td>\n",
       "      <td>146.92</td>\n",
       "      <td>...</td>\n",
       "      <td>0</td>\n",
       "      <td>11</td>\n",
       "      <td>1</td>\n",
       "      <td>0</td>\n",
       "      <td>0</td>\n",
       "      <td>0</td>\n",
       "      <td>10</td>\n",
       "      <td>2</td>\n",
       "      <td>0</td>\n",
       "      <td>0</td>\n",
       "    </tr>\n",
       "    <tr>\n",
       "      <th>1</th>\n",
       "      <td>7727438</td>\n",
       "      <td>468</td>\n",
       "      <td>6251676</td>\n",
       "      <td>6628790</td>\n",
       "      <td>cash</td>\n",
       "      <td>2019-04-10 17:23:29.000000</td>\n",
       "      <td>1</td>\n",
       "      <td>2</td>\n",
       "      <td>70.0</td>\n",
       "      <td>41.32</td>\n",
       "      <td>...</td>\n",
       "      <td>0</td>\n",
       "      <td>0</td>\n",
       "      <td>2</td>\n",
       "      <td>0</td>\n",
       "      <td>0</td>\n",
       "      <td>0</td>\n",
       "      <td>0</td>\n",
       "      <td>2</td>\n",
       "      <td>0</td>\n",
       "      <td>0</td>\n",
       "    </tr>\n",
       "    <tr>\n",
       "      <th>2</th>\n",
       "      <td>7827629</td>\n",
       "      <td>468</td>\n",
       "      <td>6251676</td>\n",
       "      <td>6628790</td>\n",
       "      <td>cash</td>\n",
       "      <td>2019-04-15 21:55:02.000000</td>\n",
       "      <td>1</td>\n",
       "      <td>2</td>\n",
       "      <td>70.0</td>\n",
       "      <td>41.66</td>\n",
       "      <td>...</td>\n",
       "      <td>0</td>\n",
       "      <td>0</td>\n",
       "      <td>2</td>\n",
       "      <td>0</td>\n",
       "      <td>0</td>\n",
       "      <td>0</td>\n",
       "      <td>0</td>\n",
       "      <td>2</td>\n",
       "      <td>0</td>\n",
       "      <td>0</td>\n",
       "    </tr>\n",
       "    <tr>\n",
       "      <th>3</th>\n",
       "      <td>11318230</td>\n",
       "      <td>468</td>\n",
       "      <td>6251676</td>\n",
       "      <td>6628790</td>\n",
       "      <td>cash</td>\n",
       "      <td>2019-05-09 14:07:14.000000</td>\n",
       "      <td>2</td>\n",
       "      <td>11</td>\n",
       "      <td>464.4</td>\n",
       "      <td>148.96</td>\n",
       "      <td>...</td>\n",
       "      <td>0</td>\n",
       "      <td>10</td>\n",
       "      <td>1</td>\n",
       "      <td>0</td>\n",
       "      <td>0</td>\n",
       "      <td>0</td>\n",
       "      <td>10</td>\n",
       "      <td>1</td>\n",
       "      <td>0</td>\n",
       "      <td>0</td>\n",
       "    </tr>\n",
       "    <tr>\n",
       "      <th>4</th>\n",
       "      <td>7562335</td>\n",
       "      <td>468</td>\n",
       "      <td>6702206</td>\n",
       "      <td>7298144</td>\n",
       "      <td>cash</td>\n",
       "      <td>2019-04-01 09:30:17.000000</td>\n",
       "      <td>1</td>\n",
       "      <td>1</td>\n",
       "      <td>50.5</td>\n",
       "      <td>26.04</td>\n",
       "      <td>...</td>\n",
       "      <td>0</td>\n",
       "      <td>1</td>\n",
       "      <td>0</td>\n",
       "      <td>0</td>\n",
       "      <td>0</td>\n",
       "      <td>0</td>\n",
       "      <td>0</td>\n",
       "      <td>1</td>\n",
       "      <td>0</td>\n",
       "      <td>0</td>\n",
       "    </tr>\n",
       "  </tbody>\n",
       "</table>\n",
       "<p>5 rows × 22 columns</p>\n",
       "</div>"
      ],
      "text/plain": [
       "   bill_ref_id  store_ref_id  customer_ref_id  doctor_ref_id payment_method  \\\n",
       "0      7562292           468          6251676        6628790           cash   \n",
       "1      7727438           468          6251676        6628790           cash   \n",
       "2      7827629           468          6251676        6628790           cash   \n",
       "3     11318230           468          6251676        6628790           cash   \n",
       "4      7562335           468          6702206        7298144           cash   \n",
       "\n",
       "              created_at_bill  num_drugs_bill  total_quantity_bill  mrp_bill  \\\n",
       "0  2019-04-01 09:09:51.000000               3                   12     394.6   \n",
       "1  2019-04-10 17:23:29.000000               1                    2      70.0   \n",
       "2  2019-04-15 21:55:02.000000               1                    2      70.0   \n",
       "3  2019-05-09 14:07:14.000000               2                   11     464.4   \n",
       "4  2019-04-01 09:30:17.000000               1                    1      50.5   \n",
       "\n",
       "   total_spend_bill  ...  quantity_ethical  quantity_generic  \\\n",
       "0            146.92  ...                 0                11   \n",
       "1             41.32  ...                 0                 0   \n",
       "2             41.66  ...                 0                 0   \n",
       "3            148.96  ...                 0                10   \n",
       "4             26.04  ...                 0                 1   \n",
       "\n",
       "   quantity_surgical  quantity_ayurvedic  quantity_general  quantity_otc  \\\n",
       "0                  1                   0                 0             0   \n",
       "1                  2                   0                 0             0   \n",
       "2                  2                   0                 0             0   \n",
       "3                  1                   0                 0             0   \n",
       "4                  0                   0                 0             0   \n",
       "\n",
       "   quantity_chronic  quantity_acute  quantity_h1  oct_purchase_flag  \n",
       "0                10               2            0                  0  \n",
       "1                 0               2            0                  0  \n",
       "2                 0               2            0                  0  \n",
       "3                10               1            0                  0  \n",
       "4                 0               1            0                  0  \n",
       "\n",
       "[5 rows x 22 columns]"
      ]
     },
     "execution_count": 15,
     "metadata": {},
     "output_type": "execute_result"
    }
   ],
   "source": [
    "train_data.head()"
   ]
  },
  {
   "cell_type": "code",
   "execution_count": 16,
   "metadata": {
    "id": "7VFthtUmSFg0"
   },
   "outputs": [],
   "source": [
    "train_data.drop(\"bill_ref_id\",axis=1,inplace=True)     #all unique values"
   ]
  },
  {
   "cell_type": "code",
   "execution_count": 17,
   "metadata": {
    "id": "6zkXIe0FSFg6",
    "outputId": "2f8b1faf-2cf4-4002-d44a-1a72e796184e",
    "scrolled": true
   },
   "outputs": [
    {
     "data": {
      "text/plain": [
       "store_ref_id                int64\n",
       "customer_ref_id             int64\n",
       "doctor_ref_id               int64\n",
       "payment_method             object\n",
       "created_at_bill            object\n",
       "num_drugs_bill              int64\n",
       "total_quantity_bill         int64\n",
       "mrp_bill                  float64\n",
       "total_spend_bill          float64\n",
       "return_value_bill         float64\n",
       "returned_quantity_bill      int64\n",
       "quantity_ethical            int64\n",
       "quantity_generic            int64\n",
       "quantity_surgical           int64\n",
       "quantity_ayurvedic          int64\n",
       "quantity_general            int64\n",
       "quantity_otc                int64\n",
       "quantity_chronic            int64\n",
       "quantity_acute              int64\n",
       "quantity_h1                 int64\n",
       "oct_purchase_flag           int64\n",
       "dtype: object"
      ]
     },
     "execution_count": 17,
     "metadata": {},
     "output_type": "execute_result"
    }
   ],
   "source": [
    "train_data.dtypes"
   ]
  },
  {
   "cell_type": "markdown",
   "metadata": {},
   "source": [
    "### Typecasting Obvious datatypes "
   ]
  },
  {
   "cell_type": "code",
   "execution_count": 18,
   "metadata": {},
   "outputs": [],
   "source": [
    "for col in ['store_ref_id','customer_ref_id','doctor_ref_id','payment_method','oct_purchase_flag']:\n",
    "    train_data[col] = train_data[col].astype('category')"
   ]
  },
  {
   "cell_type": "code",
   "execution_count": 19,
   "metadata": {},
   "outputs": [
    {
     "data": {
      "text/html": [
       "<div>\n",
       "<style scoped>\n",
       "    .dataframe tbody tr th:only-of-type {\n",
       "        vertical-align: middle;\n",
       "    }\n",
       "\n",
       "    .dataframe tbody tr th {\n",
       "        vertical-align: top;\n",
       "    }\n",
       "\n",
       "    .dataframe thead th {\n",
       "        text-align: right;\n",
       "    }\n",
       "</style>\n",
       "<table border=\"1\" class=\"dataframe\">\n",
       "  <thead>\n",
       "    <tr style=\"text-align: right;\">\n",
       "      <th></th>\n",
       "      <th>store_ref_id</th>\n",
       "      <th>customer_ref_id</th>\n",
       "      <th>doctor_ref_id</th>\n",
       "      <th>payment_method</th>\n",
       "      <th>created_at_bill</th>\n",
       "      <th>num_drugs_bill</th>\n",
       "      <th>total_quantity_bill</th>\n",
       "      <th>mrp_bill</th>\n",
       "      <th>total_spend_bill</th>\n",
       "      <th>return_value_bill</th>\n",
       "      <th>...</th>\n",
       "      <th>quantity_ethical</th>\n",
       "      <th>quantity_generic</th>\n",
       "      <th>quantity_surgical</th>\n",
       "      <th>quantity_ayurvedic</th>\n",
       "      <th>quantity_general</th>\n",
       "      <th>quantity_otc</th>\n",
       "      <th>quantity_chronic</th>\n",
       "      <th>quantity_acute</th>\n",
       "      <th>quantity_h1</th>\n",
       "      <th>oct_purchase_flag</th>\n",
       "    </tr>\n",
       "  </thead>\n",
       "  <tbody>\n",
       "    <tr>\n",
       "      <th>0</th>\n",
       "      <td>468</td>\n",
       "      <td>6251676</td>\n",
       "      <td>6628790</td>\n",
       "      <td>cash</td>\n",
       "      <td>2019-04-01 09:09:51.000000</td>\n",
       "      <td>3</td>\n",
       "      <td>12</td>\n",
       "      <td>394.6</td>\n",
       "      <td>146.92</td>\n",
       "      <td>0.0</td>\n",
       "      <td>...</td>\n",
       "      <td>0</td>\n",
       "      <td>11</td>\n",
       "      <td>1</td>\n",
       "      <td>0</td>\n",
       "      <td>0</td>\n",
       "      <td>0</td>\n",
       "      <td>10</td>\n",
       "      <td>2</td>\n",
       "      <td>0</td>\n",
       "      <td>0</td>\n",
       "    </tr>\n",
       "    <tr>\n",
       "      <th>1</th>\n",
       "      <td>468</td>\n",
       "      <td>6251676</td>\n",
       "      <td>6628790</td>\n",
       "      <td>cash</td>\n",
       "      <td>2019-04-10 17:23:29.000000</td>\n",
       "      <td>1</td>\n",
       "      <td>2</td>\n",
       "      <td>70.0</td>\n",
       "      <td>41.32</td>\n",
       "      <td>0.0</td>\n",
       "      <td>...</td>\n",
       "      <td>0</td>\n",
       "      <td>0</td>\n",
       "      <td>2</td>\n",
       "      <td>0</td>\n",
       "      <td>0</td>\n",
       "      <td>0</td>\n",
       "      <td>0</td>\n",
       "      <td>2</td>\n",
       "      <td>0</td>\n",
       "      <td>0</td>\n",
       "    </tr>\n",
       "  </tbody>\n",
       "</table>\n",
       "<p>2 rows × 21 columns</p>\n",
       "</div>"
      ],
      "text/plain": [
       "  store_ref_id customer_ref_id doctor_ref_id payment_method  \\\n",
       "0          468         6251676       6628790           cash   \n",
       "1          468         6251676       6628790           cash   \n",
       "\n",
       "              created_at_bill  num_drugs_bill  total_quantity_bill  mrp_bill  \\\n",
       "0  2019-04-01 09:09:51.000000               3                   12     394.6   \n",
       "1  2019-04-10 17:23:29.000000               1                    2      70.0   \n",
       "\n",
       "   total_spend_bill  return_value_bill  ...  quantity_ethical  \\\n",
       "0            146.92                0.0  ...                 0   \n",
       "1             41.32                0.0  ...                 0   \n",
       "\n",
       "   quantity_generic  quantity_surgical  quantity_ayurvedic  quantity_general  \\\n",
       "0                11                  1                   0                 0   \n",
       "1                 0                  2                   0                 0   \n",
       "\n",
       "   quantity_otc  quantity_chronic  quantity_acute  quantity_h1  \\\n",
       "0             0                10               2            0   \n",
       "1             0                 0               2            0   \n",
       "\n",
       "   oct_purchase_flag  \n",
       "0                  0  \n",
       "1                  0  \n",
       "\n",
       "[2 rows x 21 columns]"
      ]
     },
     "execution_count": 19,
     "metadata": {},
     "output_type": "execute_result"
    }
   ],
   "source": [
    "train_data.head(2)"
   ]
  },
  {
   "cell_type": "markdown",
   "metadata": {},
   "source": [
    "# Chi square test: check dependency of categorical columns with Target"
   ]
  },
  {
   "cell_type": "code",
   "execution_count": 20,
   "metadata": {
    "scrolled": true
   },
   "outputs": [],
   "source": [
    "from scipy.stats import chi2_contingency              # importing\n",
    "import statsmodels.api as sm"
   ]
  },
  {
   "cell_type": "code",
   "execution_count": 21,
   "metadata": {
    "scrolled": true
   },
   "outputs": [
    {
     "data": {
      "text/plain": [
       "Index(['store_ref_id', 'customer_ref_id', 'doctor_ref_id', 'payment_method',\n",
       "       'oct_purchase_flag'],\n",
       "      dtype='object')"
      ]
     },
     "execution_count": 21,
     "metadata": {},
     "output_type": "execute_result"
    }
   ],
   "source": [
    "cat_cols = train_data.select_dtypes('category').columns\n",
    "cat_cols"
   ]
  },
  {
   "cell_type": "code",
   "execution_count": 22,
   "metadata": {
    "scrolled": true
   },
   "outputs": [],
   "source": [
    "## Defining Function for Chi-square test\n",
    "\n",
    "def find_chi2_independence(cat_col, target, df, alpha=0.05):\n",
    "    data = df[[target, cat_col]]\n",
    "    tab = sm.stats.Table.from_data(data)\n",
    "    tab = tab.table_orig.to_numpy()\n",
    "    print(f\"---------------{target} Vs {cat_col} Chi Square Test of Independence -------------------\")\n",
    "    print(f\"\\n Contingency table :\\n\")\n",
    "    print(tab)\n",
    "    \n",
    "    stat, p, dof, expected = chi2_contingency(tab)\n",
    "    print(f\"\\n Expected table :\\n\")\n",
    "    print(expected)\n",
    "    \n",
    "    print(f\"The p value returned = {p} and degrees of freedom returned = {dof}\")\n",
    "    \n",
    "    # interpret p-value\n",
    "    print('significance(alpha) = %.3f' % (alpha))\n",
    "\n",
    "    if p <= alpha:\n",
    "        print('Dependent (reject H0)')\n",
    "    else:\n",
    "        print('Independent (fail to reject H0)') "
   ]
  },
  {
   "cell_type": "code",
   "execution_count": 23,
   "metadata": {
    "scrolled": true
   },
   "outputs": [
    {
     "name": "stdout",
     "output_type": "stream",
     "text": [
      "---------------oct_purchase_flag Vs store_ref_id Chi Square Test of Independence -------------------\n",
      "\n",
      " Contingency table :\n",
      "\n",
      "[[   17   121  1850  1916   838  1714  2117  5380  6289  7904  6523  3970\n",
      "   7513  7144 10664  8131 21534 11026 17826  9950 16172 16006 14714 15053\n",
      "  12908 17773 13095 11962 10344 11995 14094 14162 10734 10262 16889 14200\n",
      "  14567 18134 11845 18002 11696 19791 16907]\n",
      " [   12   157  2135  3357  1440  2216  2916  6583  8821  9834  8485  6518\n",
      "   9710 10584 15335 13306 26191 17930 27382 13002 21428 24619 24199 23796\n",
      "  21460 25689 19548 18291 16070 22927 22412 28210 19574 16918 24230 24914\n",
      "  25755 30299 13422 24203 18702 34667 33046]]\n",
      "\n",
      " Expected table :\n",
      "\n",
      "[[1.13580609e+01 1.08880721e+02 1.56075422e+03 2.06520879e+03\n",
      "  8.92195263e+02 1.53921307e+03 1.97121104e+03 4.68539593e+03\n",
      "  5.91794136e+03 6.94721667e+03 5.87799232e+03 4.10770146e+03\n",
      "  6.74551317e+03 6.94330010e+03 1.01826974e+04 8.39595691e+03\n",
      "  1.86918432e+04 1.13408279e+04 1.77060419e+04 8.98931768e+03\n",
      "  1.47263134e+04 1.59110766e+04 1.52405594e+04 1.52154933e+04\n",
      "  1.34604771e+04 1.70222083e+04 1.27848683e+04 1.18488074e+04\n",
      "  1.03452351e+04 1.36774552e+04 1.42978403e+04 1.65953019e+04\n",
      "  1.18703486e+04 1.06452446e+04 1.61045553e+04 1.53192825e+04\n",
      "  1.57924045e+04 1.89691366e+04 9.89600426e+03 1.65298951e+04\n",
      "  1.19055977e+04 2.13288717e+04 1.95644556e+04]\n",
      " [1.76419391e+01 1.69119279e+02 2.42424578e+03 3.20779121e+03\n",
      "  1.38580474e+03 2.39078693e+03 3.06178896e+03 7.27760407e+03\n",
      "  9.19205864e+03 1.07907833e+04 9.13000768e+03 6.38029854e+03\n",
      "  1.04774868e+04 1.07846999e+04 1.58163026e+04 1.30410431e+04\n",
      "  2.90331568e+04 1.76151721e+04 2.75019581e+04 1.39626823e+04\n",
      "  2.28736866e+04 2.47139234e+04 2.36724406e+04 2.36335067e+04\n",
      "  2.09075229e+04 2.64397917e+04 1.98581317e+04 1.84041926e+04\n",
      "  1.60687649e+04 2.12445448e+04 2.22081597e+04 2.57766981e+04\n",
      "  1.84376514e+04 1.65347554e+04 2.50144447e+04 2.37947175e+04\n",
      "  2.45295955e+04 2.94638634e+04 1.53709957e+04 2.56751049e+04\n",
      "  1.84924023e+04 3.31291283e+04 3.03885444e+04]]\n",
      "The p value returned = 0.0 and degrees of freedom returned = 42\n",
      "significance(alpha) = 0.050\n",
      "Dependent (reject H0)\n",
      "---------------oct_purchase_flag Vs customer_ref_id Chi Square Test of Independence -------------------\n",
      "\n",
      " Contingency table :\n",
      "\n",
      "[[ 0  1  0 ...  1  1  1]\n",
      " [10  0 22 ...  0  0  0]]\n",
      "\n",
      " Expected table :\n",
      "\n",
      "[[ 3.91657271  0.39165727  8.61645996 ...  0.39165727  0.39165727\n",
      "   0.39165727]\n",
      " [ 6.08342729  0.60834273 13.38354004 ...  0.60834273  0.60834273\n",
      "   0.60834273]]\n",
      "The p value returned = 0.0 and degrees of freedom returned = 278135\n",
      "significance(alpha) = 0.050\n",
      "Dependent (reject H0)\n",
      "---------------oct_purchase_flag Vs doctor_ref_id Chi Square Test of Independence -------------------\n",
      "\n",
      " Contingency table :\n",
      "\n",
      "[[110 367 138 ...   0   0   0]\n",
      " [164 337 188 ...   2   1   1]]\n",
      "\n",
      " Expected table :\n",
      "\n",
      "[[1.07314092e+02 2.75726719e+02 1.27680270e+02 ... 7.83314542e-01\n",
      "  3.91657271e-01 3.91657271e-01]\n",
      " [1.66685908e+02 4.28273281e+02 1.98319730e+02 ... 1.21668546e+00\n",
      "  6.08342729e-01 6.08342729e-01]]\n",
      "The p value returned = 0.0 and degrees of freedom returned = 72098\n",
      "significance(alpha) = 0.050\n",
      "Dependent (reject H0)\n",
      "---------------oct_purchase_flag Vs payment_method Chi Square Test of Independence -------------------\n",
      "\n",
      " Contingency table :\n",
      "\n",
      "[[ 42964 409265     55   4049   7313     85]\n",
      " [ 78205 624175    118   6146  11500    147]]\n",
      "\n",
      " Expected table :\n",
      "\n",
      "[[4.74567377e+04 4.04754443e+05 6.77567334e+01 3.99294738e+03\n",
      "  7.36825101e+03 9.08645211e+01]\n",
      " [7.37122623e+04 6.28685557e+05 1.05243267e+02 6.20205262e+03\n",
      "  1.14447490e+04 1.41135479e+02]]\n",
      "The p value returned = 3.8701479259078157e-168 and degrees of freedom returned = 5\n",
      "significance(alpha) = 0.050\n",
      "Dependent (reject H0)\n",
      "---------------oct_purchase_flag Vs oct_purchase_flag Chi Square Test of Independence -------------------\n",
      "\n",
      " Contingency table :\n",
      "\n",
      "[[463732      0]\n",
      " [     0 720293]]\n",
      "\n",
      " Expected table :\n",
      "\n",
      "[[181624.00947953 282107.99052047]\n",
      " [282107.99052047 438185.00947953]]\n",
      "The p value returned = 0.0 and degrees of freedom returned = 1\n",
      "significance(alpha) = 0.050\n",
      "Dependent (reject H0)\n"
     ]
    }
   ],
   "source": [
    "for col in cat_cols:                                           #Chi-Square Dependency test for Categorical Columns\n",
    "    find_chi2_independence(col, 'oct_purchase_flag', train_data)"
   ]
  },
  {
   "cell_type": "markdown",
   "metadata": {},
   "source": [
    " __Observation__ \n",
    "\n",
    "- All categorical columns are dependent to target variable \"oct_purchase_flag\""
   ]
  },
  {
   "cell_type": "markdown",
   "metadata": {},
   "source": [
    "#  Visualization (Attribute Analysis)\n",
    "------------------------"
   ]
  },
  {
   "cell_type": "markdown",
   "metadata": {
    "colab_type": "text",
    "id": "9JKliQt4ukB0"
   },
   "source": [
    "### Analysing Categorical Columns"
   ]
  },
  {
   "cell_type": "code",
   "execution_count": 24,
   "metadata": {
    "scrolled": true
   },
   "outputs": [
    {
     "data": {
      "text/html": [
       "<div>\n",
       "<style scoped>\n",
       "    .dataframe tbody tr th:only-of-type {\n",
       "        vertical-align: middle;\n",
       "    }\n",
       "\n",
       "    .dataframe tbody tr th {\n",
       "        vertical-align: top;\n",
       "    }\n",
       "\n",
       "    .dataframe thead th {\n",
       "        text-align: right;\n",
       "    }\n",
       "</style>\n",
       "<table border=\"1\" class=\"dataframe\">\n",
       "  <thead>\n",
       "    <tr style=\"text-align: right;\">\n",
       "      <th></th>\n",
       "      <th>store_ref_id</th>\n",
       "      <th>customer_ref_id</th>\n",
       "      <th>doctor_ref_id</th>\n",
       "      <th>payment_method</th>\n",
       "      <th>oct_purchase_flag</th>\n",
       "    </tr>\n",
       "  </thead>\n",
       "  <tbody>\n",
       "    <tr>\n",
       "      <th>count</th>\n",
       "      <td>1184025</td>\n",
       "      <td>1184025</td>\n",
       "      <td>1184025</td>\n",
       "      <td>1184022</td>\n",
       "      <td>1184025</td>\n",
       "    </tr>\n",
       "    <tr>\n",
       "      <th>unique</th>\n",
       "      <td>43</td>\n",
       "      <td>278136</td>\n",
       "      <td>72099</td>\n",
       "      <td>6</td>\n",
       "      <td>2</td>\n",
       "    </tr>\n",
       "    <tr>\n",
       "      <th>top</th>\n",
       "      <td>471</td>\n",
       "      <td>8383725</td>\n",
       "      <td>6478885</td>\n",
       "      <td>cash</td>\n",
       "      <td>1</td>\n",
       "    </tr>\n",
       "    <tr>\n",
       "      <th>freq</th>\n",
       "      <td>54458</td>\n",
       "      <td>47850</td>\n",
       "      <td>60181</td>\n",
       "      <td>1033440</td>\n",
       "      <td>720293</td>\n",
       "    </tr>\n",
       "  </tbody>\n",
       "</table>\n",
       "</div>"
      ],
      "text/plain": [
       "        store_ref_id  customer_ref_id  doctor_ref_id payment_method  \\\n",
       "count        1184025          1184025        1184025        1184022   \n",
       "unique            43           278136          72099              6   \n",
       "top              471          8383725        6478885           cash   \n",
       "freq           54458            47850          60181        1033440   \n",
       "\n",
       "        oct_purchase_flag  \n",
       "count             1184025  \n",
       "unique                  2  \n",
       "top                     1  \n",
       "freq               720293  "
      ]
     },
     "execution_count": 24,
     "metadata": {},
     "output_type": "execute_result"
    }
   ],
   "source": [
    "train_data.describe(include='category')"
   ]
  },
  {
   "cell_type": "markdown",
   "metadata": {},
   "source": [
    "#### Analysing Target Variable"
   ]
  },
  {
   "cell_type": "code",
   "execution_count": 25,
   "metadata": {},
   "outputs": [
    {
     "data": {
      "image/png": "[encoded data removed]",
      "text/plain": [
       "<Figure size 432x288 with 1 Axes>"
      ]
     },
     "metadata": {
      "needs_background": "light"
     },
     "output_type": "display_data"
    }
   ],
   "source": [
    "sns.countplot(x='oct_purchase_flag',data=train_data, palette='hls')\n",
    "plt.show()"
   ]
  },
  {
   "cell_type": "code",
   "execution_count": 26,
   "metadata": {},
   "outputs": [
    {
     "name": "stdout",
     "output_type": "stream",
     "text": [
      "percentage of no comeback is 39.16572707501953\n",
      "percentage of comeback 60.83427292498047\n"
     ]
    }
   ],
   "source": [
    "count_no_sub = len(train_data[train_data['oct_purchase_flag']==0])\n",
    "count_sub = len(train_data[train_data['oct_purchase_flag']==1])\n",
    "pct_of_no_sub = count_no_sub/(count_no_sub+count_sub)\n",
    "print(\"percentage of no comeback is\", pct_of_no_sub*100)\n",
    "pct_of_sub = count_sub/(count_no_sub+count_sub)\n",
    "print(\"percentage of comeback\", pct_of_sub*100)"
   ]
  },
  {
   "cell_type": "markdown",
   "metadata": {},
   "source": [
    "__Observation:__\n",
    " - 40:60 percent is fine, we do not have class imbalance"
   ]
  },
  {
   "cell_type": "code",
   "execution_count": 27,
   "metadata": {
    "scrolled": true
   },
   "outputs": [
    {
     "data": {
      "text/html": [
       "<div>\n",
       "<style scoped>\n",
       "    .dataframe tbody tr th:only-of-type {\n",
       "        vertical-align: middle;\n",
       "    }\n",
       "\n",
       "    .dataframe tbody tr th {\n",
       "        vertical-align: top;\n",
       "    }\n",
       "\n",
       "    .dataframe thead th {\n",
       "        text-align: right;\n",
       "    }\n",
       "</style>\n",
       "<table border=\"1\" class=\"dataframe\">\n",
       "  <thead>\n",
       "    <tr style=\"text-align: right;\">\n",
       "      <th></th>\n",
       "      <th>num_drugs_bill</th>\n",
       "      <th>total_quantity_bill</th>\n",
       "      <th>mrp_bill</th>\n",
       "      <th>total_spend_bill</th>\n",
       "      <th>return_value_bill</th>\n",
       "      <th>returned_quantity_bill</th>\n",
       "      <th>quantity_ethical</th>\n",
       "      <th>quantity_generic</th>\n",
       "      <th>quantity_surgical</th>\n",
       "      <th>quantity_ayurvedic</th>\n",
       "      <th>quantity_general</th>\n",
       "      <th>quantity_otc</th>\n",
       "      <th>quantity_chronic</th>\n",
       "      <th>quantity_acute</th>\n",
       "      <th>quantity_h1</th>\n",
       "    </tr>\n",
       "    <tr>\n",
       "      <th>oct_purchase_flag</th>\n",
       "      <th></th>\n",
       "      <th></th>\n",
       "      <th></th>\n",
       "      <th></th>\n",
       "      <th></th>\n",
       "      <th></th>\n",
       "      <th></th>\n",
       "      <th></th>\n",
       "      <th></th>\n",
       "      <th></th>\n",
       "      <th></th>\n",
       "      <th></th>\n",
       "      <th></th>\n",
       "      <th></th>\n",
       "      <th></th>\n",
       "    </tr>\n",
       "  </thead>\n",
       "  <tbody>\n",
       "    <tr>\n",
       "      <th>0</th>\n",
       "      <td>2.201323</td>\n",
       "      <td>4.188460</td>\n",
       "      <td>458.776161</td>\n",
       "      <td>286.856986</td>\n",
       "      <td>8.321066</td>\n",
       "      <td>0.094169</td>\n",
       "      <td>1.716047</td>\n",
       "      <td>2.163375</td>\n",
       "      <td>0.159249</td>\n",
       "      <td>0.044508</td>\n",
       "      <td>0.072156</td>\n",
       "      <td>0.013885</td>\n",
       "      <td>1.770805</td>\n",
       "      <td>2.417655</td>\n",
       "      <td>0.043284</td>\n",
       "    </tr>\n",
       "    <tr>\n",
       "      <th>1</th>\n",
       "      <td>2.501154</td>\n",
       "      <td>4.846696</td>\n",
       "      <td>523.132847</td>\n",
       "      <td>319.535992</td>\n",
       "      <td>8.836237</td>\n",
       "      <td>0.102263</td>\n",
       "      <td>1.932198</td>\n",
       "      <td>2.620745</td>\n",
       "      <td>0.140718</td>\n",
       "      <td>0.044461</td>\n",
       "      <td>0.073302</td>\n",
       "      <td>0.014297</td>\n",
       "      <td>2.434059</td>\n",
       "      <td>2.412636</td>\n",
       "      <td>0.037730</td>\n",
       "    </tr>\n",
       "  </tbody>\n",
       "</table>\n",
       "</div>"
      ],
      "text/plain": [
       "                   num_drugs_bill  total_quantity_bill    mrp_bill  \\\n",
       "oct_purchase_flag                                                    \n",
       "0                        2.201323             4.188460  458.776161   \n",
       "1                        2.501154             4.846696  523.132847   \n",
       "\n",
       "                   total_spend_bill  return_value_bill  \\\n",
       "oct_purchase_flag                                        \n",
       "0                        286.856986           8.321066   \n",
       "1                        319.535992           8.836237   \n",
       "\n",
       "                   returned_quantity_bill  quantity_ethical  quantity_generic  \\\n",
       "oct_purchase_flag                                                               \n",
       "0                                0.094169          1.716047          2.163375   \n",
       "1                                0.102263          1.932198          2.620745   \n",
       "\n",
       "                   quantity_surgical  quantity_ayurvedic  quantity_general  \\\n",
       "oct_purchase_flag                                                            \n",
       "0                           0.159249            0.044508          0.072156   \n",
       "1                           0.140718            0.044461          0.073302   \n",
       "\n",
       "                   quantity_otc  quantity_chronic  quantity_acute  quantity_h1  \n",
       "oct_purchase_flag                                                               \n",
       "0                      0.013885          1.770805        2.417655     0.043284  \n",
       "1                      0.014297          2.434059        2.412636     0.037730  "
      ]
     },
     "execution_count": 27,
     "metadata": {},
     "output_type": "execute_result"
    }
   ],
   "source": [
    "train_data.groupby('oct_purchase_flag').mean()"
   ]
  },
  {
   "cell_type": "markdown",
   "metadata": {},
   "source": [
    "### Point to be noted\n",
    " - who is buying more medicines and spending more there are more chances he will come back\n",
    " - who is getting more discount,more chances to come back\n",
    " - if the customer did not visit from long time, means less chances to come back"
   ]
  },
  {
   "cell_type": "code",
   "execution_count": 28,
   "metadata": {
    "scrolled": true
   },
   "outputs": [
    {
     "data": {
      "text/html": [
       "<div>\n",
       "<style scoped>\n",
       "    .dataframe tbody tr th:only-of-type {\n",
       "        vertical-align: middle;\n",
       "    }\n",
       "\n",
       "    .dataframe tbody tr th {\n",
       "        vertical-align: top;\n",
       "    }\n",
       "\n",
       "    .dataframe thead th {\n",
       "        text-align: right;\n",
       "    }\n",
       "</style>\n",
       "<table border=\"1\" class=\"dataframe\">\n",
       "  <thead>\n",
       "    <tr style=\"text-align: right;\">\n",
       "      <th></th>\n",
       "      <th>num_drugs_bill</th>\n",
       "      <th>total_quantity_bill</th>\n",
       "      <th>mrp_bill</th>\n",
       "      <th>total_spend_bill</th>\n",
       "      <th>return_value_bill</th>\n",
       "      <th>returned_quantity_bill</th>\n",
       "      <th>quantity_ethical</th>\n",
       "      <th>quantity_generic</th>\n",
       "      <th>quantity_surgical</th>\n",
       "      <th>quantity_ayurvedic</th>\n",
       "      <th>quantity_general</th>\n",
       "      <th>quantity_otc</th>\n",
       "      <th>quantity_chronic</th>\n",
       "      <th>quantity_acute</th>\n",
       "      <th>quantity_h1</th>\n",
       "    </tr>\n",
       "    <tr>\n",
       "      <th>payment_method</th>\n",
       "      <th></th>\n",
       "      <th></th>\n",
       "      <th></th>\n",
       "      <th></th>\n",
       "      <th></th>\n",
       "      <th></th>\n",
       "      <th></th>\n",
       "      <th></th>\n",
       "      <th></th>\n",
       "      <th></th>\n",
       "      <th></th>\n",
       "      <th></th>\n",
       "      <th></th>\n",
       "      <th></th>\n",
       "      <th></th>\n",
       "    </tr>\n",
       "  </thead>\n",
       "  <tbody>\n",
       "    <tr>\n",
       "      <th>card</th>\n",
       "      <td>3.436027</td>\n",
       "      <td>7.821588</td>\n",
       "      <td>1023.408462</td>\n",
       "      <td>669.476717</td>\n",
       "      <td>16.886068</td>\n",
       "      <td>0.164085</td>\n",
       "      <td>3.553822</td>\n",
       "      <td>3.809795</td>\n",
       "      <td>0.264936</td>\n",
       "      <td>0.055765</td>\n",
       "      <td>0.085822</td>\n",
       "      <td>0.027284</td>\n",
       "      <td>3.964975</td>\n",
       "      <td>3.856613</td>\n",
       "      <td>0.069316</td>\n",
       "    </tr>\n",
       "    <tr>\n",
       "      <th>cash</th>\n",
       "      <td>2.253334</td>\n",
       "      <td>4.184686</td>\n",
       "      <td>432.606092</td>\n",
       "      <td>261.560089</td>\n",
       "      <td>7.636928</td>\n",
       "      <td>0.091612</td>\n",
       "      <td>1.634869</td>\n",
       "      <td>2.270820</td>\n",
       "      <td>0.132911</td>\n",
       "      <td>0.042983</td>\n",
       "      <td>0.070946</td>\n",
       "      <td>0.012255</td>\n",
       "      <td>1.961776</td>\n",
       "      <td>2.222910</td>\n",
       "      <td>0.035788</td>\n",
       "    </tr>\n",
       "    <tr>\n",
       "      <th>cheque</th>\n",
       "      <td>6.965318</td>\n",
       "      <td>40.774566</td>\n",
       "      <td>4919.572370</td>\n",
       "      <td>3689.620760</td>\n",
       "      <td>24.843908</td>\n",
       "      <td>0.202312</td>\n",
       "      <td>25.479769</td>\n",
       "      <td>14.184971</td>\n",
       "      <td>0.265896</td>\n",
       "      <td>0.115607</td>\n",
       "      <td>0.075145</td>\n",
       "      <td>0.647399</td>\n",
       "      <td>20.138728</td>\n",
       "      <td>20.635838</td>\n",
       "      <td>0.734104</td>\n",
       "    </tr>\n",
       "    <tr>\n",
       "      <th>paytm</th>\n",
       "      <td>2.562040</td>\n",
       "      <td>5.146444</td>\n",
       "      <td>577.762016</td>\n",
       "      <td>361.335696</td>\n",
       "      <td>6.884958</td>\n",
       "      <td>0.076999</td>\n",
       "      <td>2.117312</td>\n",
       "      <td>2.687788</td>\n",
       "      <td>0.173124</td>\n",
       "      <td>0.049534</td>\n",
       "      <td>0.080628</td>\n",
       "      <td>0.021775</td>\n",
       "      <td>2.201177</td>\n",
       "      <td>2.945267</td>\n",
       "      <td>0.049338</td>\n",
       "    </tr>\n",
       "    <tr>\n",
       "      <th>phonepe</th>\n",
       "      <td>2.626801</td>\n",
       "      <td>5.310530</td>\n",
       "      <td>614.750264</td>\n",
       "      <td>389.087873</td>\n",
       "      <td>10.560885</td>\n",
       "      <td>0.098974</td>\n",
       "      <td>2.168607</td>\n",
       "      <td>2.756764</td>\n",
       "      <td>0.207357</td>\n",
       "      <td>0.050763</td>\n",
       "      <td>0.085048</td>\n",
       "      <td>0.022697</td>\n",
       "      <td>2.139319</td>\n",
       "      <td>3.171211</td>\n",
       "      <td>0.065168</td>\n",
       "    </tr>\n",
       "    <tr>\n",
       "      <th>upi</th>\n",
       "      <td>2.642241</td>\n",
       "      <td>6.775862</td>\n",
       "      <td>740.648793</td>\n",
       "      <td>492.473983</td>\n",
       "      <td>51.198412</td>\n",
       "      <td>0.379310</td>\n",
       "      <td>2.517241</td>\n",
       "      <td>3.560345</td>\n",
       "      <td>0.159483</td>\n",
       "      <td>0.034483</td>\n",
       "      <td>0.465517</td>\n",
       "      <td>0.021552</td>\n",
       "      <td>1.862069</td>\n",
       "      <td>4.913793</td>\n",
       "      <td>0.038793</td>\n",
       "    </tr>\n",
       "  </tbody>\n",
       "</table>\n",
       "</div>"
      ],
      "text/plain": [
       "                num_drugs_bill  total_quantity_bill     mrp_bill  \\\n",
       "payment_method                                                     \n",
       "card                  3.436027             7.821588  1023.408462   \n",
       "cash                  2.253334             4.184686   432.606092   \n",
       "cheque                6.965318            40.774566  4919.572370   \n",
       "paytm                 2.562040             5.146444   577.762016   \n",
       "phonepe               2.626801             5.310530   614.750264   \n",
       "upi                   2.642241             6.775862   740.648793   \n",
       "\n",
       "                total_spend_bill  return_value_bill  returned_quantity_bill  \\\n",
       "payment_method                                                                \n",
       "card                  669.476717          16.886068                0.164085   \n",
       "cash                  261.560089           7.636928                0.091612   \n",
       "cheque               3689.620760          24.843908                0.202312   \n",
       "paytm                 361.335696           6.884958                0.076999   \n",
       "phonepe               389.087873          10.560885                0.098974   \n",
       "upi                   492.473983          51.198412                0.379310   \n",
       "\n",
       "                quantity_ethical  quantity_generic  quantity_surgical  \\\n",
       "payment_method                                                          \n",
       "card                    3.553822          3.809795           0.264936   \n",
       "cash                    1.634869          2.270820           0.132911   \n",
       "cheque                 25.479769         14.184971           0.265896   \n",
       "paytm                   2.117312          2.687788           0.173124   \n",
       "phonepe                 2.168607          2.756764           0.207357   \n",
       "upi                     2.517241          3.560345           0.159483   \n",
       "\n",
       "                quantity_ayurvedic  quantity_general  quantity_otc  \\\n",
       "payment_method                                                       \n",
       "card                      0.055765          0.085822      0.027284   \n",
       "cash                      0.042983          0.070946      0.012255   \n",
       "cheque                    0.115607          0.075145      0.647399   \n",
       "paytm                     0.049534          0.080628      0.021775   \n",
       "phonepe                   0.050763          0.085048      0.022697   \n",
       "upi                       0.034483          0.465517      0.021552   \n",
       "\n",
       "                quantity_chronic  quantity_acute  quantity_h1  \n",
       "payment_method                                                 \n",
       "card                    3.964975        3.856613     0.069316  \n",
       "cash                    1.961776        2.222910     0.035788  \n",
       "cheque                 20.138728       20.635838     0.734104  \n",
       "paytm                   2.201177        2.945267     0.049338  \n",
       "phonepe                 2.139319        3.171211     0.065168  \n",
       "upi                     1.862069        4.913793     0.038793  "
      ]
     },
     "execution_count": 28,
     "metadata": {},
     "output_type": "execute_result"
    }
   ],
   "source": [
    "train_data.groupby('payment_method').mean()"
   ]
  },
  {
   "cell_type": "code",
   "execution_count": 29,
   "metadata": {
    "scrolled": false
   },
   "outputs": [
    {
     "data": {
      "image/png": "[encoded data removed]",
      "text/plain": [
       "<Figure size 432x288 with 1 Axes>"
      ]
     },
     "metadata": {
      "needs_background": "light"
     },
     "output_type": "display_data"
    }
   ],
   "source": [
    "%matplotlib inline\n",
    "pd.crosstab(train_data.payment_method,train_data.oct_purchase_flag).plot(kind='bar')\n",
    "plt.title('payment method freq')\n",
    "plt.xlabel('payment_method')\n",
    "plt.ylabel('Frequency of Purchase')\n",
    "plt.savefig('freq payment')"
   ]
  },
  {
   "cell_type": "markdown",
   "metadata": {},
   "source": [
    "__Observation:__\n",
    "- payment method is looking independent of customer come back"
   ]
  },
  {
   "cell_type": "code",
   "execution_count": 30,
   "metadata": {},
   "outputs": [
    {
     "data": {
      "text/html": [
       "<div>\n",
       "<style scoped>\n",
       "    .dataframe tbody tr th:only-of-type {\n",
       "        vertical-align: middle;\n",
       "    }\n",
       "\n",
       "    .dataframe tbody tr th {\n",
       "        vertical-align: top;\n",
       "    }\n",
       "\n",
       "    .dataframe thead th {\n",
       "        text-align: right;\n",
       "    }\n",
       "</style>\n",
       "<table border=\"1\" class=\"dataframe\">\n",
       "  <thead>\n",
       "    <tr style=\"text-align: right;\">\n",
       "      <th></th>\n",
       "      <th>num_drugs_bill</th>\n",
       "      <th>total_quantity_bill</th>\n",
       "      <th>mrp_bill</th>\n",
       "      <th>total_spend_bill</th>\n",
       "      <th>return_value_bill</th>\n",
       "      <th>returned_quantity_bill</th>\n",
       "      <th>quantity_ethical</th>\n",
       "      <th>quantity_generic</th>\n",
       "      <th>quantity_surgical</th>\n",
       "      <th>quantity_ayurvedic</th>\n",
       "      <th>quantity_general</th>\n",
       "      <th>quantity_otc</th>\n",
       "      <th>quantity_chronic</th>\n",
       "      <th>quantity_acute</th>\n",
       "      <th>quantity_h1</th>\n",
       "    </tr>\n",
       "    <tr>\n",
       "      <th>store_ref_id</th>\n",
       "      <th></th>\n",
       "      <th></th>\n",
       "      <th></th>\n",
       "      <th></th>\n",
       "      <th></th>\n",
       "      <th></th>\n",
       "      <th></th>\n",
       "      <th></th>\n",
       "      <th></th>\n",
       "      <th></th>\n",
       "      <th></th>\n",
       "      <th></th>\n",
       "      <th></th>\n",
       "      <th></th>\n",
       "      <th></th>\n",
       "    </tr>\n",
       "  </thead>\n",
       "  <tbody>\n",
       "    <tr>\n",
       "      <th>355</th>\n",
       "      <td>1.827586</td>\n",
       "      <td>2.758621</td>\n",
       "      <td>367.837586</td>\n",
       "      <td>234.121897</td>\n",
       "      <td>3.660345</td>\n",
       "      <td>0.034483</td>\n",
       "      <td>1.206897</td>\n",
       "      <td>1.413793</td>\n",
       "      <td>0.000000</td>\n",
       "      <td>0.034483</td>\n",
       "      <td>0.000000</td>\n",
       "      <td>0.068966</td>\n",
       "      <td>1.586207</td>\n",
       "      <td>1.172414</td>\n",
       "      <td>0.000000</td>\n",
       "    </tr>\n",
       "    <tr>\n",
       "      <th>360</th>\n",
       "      <td>1.812950</td>\n",
       "      <td>3.140288</td>\n",
       "      <td>1023.958921</td>\n",
       "      <td>465.261322</td>\n",
       "      <td>152.145863</td>\n",
       "      <td>0.039568</td>\n",
       "      <td>1.241007</td>\n",
       "      <td>1.741007</td>\n",
       "      <td>0.068345</td>\n",
       "      <td>0.003597</td>\n",
       "      <td>0.075540</td>\n",
       "      <td>0.007194</td>\n",
       "      <td>1.064748</td>\n",
       "      <td>2.075540</td>\n",
       "      <td>0.014388</td>\n",
       "    </tr>\n",
       "    <tr>\n",
       "      <th>366</th>\n",
       "      <td>2.212296</td>\n",
       "      <td>4.136512</td>\n",
       "      <td>507.682715</td>\n",
       "      <td>312.615237</td>\n",
       "      <td>23.734895</td>\n",
       "      <td>0.215809</td>\n",
       "      <td>1.449686</td>\n",
       "      <td>2.323212</td>\n",
       "      <td>0.184442</td>\n",
       "      <td>0.053199</td>\n",
       "      <td>0.101380</td>\n",
       "      <td>0.011041</td>\n",
       "      <td>1.723212</td>\n",
       "      <td>2.413300</td>\n",
       "      <td>0.032873</td>\n",
       "    </tr>\n",
       "    <tr>\n",
       "      <th>371</th>\n",
       "      <td>2.205007</td>\n",
       "      <td>3.993173</td>\n",
       "      <td>468.460950</td>\n",
       "      <td>305.795946</td>\n",
       "      <td>18.292959</td>\n",
       "      <td>0.148303</td>\n",
       "      <td>1.733738</td>\n",
       "      <td>1.973070</td>\n",
       "      <td>0.081168</td>\n",
       "      <td>0.072824</td>\n",
       "      <td>0.104684</td>\n",
       "      <td>0.020861</td>\n",
       "      <td>1.597383</td>\n",
       "      <td>2.395790</td>\n",
       "      <td>0.022947</td>\n",
       "    </tr>\n",
       "    <tr>\n",
       "      <th>376</th>\n",
       "      <td>2.072871</td>\n",
       "      <td>3.501756</td>\n",
       "      <td>407.207858</td>\n",
       "      <td>239.510453</td>\n",
       "      <td>11.809129</td>\n",
       "      <td>0.149254</td>\n",
       "      <td>1.285777</td>\n",
       "      <td>1.802458</td>\n",
       "      <td>0.116769</td>\n",
       "      <td>0.053995</td>\n",
       "      <td>0.199298</td>\n",
       "      <td>0.036435</td>\n",
       "      <td>1.295435</td>\n",
       "      <td>2.206321</td>\n",
       "      <td>0.016681</td>\n",
       "    </tr>\n",
       "    <tr>\n",
       "      <th>378</th>\n",
       "      <td>2.046819</td>\n",
       "      <td>3.550127</td>\n",
       "      <td>408.912532</td>\n",
       "      <td>230.362000</td>\n",
       "      <td>13.359457</td>\n",
       "      <td>0.179389</td>\n",
       "      <td>1.288041</td>\n",
       "      <td>2.018321</td>\n",
       "      <td>0.076590</td>\n",
       "      <td>0.082443</td>\n",
       "      <td>0.054198</td>\n",
       "      <td>0.010178</td>\n",
       "      <td>1.466412</td>\n",
       "      <td>2.083715</td>\n",
       "      <td>0.042494</td>\n",
       "    </tr>\n",
       "    <tr>\n",
       "      <th>379</th>\n",
       "      <td>2.278363</td>\n",
       "      <td>4.083251</td>\n",
       "      <td>452.098571</td>\n",
       "      <td>277.289444</td>\n",
       "      <td>17.756820</td>\n",
       "      <td>0.187165</td>\n",
       "      <td>1.585933</td>\n",
       "      <td>2.112060</td>\n",
       "      <td>0.172462</td>\n",
       "      <td>0.049473</td>\n",
       "      <td>0.116630</td>\n",
       "      <td>0.033777</td>\n",
       "      <td>1.476455</td>\n",
       "      <td>2.606795</td>\n",
       "      <td>0.035168</td>\n",
       "    </tr>\n",
       "    <tr>\n",
       "      <th>380</th>\n",
       "      <td>2.581877</td>\n",
       "      <td>5.002341</td>\n",
       "      <td>573.081230</td>\n",
       "      <td>337.024263</td>\n",
       "      <td>19.649905</td>\n",
       "      <td>0.186742</td>\n",
       "      <td>1.554460</td>\n",
       "      <td>3.094876</td>\n",
       "      <td>0.172281</td>\n",
       "      <td>0.037616</td>\n",
       "      <td>0.104823</td>\n",
       "      <td>0.016551</td>\n",
       "      <td>2.141520</td>\n",
       "      <td>2.860821</td>\n",
       "      <td>0.032183</td>\n",
       "    </tr>\n",
       "    <tr>\n",
       "      <th>386</th>\n",
       "      <td>2.313567</td>\n",
       "      <td>4.054732</td>\n",
       "      <td>442.845169</td>\n",
       "      <td>266.198048</td>\n",
       "      <td>14.905215</td>\n",
       "      <td>0.172204</td>\n",
       "      <td>1.538782</td>\n",
       "      <td>2.243216</td>\n",
       "      <td>0.111714</td>\n",
       "      <td>0.054136</td>\n",
       "      <td>0.074983</td>\n",
       "      <td>0.013038</td>\n",
       "      <td>1.827796</td>\n",
       "      <td>2.226936</td>\n",
       "      <td>0.022038</td>\n",
       "    </tr>\n",
       "    <tr>\n",
       "      <th>389</th>\n",
       "      <td>2.139587</td>\n",
       "      <td>3.752170</td>\n",
       "      <td>414.713478</td>\n",
       "      <td>261.321752</td>\n",
       "      <td>8.837739</td>\n",
       "      <td>0.090822</td>\n",
       "      <td>1.518830</td>\n",
       "      <td>1.928910</td>\n",
       "      <td>0.143872</td>\n",
       "      <td>0.052261</td>\n",
       "      <td>0.085015</td>\n",
       "      <td>0.006822</td>\n",
       "      <td>1.587439</td>\n",
       "      <td>2.164731</td>\n",
       "      <td>0.030443</td>\n",
       "    </tr>\n",
       "    <tr>\n",
       "      <th>392</th>\n",
       "      <td>2.387660</td>\n",
       "      <td>4.948761</td>\n",
       "      <td>531.813992</td>\n",
       "      <td>311.932719</td>\n",
       "      <td>10.642476</td>\n",
       "      <td>0.127265</td>\n",
       "      <td>1.740472</td>\n",
       "      <td>2.864872</td>\n",
       "      <td>0.145322</td>\n",
       "      <td>0.044776</td>\n",
       "      <td>0.114606</td>\n",
       "      <td>0.023054</td>\n",
       "      <td>2.264392</td>\n",
       "      <td>2.684368</td>\n",
       "      <td>0.030850</td>\n",
       "    </tr>\n",
       "    <tr>\n",
       "      <th>393</th>\n",
       "      <td>2.108696</td>\n",
       "      <td>3.849447</td>\n",
       "      <td>423.704812</td>\n",
       "      <td>280.329818</td>\n",
       "      <td>14.429800</td>\n",
       "      <td>0.136537</td>\n",
       "      <td>1.765065</td>\n",
       "      <td>1.622521</td>\n",
       "      <td>0.141400</td>\n",
       "      <td>0.060450</td>\n",
       "      <td>0.223398</td>\n",
       "      <td>0.024695</td>\n",
       "      <td>1.465770</td>\n",
       "      <td>2.383677</td>\n",
       "      <td>0.032609</td>\n",
       "    </tr>\n",
       "    <tr>\n",
       "      <th>396</th>\n",
       "      <td>2.003890</td>\n",
       "      <td>3.276955</td>\n",
       "      <td>358.929270</td>\n",
       "      <td>216.233531</td>\n",
       "      <td>11.423674</td>\n",
       "      <td>0.120885</td>\n",
       "      <td>1.119201</td>\n",
       "      <td>1.806538</td>\n",
       "      <td>0.172212</td>\n",
       "      <td>0.059804</td>\n",
       "      <td>0.097079</td>\n",
       "      <td>0.004819</td>\n",
       "      <td>1.274052</td>\n",
       "      <td>2.002903</td>\n",
       "      <td>0.033328</td>\n",
       "    </tr>\n",
       "    <tr>\n",
       "      <th>399</th>\n",
       "      <td>2.718355</td>\n",
       "      <td>5.304490</td>\n",
       "      <td>570.309486</td>\n",
       "      <td>337.911410</td>\n",
       "      <td>10.802572</td>\n",
       "      <td>0.139892</td>\n",
       "      <td>1.691505</td>\n",
       "      <td>3.045860</td>\n",
       "      <td>0.297383</td>\n",
       "      <td>0.052065</td>\n",
       "      <td>0.179039</td>\n",
       "      <td>0.008912</td>\n",
       "      <td>2.354242</td>\n",
       "      <td>2.950248</td>\n",
       "      <td>0.043378</td>\n",
       "    </tr>\n",
       "    <tr>\n",
       "      <th>402</th>\n",
       "      <td>2.521328</td>\n",
       "      <td>3.918458</td>\n",
       "      <td>404.589228</td>\n",
       "      <td>248.028246</td>\n",
       "      <td>6.053946</td>\n",
       "      <td>0.068310</td>\n",
       "      <td>1.697565</td>\n",
       "      <td>1.983769</td>\n",
       "      <td>0.120389</td>\n",
       "      <td>0.040578</td>\n",
       "      <td>0.042348</td>\n",
       "      <td>0.012462</td>\n",
       "      <td>1.457710</td>\n",
       "      <td>2.460748</td>\n",
       "      <td>0.037578</td>\n",
       "    </tr>\n",
       "    <tr>\n",
       "      <th>405</th>\n",
       "      <td>2.263376</td>\n",
       "      <td>4.349069</td>\n",
       "      <td>485.373584</td>\n",
       "      <td>312.297842</td>\n",
       "      <td>9.533935</td>\n",
       "      <td>0.100480</td>\n",
       "      <td>1.905864</td>\n",
       "      <td>2.097168</td>\n",
       "      <td>0.133368</td>\n",
       "      <td>0.055372</td>\n",
       "      <td>0.131408</td>\n",
       "      <td>0.016187</td>\n",
       "      <td>1.979941</td>\n",
       "      <td>2.369128</td>\n",
       "      <td>0.022998</td>\n",
       "    </tr>\n",
       "    <tr>\n",
       "      <th>408</th>\n",
       "      <td>2.078575</td>\n",
       "      <td>3.879979</td>\n",
       "      <td>402.818642</td>\n",
       "      <td>234.485810</td>\n",
       "      <td>4.908522</td>\n",
       "      <td>0.062567</td>\n",
       "      <td>1.291399</td>\n",
       "      <td>2.299235</td>\n",
       "      <td>0.132907</td>\n",
       "      <td>0.048528</td>\n",
       "      <td>0.080314</td>\n",
       "      <td>0.010414</td>\n",
       "      <td>1.672897</td>\n",
       "      <td>2.207082</td>\n",
       "      <td>0.023719</td>\n",
       "    </tr>\n",
       "    <tr>\n",
       "      <th>411</th>\n",
       "      <td>2.394530</td>\n",
       "      <td>4.599807</td>\n",
       "      <td>512.573544</td>\n",
       "      <td>323.115491</td>\n",
       "      <td>9.684083</td>\n",
       "      <td>0.103605</td>\n",
       "      <td>1.743542</td>\n",
       "      <td>2.459939</td>\n",
       "      <td>0.178616</td>\n",
       "      <td>0.094143</td>\n",
       "      <td>0.094212</td>\n",
       "      <td>0.014919</td>\n",
       "      <td>1.949199</td>\n",
       "      <td>2.650608</td>\n",
       "      <td>0.055118</td>\n",
       "    </tr>\n",
       "    <tr>\n",
       "      <th>412</th>\n",
       "      <td>2.427004</td>\n",
       "      <td>4.684082</td>\n",
       "      <td>526.153298</td>\n",
       "      <td>330.010288</td>\n",
       "      <td>6.638453</td>\n",
       "      <td>0.076712</td>\n",
       "      <td>1.828437</td>\n",
       "      <td>2.533180</td>\n",
       "      <td>0.141148</td>\n",
       "      <td>0.053265</td>\n",
       "      <td>0.102393</td>\n",
       "      <td>0.005663</td>\n",
       "      <td>2.189988</td>\n",
       "      <td>2.494094</td>\n",
       "      <td>0.014732</td>\n",
       "    </tr>\n",
       "    <tr>\n",
       "      <th>414</th>\n",
       "      <td>2.282067</td>\n",
       "      <td>4.178721</td>\n",
       "      <td>457.133022</td>\n",
       "      <td>288.407612</td>\n",
       "      <td>9.614351</td>\n",
       "      <td>0.111014</td>\n",
       "      <td>1.857964</td>\n",
       "      <td>2.042262</td>\n",
       "      <td>0.117114</td>\n",
       "      <td>0.036075</td>\n",
       "      <td>0.075505</td>\n",
       "      <td>0.022656</td>\n",
       "      <td>1.895434</td>\n",
       "      <td>2.283287</td>\n",
       "      <td>0.057903</td>\n",
       "    </tr>\n",
       "    <tr>\n",
       "      <th>418</th>\n",
       "      <td>2.059734</td>\n",
       "      <td>3.448644</td>\n",
       "      <td>377.595344</td>\n",
       "      <td>237.254457</td>\n",
       "      <td>4.122019</td>\n",
       "      <td>0.046649</td>\n",
       "      <td>1.305931</td>\n",
       "      <td>1.874814</td>\n",
       "      <td>0.120559</td>\n",
       "      <td>0.047713</td>\n",
       "      <td>0.067234</td>\n",
       "      <td>0.012287</td>\n",
       "      <td>1.396649</td>\n",
       "      <td>2.051995</td>\n",
       "      <td>0.027074</td>\n",
       "    </tr>\n",
       "    <tr>\n",
       "      <th>421</th>\n",
       "      <td>2.241994</td>\n",
       "      <td>3.926868</td>\n",
       "      <td>414.739834</td>\n",
       "      <td>273.282722</td>\n",
       "      <td>4.261282</td>\n",
       "      <td>0.051717</td>\n",
       "      <td>1.928123</td>\n",
       "      <td>1.747422</td>\n",
       "      <td>0.113994</td>\n",
       "      <td>0.043397</td>\n",
       "      <td>0.067077</td>\n",
       "      <td>0.011618</td>\n",
       "      <td>1.885022</td>\n",
       "      <td>2.041846</td>\n",
       "      <td>0.027151</td>\n",
       "    </tr>\n",
       "    <tr>\n",
       "      <th>424</th>\n",
       "      <td>2.426156</td>\n",
       "      <td>4.872125</td>\n",
       "      <td>495.351941</td>\n",
       "      <td>285.592031</td>\n",
       "      <td>8.533977</td>\n",
       "      <td>0.112430</td>\n",
       "      <td>1.896076</td>\n",
       "      <td>2.616401</td>\n",
       "      <td>0.211472</td>\n",
       "      <td>0.040192</td>\n",
       "      <td>0.072135</td>\n",
       "      <td>0.016113</td>\n",
       "      <td>2.271657</td>\n",
       "      <td>2.600468</td>\n",
       "      <td>0.092565</td>\n",
       "    </tr>\n",
       "    <tr>\n",
       "      <th>430</th>\n",
       "      <td>2.559680</td>\n",
       "      <td>4.981415</td>\n",
       "      <td>544.618791</td>\n",
       "      <td>348.045004</td>\n",
       "      <td>7.911846</td>\n",
       "      <td>0.075652</td>\n",
       "      <td>2.139437</td>\n",
       "      <td>2.516075</td>\n",
       "      <td>0.136117</td>\n",
       "      <td>0.049087</td>\n",
       "      <td>0.106901</td>\n",
       "      <td>0.018379</td>\n",
       "      <td>2.375196</td>\n",
       "      <td>2.606219</td>\n",
       "      <td>0.011094</td>\n",
       "    </tr>\n",
       "    <tr>\n",
       "      <th>432</th>\n",
       "      <td>2.435201</td>\n",
       "      <td>5.068465</td>\n",
       "      <td>536.766391</td>\n",
       "      <td>323.720743</td>\n",
       "      <td>8.075781</td>\n",
       "      <td>0.097824</td>\n",
       "      <td>1.969186</td>\n",
       "      <td>2.871421</td>\n",
       "      <td>0.103090</td>\n",
       "      <td>0.031832</td>\n",
       "      <td>0.069309</td>\n",
       "      <td>0.009660</td>\n",
       "      <td>2.524325</td>\n",
       "      <td>2.544140</td>\n",
       "      <td>0.031628</td>\n",
       "    </tr>\n",
       "    <tr>\n",
       "      <th>435</th>\n",
       "      <td>2.331508</td>\n",
       "      <td>4.621670</td>\n",
       "      <td>530.237034</td>\n",
       "      <td>336.772774</td>\n",
       "      <td>8.440129</td>\n",
       "      <td>0.078551</td>\n",
       "      <td>1.890824</td>\n",
       "      <td>2.359740</td>\n",
       "      <td>0.188118</td>\n",
       "      <td>0.049307</td>\n",
       "      <td>0.102526</td>\n",
       "      <td>0.011688</td>\n",
       "      <td>2.107519</td>\n",
       "      <td>2.514150</td>\n",
       "      <td>0.015600</td>\n",
       "    </tr>\n",
       "    <tr>\n",
       "      <th>436</th>\n",
       "      <td>2.264988</td>\n",
       "      <td>3.806574</td>\n",
       "      <td>384.076064</td>\n",
       "      <td>234.748421</td>\n",
       "      <td>5.383238</td>\n",
       "      <td>0.060564</td>\n",
       "      <td>1.456514</td>\n",
       "      <td>2.049015</td>\n",
       "      <td>0.127807</td>\n",
       "      <td>0.064914</td>\n",
       "      <td>0.072787</td>\n",
       "      <td>0.016604</td>\n",
       "      <td>1.486260</td>\n",
       "      <td>2.320314</td>\n",
       "      <td>0.051772</td>\n",
       "    </tr>\n",
       "    <tr>\n",
       "      <th>439</th>\n",
       "      <td>2.536839</td>\n",
       "      <td>4.746868</td>\n",
       "      <td>505.127703</td>\n",
       "      <td>299.401791</td>\n",
       "      <td>12.289998</td>\n",
       "      <td>0.114765</td>\n",
       "      <td>1.711367</td>\n",
       "      <td>2.695898</td>\n",
       "      <td>0.178296</td>\n",
       "      <td>0.042740</td>\n",
       "      <td>0.066737</td>\n",
       "      <td>0.020626</td>\n",
       "      <td>2.089380</td>\n",
       "      <td>2.657489</td>\n",
       "      <td>0.053548</td>\n",
       "    </tr>\n",
       "    <tr>\n",
       "      <th>441</th>\n",
       "      <td>2.419437</td>\n",
       "      <td>4.872378</td>\n",
       "      <td>540.445234</td>\n",
       "      <td>324.436066</td>\n",
       "      <td>7.281731</td>\n",
       "      <td>0.080412</td>\n",
       "      <td>1.847392</td>\n",
       "      <td>2.688309</td>\n",
       "      <td>0.207655</td>\n",
       "      <td>0.042326</td>\n",
       "      <td>0.040660</td>\n",
       "      <td>0.023321</td>\n",
       "      <td>2.418074</td>\n",
       "      <td>2.454305</td>\n",
       "      <td>0.065496</td>\n",
       "    </tr>\n",
       "    <tr>\n",
       "      <th>444</th>\n",
       "      <td>2.513315</td>\n",
       "      <td>4.832427</td>\n",
       "      <td>551.943934</td>\n",
       "      <td>328.876245</td>\n",
       "      <td>7.217365</td>\n",
       "      <td>0.087710</td>\n",
       "      <td>1.891759</td>\n",
       "      <td>2.565947</td>\n",
       "      <td>0.222267</td>\n",
       "      <td>0.040204</td>\n",
       "      <td>0.067751</td>\n",
       "      <td>0.013831</td>\n",
       "      <td>2.214306</td>\n",
       "      <td>2.618120</td>\n",
       "      <td>0.040490</td>\n",
       "    </tr>\n",
       "    <tr>\n",
       "      <th>447</th>\n",
       "      <td>2.355202</td>\n",
       "      <td>4.741303</td>\n",
       "      <td>496.013671</td>\n",
       "      <td>299.902497</td>\n",
       "      <td>6.990130</td>\n",
       "      <td>0.082069</td>\n",
       "      <td>1.867611</td>\n",
       "      <td>2.554101</td>\n",
       "      <td>0.150304</td>\n",
       "      <td>0.044321</td>\n",
       "      <td>0.083411</td>\n",
       "      <td>0.019613</td>\n",
       "      <td>2.156358</td>\n",
       "      <td>2.584945</td>\n",
       "      <td>0.033310</td>\n",
       "    </tr>\n",
       "    <tr>\n",
       "      <th>449</th>\n",
       "      <td>2.261965</td>\n",
       "      <td>3.833593</td>\n",
       "      <td>412.548001</td>\n",
       "      <td>274.486030</td>\n",
       "      <td>5.691525</td>\n",
       "      <td>0.059992</td>\n",
       "      <td>1.866893</td>\n",
       "      <td>1.659587</td>\n",
       "      <td>0.145969</td>\n",
       "      <td>0.049891</td>\n",
       "      <td>0.067946</td>\n",
       "      <td>0.020037</td>\n",
       "      <td>1.792363</td>\n",
       "      <td>2.041230</td>\n",
       "      <td>0.057868</td>\n",
       "    </tr>\n",
       "    <tr>\n",
       "      <th>452</th>\n",
       "      <td>2.560644</td>\n",
       "      <td>5.257622</td>\n",
       "      <td>553.558064</td>\n",
       "      <td>327.569246</td>\n",
       "      <td>8.689761</td>\n",
       "      <td>0.112743</td>\n",
       "      <td>2.017916</td>\n",
       "      <td>3.006599</td>\n",
       "      <td>0.117230</td>\n",
       "      <td>0.035403</td>\n",
       "      <td>0.048172</td>\n",
       "      <td>0.012472</td>\n",
       "      <td>2.658506</td>\n",
       "      <td>2.599116</td>\n",
       "      <td>0.039758</td>\n",
       "    </tr>\n",
       "    <tr>\n",
       "      <th>454</th>\n",
       "      <td>2.352649</td>\n",
       "      <td>4.650809</td>\n",
       "      <td>517.978158</td>\n",
       "      <td>317.505722</td>\n",
       "      <td>8.843900</td>\n",
       "      <td>0.099301</td>\n",
       "      <td>1.723068</td>\n",
       "      <td>2.587969</td>\n",
       "      <td>0.162730</td>\n",
       "      <td>0.049926</td>\n",
       "      <td>0.089698</td>\n",
       "      <td>0.019794</td>\n",
       "      <td>2.219463</td>\n",
       "      <td>2.431347</td>\n",
       "      <td>0.058168</td>\n",
       "    </tr>\n",
       "    <tr>\n",
       "      <th>455</th>\n",
       "      <td>2.356940</td>\n",
       "      <td>4.401518</td>\n",
       "      <td>459.892080</td>\n",
       "      <td>277.645497</td>\n",
       "      <td>8.155831</td>\n",
       "      <td>0.166176</td>\n",
       "      <td>1.694983</td>\n",
       "      <td>2.494759</td>\n",
       "      <td>0.118023</td>\n",
       "      <td>0.037233</td>\n",
       "      <td>0.029232</td>\n",
       "      <td>0.005666</td>\n",
       "      <td>2.082954</td>\n",
       "      <td>2.318563</td>\n",
       "      <td>0.041027</td>\n",
       "    </tr>\n",
       "    <tr>\n",
       "      <th>456</th>\n",
       "      <td>2.624789</td>\n",
       "      <td>5.875441</td>\n",
       "      <td>642.764081</td>\n",
       "      <td>398.835376</td>\n",
       "      <td>6.520110</td>\n",
       "      <td>0.079409</td>\n",
       "      <td>2.294754</td>\n",
       "      <td>3.289589</td>\n",
       "      <td>0.160198</td>\n",
       "      <td>0.041673</td>\n",
       "      <td>0.060439</td>\n",
       "      <td>0.011096</td>\n",
       "      <td>3.284962</td>\n",
       "      <td>2.590479</td>\n",
       "      <td>0.008079</td>\n",
       "    </tr>\n",
       "    <tr>\n",
       "      <th>458</th>\n",
       "      <td>2.511433</td>\n",
       "      <td>4.864863</td>\n",
       "      <td>553.661952</td>\n",
       "      <td>337.981797</td>\n",
       "      <td>8.734621</td>\n",
       "      <td>0.092505</td>\n",
       "      <td>2.017211</td>\n",
       "      <td>2.583652</td>\n",
       "      <td>0.152175</td>\n",
       "      <td>0.035961</td>\n",
       "      <td>0.044145</td>\n",
       "      <td>0.010863</td>\n",
       "      <td>2.514037</td>\n",
       "      <td>2.350826</td>\n",
       "      <td>0.039011</td>\n",
       "    </tr>\n",
       "    <tr>\n",
       "      <th>459</th>\n",
       "      <td>2.461648</td>\n",
       "      <td>4.460925</td>\n",
       "      <td>496.675873</td>\n",
       "      <td>308.164941</td>\n",
       "      <td>12.484345</td>\n",
       "      <td>0.134454</td>\n",
       "      <td>1.902917</td>\n",
       "      <td>2.285983</td>\n",
       "      <td>0.160696</td>\n",
       "      <td>0.033985</td>\n",
       "      <td>0.042492</td>\n",
       "      <td>0.014081</td>\n",
       "      <td>2.124564</td>\n",
       "      <td>2.336362</td>\n",
       "      <td>0.073731</td>\n",
       "    </tr>\n",
       "    <tr>\n",
       "      <th>462</th>\n",
       "      <td>2.363993</td>\n",
       "      <td>5.122136</td>\n",
       "      <td>536.746386</td>\n",
       "      <td>330.128364</td>\n",
       "      <td>6.021787</td>\n",
       "      <td>0.069894</td>\n",
       "      <td>2.054102</td>\n",
       "      <td>2.708513</td>\n",
       "      <td>0.162821</td>\n",
       "      <td>0.049036</td>\n",
       "      <td>0.095065</td>\n",
       "      <td>0.026042</td>\n",
       "      <td>2.433609</td>\n",
       "      <td>2.688527</td>\n",
       "      <td>0.053311</td>\n",
       "    </tr>\n",
       "    <tr>\n",
       "      <th>467</th>\n",
       "      <td>2.214335</td>\n",
       "      <td>4.103661</td>\n",
       "      <td>438.021157</td>\n",
       "      <td>274.015993</td>\n",
       "      <td>8.694324</td>\n",
       "      <td>0.098495</td>\n",
       "      <td>1.734937</td>\n",
       "      <td>2.152660</td>\n",
       "      <td>0.088686</td>\n",
       "      <td>0.040043</td>\n",
       "      <td>0.052032</td>\n",
       "      <td>0.014998</td>\n",
       "      <td>1.960502</td>\n",
       "      <td>2.143158</td>\n",
       "      <td>0.037413</td>\n",
       "    </tr>\n",
       "    <tr>\n",
       "      <th>468</th>\n",
       "      <td>2.282683</td>\n",
       "      <td>4.540101</td>\n",
       "      <td>488.691914</td>\n",
       "      <td>299.885079</td>\n",
       "      <td>8.644195</td>\n",
       "      <td>0.109086</td>\n",
       "      <td>1.874465</td>\n",
       "      <td>2.400717</td>\n",
       "      <td>0.152707</td>\n",
       "      <td>0.032272</td>\n",
       "      <td>0.032634</td>\n",
       "      <td>0.014113</td>\n",
       "      <td>2.292552</td>\n",
       "      <td>2.247549</td>\n",
       "      <td>0.045760</td>\n",
       "    </tr>\n",
       "    <tr>\n",
       "      <th>471</th>\n",
       "      <td>2.672316</td>\n",
       "      <td>5.593430</td>\n",
       "      <td>600.126326</td>\n",
       "      <td>367.074862</td>\n",
       "      <td>11.335142</td>\n",
       "      <td>0.138767</td>\n",
       "      <td>2.345845</td>\n",
       "      <td>2.986283</td>\n",
       "      <td>0.151107</td>\n",
       "      <td>0.030684</td>\n",
       "      <td>0.049708</td>\n",
       "      <td>0.009769</td>\n",
       "      <td>2.970179</td>\n",
       "      <td>2.623251</td>\n",
       "      <td>0.048514</td>\n",
       "    </tr>\n",
       "    <tr>\n",
       "      <th>473</th>\n",
       "      <td>2.536044</td>\n",
       "      <td>5.530098</td>\n",
       "      <td>605.899849</td>\n",
       "      <td>383.860279</td>\n",
       "      <td>11.156099</td>\n",
       "      <td>0.123957</td>\n",
       "      <td>2.496667</td>\n",
       "      <td>2.833023</td>\n",
       "      <td>0.103838</td>\n",
       "      <td>0.023983</td>\n",
       "      <td>0.039537</td>\n",
       "      <td>0.012972</td>\n",
       "      <td>3.170761</td>\n",
       "      <td>2.359338</td>\n",
       "      <td>0.041619</td>\n",
       "    </tr>\n",
       "  </tbody>\n",
       "</table>\n",
       "</div>"
      ],
      "text/plain": [
       "              num_drugs_bill  total_quantity_bill     mrp_bill  \\\n",
       "store_ref_id                                                     \n",
       "355                 1.827586             2.758621   367.837586   \n",
       "360                 1.812950             3.140288  1023.958921   \n",
       "366                 2.212296             4.136512   507.682715   \n",
       "371                 2.205007             3.993173   468.460950   \n",
       "376                 2.072871             3.501756   407.207858   \n",
       "378                 2.046819             3.550127   408.912532   \n",
       "379                 2.278363             4.083251   452.098571   \n",
       "380                 2.581877             5.002341   573.081230   \n",
       "386                 2.313567             4.054732   442.845169   \n",
       "389                 2.139587             3.752170   414.713478   \n",
       "392                 2.387660             4.948761   531.813992   \n",
       "393                 2.108696             3.849447   423.704812   \n",
       "396                 2.003890             3.276955   358.929270   \n",
       "399                 2.718355             5.304490   570.309486   \n",
       "402                 2.521328             3.918458   404.589228   \n",
       "405                 2.263376             4.349069   485.373584   \n",
       "408                 2.078575             3.879979   402.818642   \n",
       "411                 2.394530             4.599807   512.573544   \n",
       "412                 2.427004             4.684082   526.153298   \n",
       "414                 2.282067             4.178721   457.133022   \n",
       "418                 2.059734             3.448644   377.595344   \n",
       "421                 2.241994             3.926868   414.739834   \n",
       "424                 2.426156             4.872125   495.351941   \n",
       "430                 2.559680             4.981415   544.618791   \n",
       "432                 2.435201             5.068465   536.766391   \n",
       "435                 2.331508             4.621670   530.237034   \n",
       "436                 2.264988             3.806574   384.076064   \n",
       "439                 2.536839             4.746868   505.127703   \n",
       "441                 2.419437             4.872378   540.445234   \n",
       "444                 2.513315             4.832427   551.943934   \n",
       "447                 2.355202             4.741303   496.013671   \n",
       "449                 2.261965             3.833593   412.548001   \n",
       "452                 2.560644             5.257622   553.558064   \n",
       "454                 2.352649             4.650809   517.978158   \n",
       "455                 2.356940             4.401518   459.892080   \n",
       "456                 2.624789             5.875441   642.764081   \n",
       "458                 2.511433             4.864863   553.661952   \n",
       "459                 2.461648             4.460925   496.675873   \n",
       "462                 2.363993             5.122136   536.746386   \n",
       "467                 2.214335             4.103661   438.021157   \n",
       "468                 2.282683             4.540101   488.691914   \n",
       "471                 2.672316             5.593430   600.126326   \n",
       "473                 2.536044             5.530098   605.899849   \n",
       "\n",
       "              total_spend_bill  return_value_bill  returned_quantity_bill  \\\n",
       "store_ref_id                                                                \n",
       "355                 234.121897           3.660345                0.034483   \n",
       "360                 465.261322         152.145863                0.039568   \n",
       "366                 312.615237          23.734895                0.215809   \n",
       "371                 305.795946          18.292959                0.148303   \n",
       "376                 239.510453          11.809129                0.149254   \n",
       "378                 230.362000          13.359457                0.179389   \n",
       "379                 277.289444          17.756820                0.187165   \n",
       "380                 337.024263          19.649905                0.186742   \n",
       "386                 266.198048          14.905215                0.172204   \n",
       "389                 261.321752           8.837739                0.090822   \n",
       "392                 311.932719          10.642476                0.127265   \n",
       "393                 280.329818          14.429800                0.136537   \n",
       "396                 216.233531          11.423674                0.120885   \n",
       "399                 337.911410          10.802572                0.139892   \n",
       "402                 248.028246           6.053946                0.068310   \n",
       "405                 312.297842           9.533935                0.100480   \n",
       "408                 234.485810           4.908522                0.062567   \n",
       "411                 323.115491           9.684083                0.103605   \n",
       "412                 330.010288           6.638453                0.076712   \n",
       "414                 288.407612           9.614351                0.111014   \n",
       "418                 237.254457           4.122019                0.046649   \n",
       "421                 273.282722           4.261282                0.051717   \n",
       "424                 285.592031           8.533977                0.112430   \n",
       "430                 348.045004           7.911846                0.075652   \n",
       "432                 323.720743           8.075781                0.097824   \n",
       "435                 336.772774           8.440129                0.078551   \n",
       "436                 234.748421           5.383238                0.060564   \n",
       "439                 299.401791          12.289998                0.114765   \n",
       "441                 324.436066           7.281731                0.080412   \n",
       "444                 328.876245           7.217365                0.087710   \n",
       "447                 299.902497           6.990130                0.082069   \n",
       "449                 274.486030           5.691525                0.059992   \n",
       "452                 327.569246           8.689761                0.112743   \n",
       "454                 317.505722           8.843900                0.099301   \n",
       "455                 277.645497           8.155831                0.166176   \n",
       "456                 398.835376           6.520110                0.079409   \n",
       "458                 337.981797           8.734621                0.092505   \n",
       "459                 308.164941          12.484345                0.134454   \n",
       "462                 330.128364           6.021787                0.069894   \n",
       "467                 274.015993           8.694324                0.098495   \n",
       "468                 299.885079           8.644195                0.109086   \n",
       "471                 367.074862          11.335142                0.138767   \n",
       "473                 383.860279          11.156099                0.123957   \n",
       "\n",
       "              quantity_ethical  quantity_generic  quantity_surgical  \\\n",
       "store_ref_id                                                          \n",
       "355                   1.206897          1.413793           0.000000   \n",
       "360                   1.241007          1.741007           0.068345   \n",
       "366                   1.449686          2.323212           0.184442   \n",
       "371                   1.733738          1.973070           0.081168   \n",
       "376                   1.285777          1.802458           0.116769   \n",
       "378                   1.288041          2.018321           0.076590   \n",
       "379                   1.585933          2.112060           0.172462   \n",
       "380                   1.554460          3.094876           0.172281   \n",
       "386                   1.538782          2.243216           0.111714   \n",
       "389                   1.518830          1.928910           0.143872   \n",
       "392                   1.740472          2.864872           0.145322   \n",
       "393                   1.765065          1.622521           0.141400   \n",
       "396                   1.119201          1.806538           0.172212   \n",
       "399                   1.691505          3.045860           0.297383   \n",
       "402                   1.697565          1.983769           0.120389   \n",
       "405                   1.905864          2.097168           0.133368   \n",
       "408                   1.291399          2.299235           0.132907   \n",
       "411                   1.743542          2.459939           0.178616   \n",
       "412                   1.828437          2.533180           0.141148   \n",
       "414                   1.857964          2.042262           0.117114   \n",
       "418                   1.305931          1.874814           0.120559   \n",
       "421                   1.928123          1.747422           0.113994   \n",
       "424                   1.896076          2.616401           0.211472   \n",
       "430                   2.139437          2.516075           0.136117   \n",
       "432                   1.969186          2.871421           0.103090   \n",
       "435                   1.890824          2.359740           0.188118   \n",
       "436                   1.456514          2.049015           0.127807   \n",
       "439                   1.711367          2.695898           0.178296   \n",
       "441                   1.847392          2.688309           0.207655   \n",
       "444                   1.891759          2.565947           0.222267   \n",
       "447                   1.867611          2.554101           0.150304   \n",
       "449                   1.866893          1.659587           0.145969   \n",
       "452                   2.017916          3.006599           0.117230   \n",
       "454                   1.723068          2.587969           0.162730   \n",
       "455                   1.694983          2.494759           0.118023   \n",
       "456                   2.294754          3.289589           0.160198   \n",
       "458                   2.017211          2.583652           0.152175   \n",
       "459                   1.902917          2.285983           0.160696   \n",
       "462                   2.054102          2.708513           0.162821   \n",
       "467                   1.734937          2.152660           0.088686   \n",
       "468                   1.874465          2.400717           0.152707   \n",
       "471                   2.345845          2.986283           0.151107   \n",
       "473                   2.496667          2.833023           0.103838   \n",
       "\n",
       "              quantity_ayurvedic  quantity_general  quantity_otc  \\\n",
       "store_ref_id                                                       \n",
       "355                     0.034483          0.000000      0.068966   \n",
       "360                     0.003597          0.075540      0.007194   \n",
       "366                     0.053199          0.101380      0.011041   \n",
       "371                     0.072824          0.104684      0.020861   \n",
       "376                     0.053995          0.199298      0.036435   \n",
       "378                     0.082443          0.054198      0.010178   \n",
       "379                     0.049473          0.116630      0.033777   \n",
       "380                     0.037616          0.104823      0.016551   \n",
       "386                     0.054136          0.074983      0.013038   \n",
       "389                     0.052261          0.085015      0.006822   \n",
       "392                     0.044776          0.114606      0.023054   \n",
       "393                     0.060450          0.223398      0.024695   \n",
       "396                     0.059804          0.097079      0.004819   \n",
       "399                     0.052065          0.179039      0.008912   \n",
       "402                     0.040578          0.042348      0.012462   \n",
       "405                     0.055372          0.131408      0.016187   \n",
       "408                     0.048528          0.080314      0.010414   \n",
       "411                     0.094143          0.094212      0.014919   \n",
       "412                     0.053265          0.102393      0.005663   \n",
       "414                     0.036075          0.075505      0.022656   \n",
       "418                     0.047713          0.067234      0.012287   \n",
       "421                     0.043397          0.067077      0.011618   \n",
       "424                     0.040192          0.072135      0.016113   \n",
       "430                     0.049087          0.106901      0.018379   \n",
       "432                     0.031832          0.069309      0.009660   \n",
       "435                     0.049307          0.102526      0.011688   \n",
       "436                     0.064914          0.072787      0.016604   \n",
       "439                     0.042740          0.066737      0.020626   \n",
       "441                     0.042326          0.040660      0.023321   \n",
       "444                     0.040204          0.067751      0.013831   \n",
       "447                     0.044321          0.083411      0.019613   \n",
       "449                     0.049891          0.067946      0.020037   \n",
       "452                     0.035403          0.048172      0.012472   \n",
       "454                     0.049926          0.089698      0.019794   \n",
       "455                     0.037233          0.029232      0.005666   \n",
       "456                     0.041673          0.060439      0.011096   \n",
       "458                     0.035961          0.044145      0.010863   \n",
       "459                     0.033985          0.042492      0.014081   \n",
       "462                     0.049036          0.095065      0.026042   \n",
       "467                     0.040043          0.052032      0.014998   \n",
       "468                     0.032272          0.032634      0.014113   \n",
       "471                     0.030684          0.049708      0.009769   \n",
       "473                     0.023983          0.039537      0.012972   \n",
       "\n",
       "              quantity_chronic  quantity_acute  quantity_h1  \n",
       "store_ref_id                                                 \n",
       "355                   1.586207        1.172414     0.000000  \n",
       "360                   1.064748        2.075540     0.014388  \n",
       "366                   1.723212        2.413300     0.032873  \n",
       "371                   1.597383        2.395790     0.022947  \n",
       "376                   1.295435        2.206321     0.016681  \n",
       "378                   1.466412        2.083715     0.042494  \n",
       "379                   1.476455        2.606795     0.035168  \n",
       "380                   2.141520        2.860821     0.032183  \n",
       "386                   1.827796        2.226936     0.022038  \n",
       "389                   1.587439        2.164731     0.030443  \n",
       "392                   2.264392        2.684368     0.030850  \n",
       "393                   1.465770        2.383677     0.032609  \n",
       "396                   1.274052        2.002903     0.033328  \n",
       "399                   2.354242        2.950248     0.043378  \n",
       "402                   1.457710        2.460748     0.037578  \n",
       "405                   1.979941        2.369128     0.022998  \n",
       "408                   1.672897        2.207082     0.023719  \n",
       "411                   1.949199        2.650608     0.055118  \n",
       "412                   2.189988        2.494094     0.014732  \n",
       "414                   1.895434        2.283287     0.057903  \n",
       "418                   1.396649        2.051995     0.027074  \n",
       "421                   1.885022        2.041846     0.027151  \n",
       "424                   2.271657        2.600468     0.092565  \n",
       "430                   2.375196        2.606219     0.011094  \n",
       "432                   2.524325        2.544140     0.031628  \n",
       "435                   2.107519        2.514150     0.015600  \n",
       "436                   1.486260        2.320314     0.051772  \n",
       "439                   2.089380        2.657489     0.053548  \n",
       "441                   2.418074        2.454305     0.065496  \n",
       "444                   2.214306        2.618120     0.040490  \n",
       "447                   2.156358        2.584945     0.033310  \n",
       "449                   1.792363        2.041230     0.057868  \n",
       "452                   2.658506        2.599116     0.039758  \n",
       "454                   2.219463        2.431347     0.058168  \n",
       "455                   2.082954        2.318563     0.041027  \n",
       "456                   3.284962        2.590479     0.008079  \n",
       "458                   2.514037        2.350826     0.039011  \n",
       "459                   2.124564        2.336362     0.073731  \n",
       "462                   2.433609        2.688527     0.053311  \n",
       "467                   1.960502        2.143158     0.037413  \n",
       "468                   2.292552        2.247549     0.045760  \n",
       "471                   2.970179        2.623251     0.048514  \n",
       "473                   3.170761        2.359338     0.041619  "
      ]
     },
     "execution_count": 30,
     "metadata": {},
     "output_type": "execute_result"
    }
   ],
   "source": [
    "train_data.groupby('store_ref_id').mean()"
   ]
  },
  {
   "cell_type": "code",
   "execution_count": 31,
   "metadata": {
    "scrolled": true
   },
   "outputs": [
    {
     "data": {
      "image/png": "[encoded data removed]",
      "text/plain": [
       "<Figure size 432x288 with 1 Axes>"
      ]
     },
     "metadata": {
      "needs_background": "light"
     },
     "output_type": "display_data"
    }
   ],
   "source": [
    "table=pd.crosstab(train_data.store_ref_id,train_data.oct_purchase_flag)\n",
    "table.div(table.sum(1).astype(float), axis=0).plot(kind='bar', stacked=True)\n",
    "plt.title('Stacked Bar Chart of store vs oct flag')\n",
    "plt.xlabel('store id')\n",
    "plt.ylabel('Proportion of Customers')\n",
    "plt.savefig('Stacked Bar Chart of store vs oct flag')"
   ]
  },
  {
   "cell_type": "markdown",
   "metadata": {},
   "source": [
    "### It can be a good predictor\n",
    " - whatever marketing strategy we are following at store 473, we can follow same on other store where customer are returing less like 355\n",
    " - we can check mean of all kind of medicines store wise and can manage supply demand"
   ]
  },
  {
   "cell_type": "markdown",
   "metadata": {},
   "source": [
    "## Analysing Numerical Columns"
   ]
  },
  {
   "cell_type": "code",
   "execution_count": 32,
   "metadata": {},
   "outputs": [
    {
     "data": {
      "text/html": [
       "<div>\n",
       "<style scoped>\n",
       "    .dataframe tbody tr th:only-of-type {\n",
       "        vertical-align: middle;\n",
       "    }\n",
       "\n",
       "    .dataframe tbody tr th {\n",
       "        vertical-align: top;\n",
       "    }\n",
       "\n",
       "    .dataframe thead th {\n",
       "        text-align: right;\n",
       "    }\n",
       "</style>\n",
       "<table border=\"1\" class=\"dataframe\">\n",
       "  <thead>\n",
       "    <tr style=\"text-align: right;\">\n",
       "      <th></th>\n",
       "      <th>num_drugs_bill</th>\n",
       "      <th>total_quantity_bill</th>\n",
       "      <th>mrp_bill</th>\n",
       "      <th>total_spend_bill</th>\n",
       "      <th>return_value_bill</th>\n",
       "      <th>returned_quantity_bill</th>\n",
       "      <th>quantity_ethical</th>\n",
       "      <th>quantity_generic</th>\n",
       "      <th>quantity_surgical</th>\n",
       "      <th>quantity_ayurvedic</th>\n",
       "      <th>quantity_general</th>\n",
       "      <th>quantity_otc</th>\n",
       "      <th>quantity_chronic</th>\n",
       "      <th>quantity_acute</th>\n",
       "      <th>quantity_h1</th>\n",
       "    </tr>\n",
       "  </thead>\n",
       "  <tbody>\n",
       "    <tr>\n",
       "      <th>num_drugs_bill</th>\n",
       "      <td>1.000000</td>\n",
       "      <td>0.585460</td>\n",
       "      <td>0.455945</td>\n",
       "      <td>0.468739</td>\n",
       "      <td>0.058487</td>\n",
       "      <td>0.057283</td>\n",
       "      <td>0.474031</td>\n",
       "      <td>0.445058</td>\n",
       "      <td>0.088033</td>\n",
       "      <td>0.080220</td>\n",
       "      <td>0.050570</td>\n",
       "      <td>0.040653</td>\n",
       "      <td>0.534012</td>\n",
       "      <td>0.372626</td>\n",
       "      <td>0.068700</td>\n",
       "    </tr>\n",
       "    <tr>\n",
       "      <th>total_quantity_bill</th>\n",
       "      <td>0.585460</td>\n",
       "      <td>1.000000</td>\n",
       "      <td>0.624812</td>\n",
       "      <td>0.595662</td>\n",
       "      <td>0.145575</td>\n",
       "      <td>0.296554</td>\n",
       "      <td>0.652272</td>\n",
       "      <td>0.787226</td>\n",
       "      <td>0.326121</td>\n",
       "      <td>0.054310</td>\n",
       "      <td>0.193073</td>\n",
       "      <td>0.112387</td>\n",
       "      <td>0.675754</td>\n",
       "      <td>0.820003</td>\n",
       "      <td>0.171672</td>\n",
       "    </tr>\n",
       "    <tr>\n",
       "      <th>mrp_bill</th>\n",
       "      <td>0.455945</td>\n",
       "      <td>0.624812</td>\n",
       "      <td>1.000000</td>\n",
       "      <td>0.827209</td>\n",
       "      <td>0.207741</td>\n",
       "      <td>0.122158</td>\n",
       "      <td>0.487282</td>\n",
       "      <td>0.449405</td>\n",
       "      <td>0.225706</td>\n",
       "      <td>0.021119</td>\n",
       "      <td>0.016619</td>\n",
       "      <td>0.061122</td>\n",
       "      <td>0.520671</td>\n",
       "      <td>0.435902</td>\n",
       "      <td>0.111271</td>\n",
       "    </tr>\n",
       "    <tr>\n",
       "      <th>total_spend_bill</th>\n",
       "      <td>0.468739</td>\n",
       "      <td>0.595662</td>\n",
       "      <td>0.827209</td>\n",
       "      <td>1.000000</td>\n",
       "      <td>0.252869</td>\n",
       "      <td>0.126819</td>\n",
       "      <td>0.656053</td>\n",
       "      <td>0.303395</td>\n",
       "      <td>0.163413</td>\n",
       "      <td>0.032806</td>\n",
       "      <td>0.018222</td>\n",
       "      <td>0.092360</td>\n",
       "      <td>0.495503</td>\n",
       "      <td>0.416247</td>\n",
       "      <td>0.145121</td>\n",
       "    </tr>\n",
       "    <tr>\n",
       "      <th>return_value_bill</th>\n",
       "      <td>0.058487</td>\n",
       "      <td>0.145575</td>\n",
       "      <td>0.207741</td>\n",
       "      <td>0.252869</td>\n",
       "      <td>1.000000</td>\n",
       "      <td>0.493260</td>\n",
       "      <td>0.134124</td>\n",
       "      <td>0.100984</td>\n",
       "      <td>0.025693</td>\n",
       "      <td>0.002256</td>\n",
       "      <td>0.002815</td>\n",
       "      <td>0.003202</td>\n",
       "      <td>0.068639</td>\n",
       "      <td>0.142459</td>\n",
       "      <td>0.011613</td>\n",
       "    </tr>\n",
       "    <tr>\n",
       "      <th>returned_quantity_bill</th>\n",
       "      <td>0.057283</td>\n",
       "      <td>0.296554</td>\n",
       "      <td>0.122158</td>\n",
       "      <td>0.126819</td>\n",
       "      <td>0.493260</td>\n",
       "      <td>1.000000</td>\n",
       "      <td>0.193534</td>\n",
       "      <td>0.270747</td>\n",
       "      <td>0.037078</td>\n",
       "      <td>0.004004</td>\n",
       "      <td>0.007214</td>\n",
       "      <td>0.001527</td>\n",
       "      <td>0.069976</td>\n",
       "      <td>0.344444</td>\n",
       "      <td>0.012893</td>\n",
       "    </tr>\n",
       "    <tr>\n",
       "      <th>quantity_ethical</th>\n",
       "      <td>0.474031</td>\n",
       "      <td>0.652272</td>\n",
       "      <td>0.487282</td>\n",
       "      <td>0.656053</td>\n",
       "      <td>0.134124</td>\n",
       "      <td>0.193534</td>\n",
       "      <td>1.000000</td>\n",
       "      <td>0.165867</td>\n",
       "      <td>0.079916</td>\n",
       "      <td>0.009735</td>\n",
       "      <td>0.012504</td>\n",
       "      <td>0.089941</td>\n",
       "      <td>0.502016</td>\n",
       "      <td>0.487313</td>\n",
       "      <td>0.255844</td>\n",
       "    </tr>\n",
       "    <tr>\n",
       "      <th>quantity_generic</th>\n",
       "      <td>0.445058</td>\n",
       "      <td>0.787226</td>\n",
       "      <td>0.449405</td>\n",
       "      <td>0.303395</td>\n",
       "      <td>0.100984</td>\n",
       "      <td>0.270747</td>\n",
       "      <td>0.165867</td>\n",
       "      <td>1.000000</td>\n",
       "      <td>0.022543</td>\n",
       "      <td>0.006854</td>\n",
       "      <td>0.036257</td>\n",
       "      <td>0.040778</td>\n",
       "      <td>0.608985</td>\n",
       "      <td>0.585727</td>\n",
       "      <td>0.047208</td>\n",
       "    </tr>\n",
       "    <tr>\n",
       "      <th>quantity_surgical</th>\n",
       "      <td>0.088033</td>\n",
       "      <td>0.326121</td>\n",
       "      <td>0.225706</td>\n",
       "      <td>0.163413</td>\n",
       "      <td>0.025693</td>\n",
       "      <td>0.037078</td>\n",
       "      <td>0.079916</td>\n",
       "      <td>0.022543</td>\n",
       "      <td>1.000000</td>\n",
       "      <td>0.009267</td>\n",
       "      <td>0.023551</td>\n",
       "      <td>0.008736</td>\n",
       "      <td>0.000812</td>\n",
       "      <td>0.437907</td>\n",
       "      <td>0.026838</td>\n",
       "    </tr>\n",
       "    <tr>\n",
       "      <th>quantity_ayurvedic</th>\n",
       "      <td>0.080220</td>\n",
       "      <td>0.054310</td>\n",
       "      <td>0.021119</td>\n",
       "      <td>0.032806</td>\n",
       "      <td>0.002256</td>\n",
       "      <td>0.004004</td>\n",
       "      <td>0.009735</td>\n",
       "      <td>0.006854</td>\n",
       "      <td>0.009267</td>\n",
       "      <td>1.000000</td>\n",
       "      <td>0.029929</td>\n",
       "      <td>0.009576</td>\n",
       "      <td>-0.004196</td>\n",
       "      <td>0.076289</td>\n",
       "      <td>-0.004508</td>\n",
       "    </tr>\n",
       "    <tr>\n",
       "      <th>quantity_general</th>\n",
       "      <td>0.050570</td>\n",
       "      <td>0.193073</td>\n",
       "      <td>0.016619</td>\n",
       "      <td>0.018222</td>\n",
       "      <td>0.002815</td>\n",
       "      <td>0.007214</td>\n",
       "      <td>0.012504</td>\n",
       "      <td>0.036257</td>\n",
       "      <td>0.023551</td>\n",
       "      <td>0.029929</td>\n",
       "      <td>1.000000</td>\n",
       "      <td>0.030454</td>\n",
       "      <td>-0.006218</td>\n",
       "      <td>0.264455</td>\n",
       "      <td>0.000909</td>\n",
       "    </tr>\n",
       "    <tr>\n",
       "      <th>quantity_otc</th>\n",
       "      <td>0.040653</td>\n",
       "      <td>0.112387</td>\n",
       "      <td>0.061122</td>\n",
       "      <td>0.092360</td>\n",
       "      <td>0.003202</td>\n",
       "      <td>0.001527</td>\n",
       "      <td>0.089941</td>\n",
       "      <td>0.040778</td>\n",
       "      <td>0.008736</td>\n",
       "      <td>0.009576</td>\n",
       "      <td>0.030454</td>\n",
       "      <td>1.000000</td>\n",
       "      <td>0.010514</td>\n",
       "      <td>0.142964</td>\n",
       "      <td>0.036449</td>\n",
       "    </tr>\n",
       "    <tr>\n",
       "      <th>quantity_chronic</th>\n",
       "      <td>0.534012</td>\n",
       "      <td>0.675754</td>\n",
       "      <td>0.520671</td>\n",
       "      <td>0.495503</td>\n",
       "      <td>0.068639</td>\n",
       "      <td>0.069976</td>\n",
       "      <td>0.502016</td>\n",
       "      <td>0.608985</td>\n",
       "      <td>0.000812</td>\n",
       "      <td>-0.004196</td>\n",
       "      <td>-0.006218</td>\n",
       "      <td>0.010514</td>\n",
       "      <td>1.000000</td>\n",
       "      <td>0.132218</td>\n",
       "      <td>0.060232</td>\n",
       "    </tr>\n",
       "    <tr>\n",
       "      <th>quantity_acute</th>\n",
       "      <td>0.372626</td>\n",
       "      <td>0.820003</td>\n",
       "      <td>0.435902</td>\n",
       "      <td>0.416247</td>\n",
       "      <td>0.142459</td>\n",
       "      <td>0.344444</td>\n",
       "      <td>0.487313</td>\n",
       "      <td>0.585727</td>\n",
       "      <td>0.437907</td>\n",
       "      <td>0.076289</td>\n",
       "      <td>0.264455</td>\n",
       "      <td>0.142964</td>\n",
       "      <td>0.132218</td>\n",
       "      <td>1.000000</td>\n",
       "      <td>0.184079</td>\n",
       "    </tr>\n",
       "    <tr>\n",
       "      <th>quantity_h1</th>\n",
       "      <td>0.068700</td>\n",
       "      <td>0.171672</td>\n",
       "      <td>0.111271</td>\n",
       "      <td>0.145121</td>\n",
       "      <td>0.011613</td>\n",
       "      <td>0.012893</td>\n",
       "      <td>0.255844</td>\n",
       "      <td>0.047208</td>\n",
       "      <td>0.026838</td>\n",
       "      <td>-0.004508</td>\n",
       "      <td>0.000909</td>\n",
       "      <td>0.036449</td>\n",
       "      <td>0.060232</td>\n",
       "      <td>0.184079</td>\n",
       "      <td>1.000000</td>\n",
       "    </tr>\n",
       "  </tbody>\n",
       "</table>\n",
       "</div>"
      ],
      "text/plain": [
       "                        num_drugs_bill  total_quantity_bill  mrp_bill  \\\n",
       "num_drugs_bill                1.000000             0.585460  0.455945   \n",
       "total_quantity_bill           0.585460             1.000000  0.624812   \n",
       "mrp_bill                      0.455945             0.624812  1.000000   \n",
       "total_spend_bill              0.468739             0.595662  0.827209   \n",
       "return_value_bill             0.058487             0.145575  0.207741   \n",
       "returned_quantity_bill        0.057283             0.296554  0.122158   \n",
       "quantity_ethical              0.474031             0.652272  0.487282   \n",
       "quantity_generic              0.445058             0.787226  0.449405   \n",
       "quantity_surgical             0.088033             0.326121  0.225706   \n",
       "quantity_ayurvedic            0.080220             0.054310  0.021119   \n",
       "quantity_general              0.050570             0.193073  0.016619   \n",
       "quantity_otc                  0.040653             0.112387  0.061122   \n",
       "quantity_chronic              0.534012             0.675754  0.520671   \n",
       "quantity_acute                0.372626             0.820003  0.435902   \n",
       "quantity_h1                   0.068700             0.171672  0.111271   \n",
       "\n",
       "                        total_spend_bill  return_value_bill  \\\n",
       "num_drugs_bill                  0.468739           0.058487   \n",
       "total_quantity_bill             0.595662           0.145575   \n",
       "mrp_bill                        0.827209           0.207741   \n",
       "total_spend_bill                1.000000           0.252869   \n",
       "return_value_bill               0.252869           1.000000   \n",
       "returned_quantity_bill          0.126819           0.493260   \n",
       "quantity_ethical                0.656053           0.134124   \n",
       "quantity_generic                0.303395           0.100984   \n",
       "quantity_surgical               0.163413           0.025693   \n",
       "quantity_ayurvedic              0.032806           0.002256   \n",
       "quantity_general                0.018222           0.002815   \n",
       "quantity_otc                    0.092360           0.003202   \n",
       "quantity_chronic                0.495503           0.068639   \n",
       "quantity_acute                  0.416247           0.142459   \n",
       "quantity_h1                     0.145121           0.011613   \n",
       "\n",
       "                        returned_quantity_bill  quantity_ethical  \\\n",
       "num_drugs_bill                        0.057283          0.474031   \n",
       "total_quantity_bill                   0.296554          0.652272   \n",
       "mrp_bill                              0.122158          0.487282   \n",
       "total_spend_bill                      0.126819          0.656053   \n",
       "return_value_bill                     0.493260          0.134124   \n",
       "returned_quantity_bill                1.000000          0.193534   \n",
       "quantity_ethical                      0.193534          1.000000   \n",
       "quantity_generic                      0.270747          0.165867   \n",
       "quantity_surgical                     0.037078          0.079916   \n",
       "quantity_ayurvedic                    0.004004          0.009735   \n",
       "quantity_general                      0.007214          0.012504   \n",
       "quantity_otc                          0.001527          0.089941   \n",
       "quantity_chronic                      0.069976          0.502016   \n",
       "quantity_acute                        0.344444          0.487313   \n",
       "quantity_h1                           0.012893          0.255844   \n",
       "\n",
       "                        quantity_generic  quantity_surgical  \\\n",
       "num_drugs_bill                  0.445058           0.088033   \n",
       "total_quantity_bill             0.787226           0.326121   \n",
       "mrp_bill                        0.449405           0.225706   \n",
       "total_spend_bill                0.303395           0.163413   \n",
       "return_value_bill               0.100984           0.025693   \n",
       "returned_quantity_bill          0.270747           0.037078   \n",
       "quantity_ethical                0.165867           0.079916   \n",
       "quantity_generic                1.000000           0.022543   \n",
       "quantity_surgical               0.022543           1.000000   \n",
       "quantity_ayurvedic              0.006854           0.009267   \n",
       "quantity_general                0.036257           0.023551   \n",
       "quantity_otc                    0.040778           0.008736   \n",
       "quantity_chronic                0.608985           0.000812   \n",
       "quantity_acute                  0.585727           0.437907   \n",
       "quantity_h1                     0.047208           0.026838   \n",
       "\n",
       "                        quantity_ayurvedic  quantity_general  quantity_otc  \\\n",
       "num_drugs_bill                    0.080220          0.050570      0.040653   \n",
       "total_quantity_bill               0.054310          0.193073      0.112387   \n",
       "mrp_bill                          0.021119          0.016619      0.061122   \n",
       "total_spend_bill                  0.032806          0.018222      0.092360   \n",
       "return_value_bill                 0.002256          0.002815      0.003202   \n",
       "returned_quantity_bill            0.004004          0.007214      0.001527   \n",
       "quantity_ethical                  0.009735          0.012504      0.089941   \n",
       "quantity_generic                  0.006854          0.036257      0.040778   \n",
       "quantity_surgical                 0.009267          0.023551      0.008736   \n",
       "quantity_ayurvedic                1.000000          0.029929      0.009576   \n",
       "quantity_general                  0.029929          1.000000      0.030454   \n",
       "quantity_otc                      0.009576          0.030454      1.000000   \n",
       "quantity_chronic                 -0.004196         -0.006218      0.010514   \n",
       "quantity_acute                    0.076289          0.264455      0.142964   \n",
       "quantity_h1                      -0.004508          0.000909      0.036449   \n",
       "\n",
       "                        quantity_chronic  quantity_acute  quantity_h1  \n",
       "num_drugs_bill                  0.534012        0.372626     0.068700  \n",
       "total_quantity_bill             0.675754        0.820003     0.171672  \n",
       "mrp_bill                        0.520671        0.435902     0.111271  \n",
       "total_spend_bill                0.495503        0.416247     0.145121  \n",
       "return_value_bill               0.068639        0.142459     0.011613  \n",
       "returned_quantity_bill          0.069976        0.344444     0.012893  \n",
       "quantity_ethical                0.502016        0.487313     0.255844  \n",
       "quantity_generic                0.608985        0.585727     0.047208  \n",
       "quantity_surgical               0.000812        0.437907     0.026838  \n",
       "quantity_ayurvedic             -0.004196        0.076289    -0.004508  \n",
       "quantity_general               -0.006218        0.264455     0.000909  \n",
       "quantity_otc                    0.010514        0.142964     0.036449  \n",
       "quantity_chronic                1.000000        0.132218     0.060232  \n",
       "quantity_acute                  0.132218        1.000000     0.184079  \n",
       "quantity_h1                     0.060232        0.184079     1.000000  "
      ]
     },
     "execution_count": 32,
     "metadata": {},
     "output_type": "execute_result"
    }
   ],
   "source": [
    "train_data.corr()"
   ]
  },
  {
   "cell_type": "code",
   "execution_count": 33,
   "metadata": {},
   "outputs": [
    {
     "data": {
      "text/plain": [
       "<matplotlib.axes._subplots.AxesSubplot at 0x24f4d59a2c8>"
      ]
     },
     "execution_count": 33,
     "metadata": {},
     "output_type": "execute_result"
    },
    {
     "data": {
      "image/png": "[encoded data removed]",
      "text/plain": [
       "<Figure size 1080x1080 with 2 Axes>"
      ]
     },
     "metadata": {
      "needs_background": "light"
     },
     "output_type": "display_data"
    }
   ],
   "source": [
    "plt.figure(figsize =(15,15))\n",
    "sns.heatmap(train_data.corr(),vmin=-1, vmax=1, annot=True, cmap='BrBG')"
   ]
  },
  {
   "cell_type": "markdown",
   "metadata": {},
   "source": [
    "__Observation:__\n",
    " - Need to check for multicollinearty after standardizing"
   ]
  },
  {
   "cell_type": "code",
   "execution_count": 34,
   "metadata": {},
   "outputs": [
    {
     "data": {
      "text/plain": [
       "Index(['num_drugs_bill', 'total_quantity_bill', 'returned_quantity_bill',\n",
       "       'quantity_ethical', 'quantity_generic', 'quantity_surgical',\n",
       "       'quantity_ayurvedic', 'quantity_general', 'quantity_otc',\n",
       "       'quantity_chronic', 'quantity_acute', 'quantity_h1'],\n",
       "      dtype='object')"
      ]
     },
     "execution_count": 34,
     "metadata": {},
     "output_type": "execute_result"
    }
   ],
   "source": [
    "num_cols = train_data.select_dtypes(\"int64\",\"float64\").columns\n",
    "num_cols"
   ]
  },
  {
   "cell_type": "code",
   "execution_count": 35,
   "metadata": {},
   "outputs": [
    {
     "data": {
      "text/plain": [
       "<matplotlib.axes._subplots.AxesSubplot at 0x24f401e7548>"
      ]
     },
     "execution_count": 35,
     "metadata": {},
     "output_type": "execute_result"
    },
    {
     "data": {
      "image/png": "[encoded data removed]",
      "text/plain": [
       "<Figure size 432x288 with 1 Axes>"
      ]
     },
     "metadata": {
      "needs_background": "light"
     },
     "output_type": "display_data"
    }
   ],
   "source": [
    "sns.distplot(train_data.num_drugs_bill, bins=50, kde=True, rug=True)"
   ]
  },
  {
   "cell_type": "markdown",
   "metadata": {},
   "source": [
    "#### *Number of drugs per customer in between 1-4 mostly*"
   ]
  },
  {
   "cell_type": "code",
   "execution_count": 36,
   "metadata": {},
   "outputs": [
    {
     "data": {
      "text/plain": [
       "<matplotlib.axes._subplots.AxesSubplot at 0x24f2eb69cc8>"
      ]
     },
     "execution_count": 36,
     "metadata": {},
     "output_type": "execute_result"
    },
    {
     "data": {
      "image/png": "[encoded data removed]",
      "text/plain": [
       "<Figure size 432x288 with 1 Axes>"
      ]
     },
     "metadata": {
      "needs_background": "light"
     },
     "output_type": "display_data"
    }
   ],
   "source": [
    "sns.distplot(train_data.total_spend_bill, bins=50, kde=True, rug=True)"
   ]
  },
  {
   "cell_type": "markdown",
   "metadata": {},
   "source": [
    "#### *Amount apying per customer in from 0-22000 approx*"
   ]
  },
  {
   "cell_type": "markdown",
   "metadata": {},
   "source": [
    "## Checking Outliers with Boxplot"
   ]
  },
  {
   "cell_type": "code",
   "execution_count": 37,
   "metadata": {
    "scrolled": true
   },
   "outputs": [
    {
     "data": {
      "image/png": "[encoded data removed]",
      "text/plain": [
       "<Figure size 720x360 with 1 Axes>"
      ]
     },
     "metadata": {
      "needs_background": "light"
     },
     "output_type": "display_data"
    },
    {
     "data": {
      "image/png": "[encoded data removed]",
      "text/plain": [
       "<Figure size 720x360 with 1 Axes>"
      ]
     },
     "metadata": {
      "needs_background": "light"
     },
     "output_type": "display_data"
    },
    {
     "data": {
      "image/png": "[encoded data removed]",
      "text/plain": [
       "<Figure size 720x360 with 1 Axes>"
      ]
     },
     "metadata": {
      "needs_background": "light"
     },
     "output_type": "display_data"
    },
    {
     "data": {
      "image/png": "[encoded data removed]",
      "text/plain": [
       "<Figure size 720x360 with 1 Axes>"
      ]
     },
     "metadata": {
      "needs_background": "light"
     },
     "output_type": "display_data"
    },
    {
     "data": {
      "image/png": "[encoded data removed]",
      "text/plain": [
       "<Figure size 720x360 with 1 Axes>"
      ]
     },
     "metadata": {
      "needs_background": "light"
     },
     "output_type": "display_data"
    },
    {
     "data": {
      "image/png": "[encoded data removed]",
      "text/plain": [
       "<Figure size 720x360 with 1 Axes>"
      ]
     },
     "metadata": {
      "needs_background": "light"
     },
     "output_type": "display_data"
    },
    {
     "data": {
      "image/png": "[encoded data removed]",
      "text/plain": [
       "<Figure size 720x360 with 1 Axes>"
      ]
     },
     "metadata": {
      "needs_background": "light"
     },
     "output_type": "display_data"
    },
    {
     "data": {
      "image/png": "[encoded data removed]",
      "text/plain": [
       "<Figure size 720x360 with 1 Axes>"
      ]
     },
     "metadata": {
      "needs_background": "light"
     },
     "output_type": "display_data"
    },
    {
     "data": {
      "image/png": "[encoded data removed]",
      "text/plain": [
       "<Figure size 720x360 with 1 Axes>"
      ]
     },
     "metadata": {
      "needs_background": "light"
     },
     "output_type": "display_data"
    },
    {
     "data": {
      "image/png": "[encoded data removed]",
      "text/plain": [
       "<Figure size 720x360 with 1 Axes>"
      ]
     },
     "metadata": {
      "needs_background": "light"
     },
     "output_type": "display_data"
    },
    {
     "data": {
      "image/png": "[encoded data removed]",
      "text/plain": [
       "<Figure size 720x360 with 1 Axes>"
      ]
     },
     "metadata": {
      "needs_background": "light"
     },
     "output_type": "display_data"
    },
    {
     "data": {
      "image/png": "[encoded data removed]",
      "text/plain": [
       "<Figure size 720x360 with 1 Axes>"
      ]
     },
     "metadata": {
      "needs_background": "light"
     },
     "output_type": "display_data"
    }
   ],
   "source": [
    "### Loop displaying Box Plot for all numerical columns wrt oct_purchase_flag  \n",
    "    \n",
    "for col in num_cols:\n",
    "    \n",
    "    plt.figure(figsize=(10, 5))\n",
    "    sns.boxplot(data = train_data, y = col, x = \"oct_purchase_flag\")\n",
    "    plt.xlabel(\"oct_purchase_flag\")\n",
    "    plt.ylabel(col)\n",
    "    plt.title(\"Distribution Plot\" + \" \" + col + \" \" + \"wrt Customer Comeback\")\n",
    "\n",
    "    plt.show()\n",
    "    \n",
    "   "
   ]
  },
  {
   "cell_type": "markdown",
   "metadata": {},
   "source": [
    "#### __Observation__ \n",
    "\n",
    "After analysing all the boxplots of Numerical variables wrt oct_purchase_flag :\n",
    "\n",
    "1. Many columns have outliers which should be removed and again checked for outliers "
   ]
  },
  {
   "cell_type": "markdown",
   "metadata": {
    "id": "mycdD12ASFqu"
   },
   "source": [
    "## Outliers"
   ]
  },
  {
   "cell_type": "code",
   "execution_count": 38,
   "metadata": {
    "id": "A9BKJxGoSFqy",
    "scrolled": true
   },
   "outputs": [],
   "source": [
    "## Removing Outliers\n",
    "for x in num_cols:\n",
    "    median = train_data[x].median()\n",
    "    std = train_data[x].std()\n",
    "    outliers = (train_data[x] - median).abs() > 1.5*std\n",
    "    train_data.loc[outliers,x] = np.nan\n",
    "    train_data[x].fillna(median, inplace=True)"
   ]
  },
  {
   "cell_type": "code",
   "execution_count": 39,
   "metadata": {
    "scrolled": false
   },
   "outputs": [
    {
     "data": {
      "image/png": "[encoded data removed]",
      "text/plain": [
       "<Figure size 720x360 with 1 Axes>"
      ]
     },
     "metadata": {
      "needs_background": "light"
     },
     "output_type": "display_data"
    },
    {
     "data": {
      "image/png": "[encoded data removed]",
      "text/plain": [
       "<Figure size 720x360 with 1 Axes>"
      ]
     },
     "metadata": {
      "needs_background": "light"
     },
     "output_type": "display_data"
    },
    {
     "data": {
      "image/png": "[encoded data removed]",
      "text/plain": [
       "<Figure size 720x360 with 1 Axes>"
      ]
     },
     "metadata": {
      "needs_background": "light"
     },
     "output_type": "display_data"
    },
    {
     "data": {
      "image/png": "[encoded data removed]",
      "text/plain": [
       "<Figure size 720x360 with 1 Axes>"
      ]
     },
     "metadata": {
      "needs_background": "light"
     },
     "output_type": "display_data"
    },
    {
     "data": {
      "image/png": "[encoded data removed]",
      "text/plain": [
       "<Figure size 720x360 with 1 Axes>"
      ]
     },
     "metadata": {
      "needs_background": "light"
     },
     "output_type": "display_data"
    },
    {
     "data": {
      "image/png": "[encoded data removed]",
      "text/plain": [
       "<Figure size 720x360 with 1 Axes>"
      ]
     },
     "metadata": {
      "needs_background": "light"
     },
     "output_type": "display_data"
    },
    {
     "data": {
      "image/png": "[encoded data removed]",
      "text/plain": [
       "<Figure size 720x360 with 1 Axes>"
      ]
     },
     "metadata": {
      "needs_background": "light"
     },
     "output_type": "display_data"
    },
    {
     "data": {
      "image/png": "[encoded data removed]",
      "text/plain": [
       "<Figure size 720x360 with 1 Axes>"
      ]
     },
     "metadata": {
      "needs_background": "light"
     },
     "output_type": "display_data"
    },
    {
     "data": {
      "image/png": "[encoded data removed]",
      "text/plain": [
       "<Figure size 720x360 with 1 Axes>"
      ]
     },
     "metadata": {
      "needs_background": "light"
     },
     "output_type": "display_data"
    },
    {
     "data": {
      "image/png": "[encoded data removed]",
      "text/plain": [
       "<Figure size 720x360 with 1 Axes>"
      ]
     },
     "metadata": {
      "needs_background": "light"
     },
     "output_type": "display_data"
    },
    {
     "data": {
      "image/png": "[encoded data removed]",
      "text/plain": [
       "<Figure size 720x360 with 1 Axes>"
      ]
     },
     "metadata": {
      "needs_background": "light"
     },
     "output_type": "display_data"
    },
    {
     "data": {
      "image/png": "[encoded data removed]",
      "text/plain": [
       "<Figure size 720x360 with 1 Axes>"
      ]
     },
     "metadata": {
      "needs_background": "light"
     },
     "output_type": "display_data"
    }
   ],
   "source": [
    "## After removing outliers again checking for distribution    \n",
    "    \n",
    "for col in num_cols:\n",
    "    \n",
    "    plt.figure(figsize=(10, 5))\n",
    "    sns.boxplot(data = train_data, y = col, x = \"oct_purchase_flag\")\n",
    "    plt.xlabel(\"oct_purchase_flag\")\n",
    "    plt.ylabel(col)\n",
    "    plt.title(\"Distribution Plot\" + \" \" + col + \" \" + \"wrt Customer Comeback\")\n",
    "\n",
    "    plt.show()"
   ]
  },
  {
   "cell_type": "markdown",
   "metadata": {
    "id": "t0Fc0tEOSFhC"
   },
   "source": [
    "# Feature Engineering on Train Data"
   ]
  },
  {
   "cell_type": "code",
   "execution_count": 40,
   "metadata": {},
   "outputs": [
    {
     "data": {
      "text/html": [
       "<div>\n",
       "<style scoped>\n",
       "    .dataframe tbody tr th:only-of-type {\n",
       "        vertical-align: middle;\n",
       "    }\n",
       "\n",
       "    .dataframe tbody tr th {\n",
       "        vertical-align: top;\n",
       "    }\n",
       "\n",
       "    .dataframe thead th {\n",
       "        text-align: right;\n",
       "    }\n",
       "</style>\n",
       "<table border=\"1\" class=\"dataframe\">\n",
       "  <thead>\n",
       "    <tr style=\"text-align: right;\">\n",
       "      <th></th>\n",
       "      <th>store_ref_id</th>\n",
       "      <th>customer_ref_id</th>\n",
       "      <th>doctor_ref_id</th>\n",
       "      <th>payment_method</th>\n",
       "      <th>created_at_bill</th>\n",
       "      <th>num_drugs_bill</th>\n",
       "      <th>total_quantity_bill</th>\n",
       "      <th>mrp_bill</th>\n",
       "      <th>total_spend_bill</th>\n",
       "      <th>return_value_bill</th>\n",
       "      <th>...</th>\n",
       "      <th>quantity_ethical</th>\n",
       "      <th>quantity_generic</th>\n",
       "      <th>quantity_surgical</th>\n",
       "      <th>quantity_ayurvedic</th>\n",
       "      <th>quantity_general</th>\n",
       "      <th>quantity_otc</th>\n",
       "      <th>quantity_chronic</th>\n",
       "      <th>quantity_acute</th>\n",
       "      <th>quantity_h1</th>\n",
       "      <th>oct_purchase_flag</th>\n",
       "    </tr>\n",
       "  </thead>\n",
       "  <tbody>\n",
       "    <tr>\n",
       "      <th>0</th>\n",
       "      <td>468</td>\n",
       "      <td>6251676</td>\n",
       "      <td>6628790</td>\n",
       "      <td>cash</td>\n",
       "      <td>2019-04-01 09:09:51.000000</td>\n",
       "      <td>3.0</td>\n",
       "      <td>12.0</td>\n",
       "      <td>394.6</td>\n",
       "      <td>146.92</td>\n",
       "      <td>0.0</td>\n",
       "      <td>...</td>\n",
       "      <td>0.0</td>\n",
       "      <td>1.0</td>\n",
       "      <td>1.0</td>\n",
       "      <td>0.0</td>\n",
       "      <td>0.0</td>\n",
       "      <td>0.0</td>\n",
       "      <td>0.0</td>\n",
       "      <td>2.0</td>\n",
       "      <td>0.0</td>\n",
       "      <td>0</td>\n",
       "    </tr>\n",
       "    <tr>\n",
       "      <th>1</th>\n",
       "      <td>468</td>\n",
       "      <td>6251676</td>\n",
       "      <td>6628790</td>\n",
       "      <td>cash</td>\n",
       "      <td>2019-04-10 17:23:29.000000</td>\n",
       "      <td>1.0</td>\n",
       "      <td>2.0</td>\n",
       "      <td>70.0</td>\n",
       "      <td>41.32</td>\n",
       "      <td>0.0</td>\n",
       "      <td>...</td>\n",
       "      <td>0.0</td>\n",
       "      <td>0.0</td>\n",
       "      <td>2.0</td>\n",
       "      <td>0.0</td>\n",
       "      <td>0.0</td>\n",
       "      <td>0.0</td>\n",
       "      <td>0.0</td>\n",
       "      <td>2.0</td>\n",
       "      <td>0.0</td>\n",
       "      <td>0</td>\n",
       "    </tr>\n",
       "  </tbody>\n",
       "</table>\n",
       "<p>2 rows × 21 columns</p>\n",
       "</div>"
      ],
      "text/plain": [
       "  store_ref_id customer_ref_id doctor_ref_id payment_method  \\\n",
       "0          468         6251676       6628790           cash   \n",
       "1          468         6251676       6628790           cash   \n",
       "\n",
       "              created_at_bill  num_drugs_bill  total_quantity_bill  mrp_bill  \\\n",
       "0  2019-04-01 09:09:51.000000             3.0                 12.0     394.6   \n",
       "1  2019-04-10 17:23:29.000000             1.0                  2.0      70.0   \n",
       "\n",
       "   total_spend_bill  return_value_bill  ...  quantity_ethical  \\\n",
       "0            146.92                0.0  ...               0.0   \n",
       "1             41.32                0.0  ...               0.0   \n",
       "\n",
       "   quantity_generic  quantity_surgical  quantity_ayurvedic  quantity_general  \\\n",
       "0               1.0                1.0                 0.0               0.0   \n",
       "1               0.0                2.0                 0.0               0.0   \n",
       "\n",
       "   quantity_otc  quantity_chronic  quantity_acute  quantity_h1  \\\n",
       "0           0.0               0.0             2.0          0.0   \n",
       "1           0.0               0.0             2.0          0.0   \n",
       "\n",
       "   oct_purchase_flag  \n",
       "0                  0  \n",
       "1                  0  \n",
       "\n",
       "[2 rows x 21 columns]"
      ]
     },
     "execution_count": 40,
     "metadata": {},
     "output_type": "execute_result"
    }
   ],
   "source": [
    "train_data.head(2)"
   ]
  },
  {
   "cell_type": "code",
   "execution_count": 41,
   "metadata": {
    "id": "GFYoi7_TSFhD"
   },
   "outputs": [],
   "source": [
    "current_year='2019-10-01'"
   ]
  },
  {
   "cell_type": "code",
   "execution_count": 42,
   "metadata": {},
   "outputs": [],
   "source": [
    "train_data['created_at_bill'] =  pd.to_datetime(train_data['created_at_bill'])"
   ]
  },
  {
   "cell_type": "code",
   "execution_count": 43,
   "metadata": {},
   "outputs": [],
   "source": [
    "train_data['date']=train_data['created_at_bill'].dt.date"
   ]
  },
  {
   "cell_type": "markdown",
   "metadata": {},
   "source": [
    "##### New feature = Days"
   ]
  },
  {
   "cell_type": "code",
   "execution_count": 44,
   "metadata": {},
   "outputs": [],
   "source": [
    "#old customer has less chance to come back---intuition\n",
    "train_data['days'] = (pd.to_datetime(current_year) - pd.to_datetime(train_data['date'])).dt.days"
   ]
  },
  {
   "cell_type": "code",
   "execution_count": 45,
   "metadata": {},
   "outputs": [],
   "source": [
    "train_data.drop(['date'],axis=1,inplace=True)"
   ]
  },
  {
   "cell_type": "markdown",
   "metadata": {},
   "source": [
    "##### New feature = Discount"
   ]
  },
  {
   "cell_type": "code",
   "execution_count": 46,
   "metadata": {},
   "outputs": [],
   "source": [
    "#lets find out discout, more discount then more chance to return of customer\n",
    "train_data['discount']=train_data['mrp_bill']-train_data['total_spend_bill']"
   ]
  },
  {
   "cell_type": "code",
   "execution_count": 47,
   "metadata": {},
   "outputs": [
    {
     "data": {
      "text/plain": [
       "(1184025, 23)"
      ]
     },
     "execution_count": 47,
     "metadata": {},
     "output_type": "execute_result"
    }
   ],
   "source": [
    "train_data.shape"
   ]
  },
  {
   "cell_type": "code",
   "execution_count": 48,
   "metadata": {},
   "outputs": [
    {
     "data": {
      "text/html": [
       "<div>\n",
       "<style scoped>\n",
       "    .dataframe tbody tr th:only-of-type {\n",
       "        vertical-align: middle;\n",
       "    }\n",
       "\n",
       "    .dataframe tbody tr th {\n",
       "        vertical-align: top;\n",
       "    }\n",
       "\n",
       "    .dataframe thead th {\n",
       "        text-align: right;\n",
       "    }\n",
       "</style>\n",
       "<table border=\"1\" class=\"dataframe\">\n",
       "  <thead>\n",
       "    <tr style=\"text-align: right;\">\n",
       "      <th></th>\n",
       "      <th>store_ref_id</th>\n",
       "      <th>customer_ref_id</th>\n",
       "      <th>doctor_ref_id</th>\n",
       "      <th>payment_method</th>\n",
       "      <th>created_at_bill</th>\n",
       "      <th>num_drugs_bill</th>\n",
       "      <th>total_quantity_bill</th>\n",
       "      <th>mrp_bill</th>\n",
       "      <th>total_spend_bill</th>\n",
       "      <th>return_value_bill</th>\n",
       "      <th>...</th>\n",
       "      <th>quantity_surgical</th>\n",
       "      <th>quantity_ayurvedic</th>\n",
       "      <th>quantity_general</th>\n",
       "      <th>quantity_otc</th>\n",
       "      <th>quantity_chronic</th>\n",
       "      <th>quantity_acute</th>\n",
       "      <th>quantity_h1</th>\n",
       "      <th>oct_purchase_flag</th>\n",
       "      <th>days</th>\n",
       "      <th>discount</th>\n",
       "    </tr>\n",
       "  </thead>\n",
       "  <tbody>\n",
       "    <tr>\n",
       "      <th>0</th>\n",
       "      <td>468</td>\n",
       "      <td>6251676</td>\n",
       "      <td>6628790</td>\n",
       "      <td>cash</td>\n",
       "      <td>2019-04-01 09:09:51</td>\n",
       "      <td>3.0</td>\n",
       "      <td>12.0</td>\n",
       "      <td>394.6</td>\n",
       "      <td>146.92</td>\n",
       "      <td>0.0</td>\n",
       "      <td>...</td>\n",
       "      <td>1.0</td>\n",
       "      <td>0.0</td>\n",
       "      <td>0.0</td>\n",
       "      <td>0.0</td>\n",
       "      <td>0.0</td>\n",
       "      <td>2.0</td>\n",
       "      <td>0.0</td>\n",
       "      <td>0</td>\n",
       "      <td>183</td>\n",
       "      <td>247.68</td>\n",
       "    </tr>\n",
       "    <tr>\n",
       "      <th>1</th>\n",
       "      <td>468</td>\n",
       "      <td>6251676</td>\n",
       "      <td>6628790</td>\n",
       "      <td>cash</td>\n",
       "      <td>2019-04-10 17:23:29</td>\n",
       "      <td>1.0</td>\n",
       "      <td>2.0</td>\n",
       "      <td>70.0</td>\n",
       "      <td>41.32</td>\n",
       "      <td>0.0</td>\n",
       "      <td>...</td>\n",
       "      <td>2.0</td>\n",
       "      <td>0.0</td>\n",
       "      <td>0.0</td>\n",
       "      <td>0.0</td>\n",
       "      <td>0.0</td>\n",
       "      <td>2.0</td>\n",
       "      <td>0.0</td>\n",
       "      <td>0</td>\n",
       "      <td>174</td>\n",
       "      <td>28.68</td>\n",
       "    </tr>\n",
       "    <tr>\n",
       "      <th>2</th>\n",
       "      <td>468</td>\n",
       "      <td>6251676</td>\n",
       "      <td>6628790</td>\n",
       "      <td>cash</td>\n",
       "      <td>2019-04-15 21:55:02</td>\n",
       "      <td>1.0</td>\n",
       "      <td>2.0</td>\n",
       "      <td>70.0</td>\n",
       "      <td>41.66</td>\n",
       "      <td>0.0</td>\n",
       "      <td>...</td>\n",
       "      <td>2.0</td>\n",
       "      <td>0.0</td>\n",
       "      <td>0.0</td>\n",
       "      <td>0.0</td>\n",
       "      <td>0.0</td>\n",
       "      <td>2.0</td>\n",
       "      <td>0.0</td>\n",
       "      <td>0</td>\n",
       "      <td>169</td>\n",
       "      <td>28.34</td>\n",
       "    </tr>\n",
       "    <tr>\n",
       "      <th>3</th>\n",
       "      <td>468</td>\n",
       "      <td>6251676</td>\n",
       "      <td>6628790</td>\n",
       "      <td>cash</td>\n",
       "      <td>2019-05-09 14:07:14</td>\n",
       "      <td>2.0</td>\n",
       "      <td>11.0</td>\n",
       "      <td>464.4</td>\n",
       "      <td>148.96</td>\n",
       "      <td>0.0</td>\n",
       "      <td>...</td>\n",
       "      <td>1.0</td>\n",
       "      <td>0.0</td>\n",
       "      <td>0.0</td>\n",
       "      <td>0.0</td>\n",
       "      <td>0.0</td>\n",
       "      <td>1.0</td>\n",
       "      <td>0.0</td>\n",
       "      <td>0</td>\n",
       "      <td>145</td>\n",
       "      <td>315.44</td>\n",
       "    </tr>\n",
       "    <tr>\n",
       "      <th>4</th>\n",
       "      <td>468</td>\n",
       "      <td>6702206</td>\n",
       "      <td>7298144</td>\n",
       "      <td>cash</td>\n",
       "      <td>2019-04-01 09:30:17</td>\n",
       "      <td>1.0</td>\n",
       "      <td>1.0</td>\n",
       "      <td>50.5</td>\n",
       "      <td>26.04</td>\n",
       "      <td>0.0</td>\n",
       "      <td>...</td>\n",
       "      <td>0.0</td>\n",
       "      <td>0.0</td>\n",
       "      <td>0.0</td>\n",
       "      <td>0.0</td>\n",
       "      <td>0.0</td>\n",
       "      <td>1.0</td>\n",
       "      <td>0.0</td>\n",
       "      <td>0</td>\n",
       "      <td>183</td>\n",
       "      <td>24.46</td>\n",
       "    </tr>\n",
       "  </tbody>\n",
       "</table>\n",
       "<p>5 rows × 23 columns</p>\n",
       "</div>"
      ],
      "text/plain": [
       "  store_ref_id customer_ref_id doctor_ref_id payment_method  \\\n",
       "0          468         6251676       6628790           cash   \n",
       "1          468         6251676       6628790           cash   \n",
       "2          468         6251676       6628790           cash   \n",
       "3          468         6251676       6628790           cash   \n",
       "4          468         6702206       7298144           cash   \n",
       "\n",
       "      created_at_bill  num_drugs_bill  total_quantity_bill  mrp_bill  \\\n",
       "0 2019-04-01 09:09:51             3.0                 12.0     394.6   \n",
       "1 2019-04-10 17:23:29             1.0                  2.0      70.0   \n",
       "2 2019-04-15 21:55:02             1.0                  2.0      70.0   \n",
       "3 2019-05-09 14:07:14             2.0                 11.0     464.4   \n",
       "4 2019-04-01 09:30:17             1.0                  1.0      50.5   \n",
       "\n",
       "   total_spend_bill  return_value_bill  ...  quantity_surgical  \\\n",
       "0            146.92                0.0  ...                1.0   \n",
       "1             41.32                0.0  ...                2.0   \n",
       "2             41.66                0.0  ...                2.0   \n",
       "3            148.96                0.0  ...                1.0   \n",
       "4             26.04                0.0  ...                0.0   \n",
       "\n",
       "   quantity_ayurvedic  quantity_general  quantity_otc  quantity_chronic  \\\n",
       "0                 0.0               0.0           0.0               0.0   \n",
       "1                 0.0               0.0           0.0               0.0   \n",
       "2                 0.0               0.0           0.0               0.0   \n",
       "3                 0.0               0.0           0.0               0.0   \n",
       "4                 0.0               0.0           0.0               0.0   \n",
       "\n",
       "   quantity_acute  quantity_h1  oct_purchase_flag  days  discount  \n",
       "0             2.0          0.0                  0   183    247.68  \n",
       "1             2.0          0.0                  0   174     28.68  \n",
       "2             2.0          0.0                  0   169     28.34  \n",
       "3             1.0          0.0                  0   145    315.44  \n",
       "4             1.0          0.0                  0   183     24.46  \n",
       "\n",
       "[5 rows x 23 columns]"
      ]
     },
     "execution_count": 48,
     "metadata": {},
     "output_type": "execute_result"
    }
   ],
   "source": [
    "train_data.head()"
   ]
  },
  {
   "cell_type": "code",
   "execution_count": 49,
   "metadata": {},
   "outputs": [],
   "source": [
    "#we can delete created_at_bill as we ahve already calculated number of days from current day\n",
    "train_data.drop('created_at_bill',axis=1,inplace=True)"
   ]
  },
  {
   "cell_type": "code",
   "execution_count": 50,
   "metadata": {},
   "outputs": [
    {
     "data": {
      "text/plain": [
       "(1184025, 22)"
      ]
     },
     "execution_count": 50,
     "metadata": {},
     "output_type": "execute_result"
    }
   ],
   "source": [
    "train_data.shape"
   ]
  },
  {
   "cell_type": "code",
   "execution_count": 51,
   "metadata": {
    "id": "O8F_bT5HSFps",
    "outputId": "317969a9-e960-4fcd-9abc-bb65aac1c75b"
   },
   "outputs": [
    {
     "data": {
      "text/plain": [
       "cash       1033440\n",
       "card        121169\n",
       "phonepe      18813\n",
       "paytm        10195\n",
       "upi            232\n",
       "cheque         173\n",
       "Name: payment_method, dtype: int64"
      ]
     },
     "execution_count": 51,
     "metadata": {},
     "output_type": "execute_result"
    }
   ],
   "source": [
    "train_data.payment_method.value_counts()   #we can merge phonepe, paytm,upi to online payment and check as cash to reduce the number of features"
   ]
  },
  {
   "cell_type": "markdown",
   "metadata": {},
   "source": [
    "##### Binning of categorical unique values"
   ]
  },
  {
   "cell_type": "code",
   "execution_count": 52,
   "metadata": {},
   "outputs": [],
   "source": [
    "train_data['payment_method'] = train_data['payment_method'].replace('phonepe','online')\n",
    "train_data['payment_method'] = train_data['payment_method'].replace('paytm','online')\n",
    "train_data['payment_method'] = train_data['payment_method'].replace('upi','online')\n",
    "train_data['payment_method'] = train_data['payment_method'].replace('cheque','cash')"
   ]
  },
  {
   "cell_type": "code",
   "execution_count": 53,
   "metadata": {},
   "outputs": [
    {
     "data": {
      "text/plain": [
       "cash      1033613\n",
       "card       121169\n",
       "online      29240\n",
       "Name: payment_method, dtype: int64"
      ]
     },
     "execution_count": 53,
     "metadata": {},
     "output_type": "execute_result"
    }
   ],
   "source": [
    "train_data.payment_method.value_counts() "
   ]
  },
  {
   "cell_type": "markdown",
   "metadata": {},
   "source": [
    "# Target Encoding"
   ]
  },
  {
   "cell_type": "markdown",
   "metadata": {},
   "source": [
    "### Converting categorical with large levels to numerical features"
   ]
  },
  {
   "cell_type": "code",
   "execution_count": 54,
   "metadata": {},
   "outputs": [],
   "source": [
    "encoder=ce.TargetEncoder()"
   ]
  },
  {
   "cell_type": "code",
   "execution_count": 55,
   "metadata": {},
   "outputs": [],
   "source": [
    "train_data['customer_ref_id']=encoder.fit_transform(train_data['customer_ref_id'],train_data['oct_purchase_flag'].astype('int'))"
   ]
  },
  {
   "cell_type": "code",
   "execution_count": 56,
   "metadata": {},
   "outputs": [],
   "source": [
    "encoder1=ce.TargetEncoder()"
   ]
  },
  {
   "cell_type": "code",
   "execution_count": 57,
   "metadata": {},
   "outputs": [],
   "source": [
    "train_data['doctor_ref_id']=encoder1.fit_transform(train_data['doctor_ref_id'],train_data['oct_purchase_flag'].astype('int'))"
   ]
  },
  {
   "cell_type": "markdown",
   "metadata": {
    "colab_type": "text",
    "id": "X0o4R4QSYxvB"
   },
   "source": [
    "# Split the data into train and validation"
   ]
  },
  {
   "cell_type": "code",
   "execution_count": 58,
   "metadata": {
    "colab": {},
    "colab_type": "code",
    "id": "nu40qDCMYhJz",
    "scrolled": true
   },
   "outputs": [],
   "source": [
    "y = train_data[\"oct_purchase_flag\"]                     #Getting target attribute\n",
    "X = train_data.drop('oct_purchase_flag', axis=1)        #Getting Independent Variables\n",
    "X_train, X_val, y_train, y_val = train_test_split(X, y, test_size = 0.25, random_state = 123, stratify = y)"
   ]
  },
  {
   "cell_type": "code",
   "execution_count": 59,
   "metadata": {
    "colab": {
     "base_uri": "https://localhost:8080/",
     "height": 84
    },
    "colab_type": "code",
    "id": "rNkF067nZC_K",
    "outputId": "f83f2d44-0580-4190-eb7e-31384307435e",
    "scrolled": true
   },
   "outputs": [
    {
     "name": "stdout",
     "output_type": "stream",
     "text": [
      "(888018, 21)\n",
      "(296007, 21)\n",
      "(888018,)\n",
      "(296007,)\n"
     ]
    }
   ],
   "source": [
    "## Getting the shape of train and validation\n",
    "\n",
    "print(X_train.shape)\n",
    "print(X_val.shape)\n",
    "print(y_train.shape)\n",
    "print(y_val.shape)"
   ]
  },
  {
   "cell_type": "markdown",
   "metadata": {
    "colab_type": "text",
    "id": "mhXLf6cyZJ9t"
   },
   "source": [
    "## Split the attributes into numerical and categorical types"
   ]
  },
  {
   "cell_type": "code",
   "execution_count": 60,
   "metadata": {
    "colab": {
     "base_uri": "https://localhost:8080/",
     "height": 34
    },
    "colab_type": "code",
    "id": "lyFFCBJ-ZMtL",
    "outputId": "faaff1f8-3369-4cfb-839e-7154666213f6",
    "scrolled": true
   },
   "outputs": [
    {
     "data": {
      "text/plain": [
       "Index(['customer_ref_id', 'doctor_ref_id', 'num_drugs_bill',\n",
       "       'total_quantity_bill', 'mrp_bill', 'total_spend_bill',\n",
       "       'return_value_bill', 'returned_quantity_bill', 'quantity_ethical',\n",
       "       'quantity_generic', 'quantity_surgical', 'quantity_ayurvedic',\n",
       "       'quantity_general', 'quantity_otc', 'quantity_chronic',\n",
       "       'quantity_acute', 'quantity_h1', 'days', 'discount'],\n",
       "      dtype='object')"
      ]
     },
     "execution_count": 60,
     "metadata": {},
     "output_type": "execute_result"
    }
   ],
   "source": [
    "num_attr=X_train.select_dtypes(['int64','float64']).columns   #Saving Numerical columns\n",
    "num_attr"
   ]
  },
  {
   "cell_type": "code",
   "execution_count": 61,
   "metadata": {
    "colab": {
     "base_uri": "https://localhost:8080/",
     "height": 84
    },
    "colab_type": "code",
    "id": "v77MaP0MZMw1",
    "outputId": "df106421-0e5a-4b31-f4ad-5f6562113816",
    "scrolled": true
   },
   "outputs": [
    {
     "data": {
      "text/plain": [
       "Index(['store_ref_id', 'payment_method'], dtype='object')"
      ]
     },
     "execution_count": 61,
     "metadata": {},
     "output_type": "execute_result"
    }
   ],
   "source": [
    "cat_attr = X_train.select_dtypes('category').columns     # Saving Categorical columns\n",
    "cat_attr"
   ]
  },
  {
   "cell_type": "markdown",
   "metadata": {
    "colab_type": "text",
    "id": "78FZr8TCEtJP"
   },
   "source": [
    "# Preparation for Model buillding\n",
    "\n",
    "## Checking and Imputing Missing Values"
   ]
  },
  {
   "cell_type": "code",
   "execution_count": 62,
   "metadata": {
    "colab": {
     "base_uri": "https://localhost:8080/",
     "height": 454
    },
    "colab_type": "code",
    "id": "FQVc5HtDFSsz",
    "outputId": "261ca58f-e6b6-4be3-b4db-c68ddde53a25",
    "scrolled": true
   },
   "outputs": [
    {
     "name": "stdout",
     "output_type": "stream",
     "text": [
      "store_ref_id              0\n",
      "customer_ref_id           0\n",
      "doctor_ref_id             0\n",
      "payment_method            2\n",
      "num_drugs_bill            0\n",
      "total_quantity_bill       0\n",
      "mrp_bill                  0\n",
      "total_spend_bill          0\n",
      "return_value_bill         0\n",
      "returned_quantity_bill    0\n",
      "quantity_ethical          0\n",
      "quantity_generic          0\n",
      "quantity_surgical         0\n",
      "quantity_ayurvedic        0\n",
      "quantity_general          0\n",
      "quantity_otc              0\n",
      "quantity_chronic          0\n",
      "quantity_acute            0\n",
      "quantity_h1               0\n",
      "days                      0\n",
      "discount                  0\n",
      "dtype: int64\n"
     ]
    }
   ],
   "source": [
    "print(X_train.isnull().sum())            #Checking null values"
   ]
  },
  {
   "cell_type": "code",
   "execution_count": 63,
   "metadata": {
    "scrolled": true
   },
   "outputs": [
    {
     "name": "stdout",
     "output_type": "stream",
     "text": [
      "store_ref_id              0\n",
      "customer_ref_id           0\n",
      "doctor_ref_id             0\n",
      "payment_method            1\n",
      "num_drugs_bill            0\n",
      "total_quantity_bill       0\n",
      "mrp_bill                  0\n",
      "total_spend_bill          0\n",
      "return_value_bill         0\n",
      "returned_quantity_bill    0\n",
      "quantity_ethical          0\n",
      "quantity_generic          0\n",
      "quantity_surgical         0\n",
      "quantity_ayurvedic        0\n",
      "quantity_general          0\n",
      "quantity_otc              0\n",
      "quantity_chronic          0\n",
      "quantity_acute            0\n",
      "quantity_h1               0\n",
      "days                      0\n",
      "discount                  0\n",
      "dtype: int64\n"
     ]
    }
   ],
   "source": [
    "print(X_val.isnull().sum())"
   ]
  },
  {
   "cell_type": "code",
   "execution_count": 64,
   "metadata": {
    "scrolled": true
   },
   "outputs": [],
   "source": [
    "# Imputing Null values in Categorical columns\n",
    "\n",
    "imputer = SimpleImputer(strategy='most_frequent')   \n",
    "imputer = imputer.fit(X_train[cat_attr])\n",
    "\n",
    "X_train[cat_attr] = imputer.transform(X_train[cat_attr])\n",
    "X_val[cat_attr] = imputer.transform(X_val[cat_attr])"
   ]
  },
  {
   "cell_type": "code",
   "execution_count": 65,
   "metadata": {},
   "outputs": [
    {
     "name": "stdout",
     "output_type": "stream",
     "text": [
      "store_ref_id              0\n",
      "customer_ref_id           0\n",
      "doctor_ref_id             0\n",
      "payment_method            0\n",
      "num_drugs_bill            0\n",
      "total_quantity_bill       0\n",
      "mrp_bill                  0\n",
      "total_spend_bill          0\n",
      "return_value_bill         0\n",
      "returned_quantity_bill    0\n",
      "quantity_ethical          0\n",
      "quantity_generic          0\n",
      "quantity_surgical         0\n",
      "quantity_ayurvedic        0\n",
      "quantity_general          0\n",
      "quantity_otc              0\n",
      "quantity_chronic          0\n",
      "quantity_acute            0\n",
      "quantity_h1               0\n",
      "days                      0\n",
      "discount                  0\n",
      "dtype: int64\n"
     ]
    }
   ],
   "source": [
    "print(X_val.isnull().sum())"
   ]
  },
  {
   "cell_type": "code",
   "execution_count": 66,
   "metadata": {},
   "outputs": [
    {
     "name": "stdout",
     "output_type": "stream",
     "text": [
      "store_ref_id              0\n",
      "customer_ref_id           0\n",
      "doctor_ref_id             0\n",
      "payment_method            0\n",
      "num_drugs_bill            0\n",
      "total_quantity_bill       0\n",
      "mrp_bill                  0\n",
      "total_spend_bill          0\n",
      "return_value_bill         0\n",
      "returned_quantity_bill    0\n",
      "quantity_ethical          0\n",
      "quantity_generic          0\n",
      "quantity_surgical         0\n",
      "quantity_ayurvedic        0\n",
      "quantity_general          0\n",
      "quantity_otc              0\n",
      "quantity_chronic          0\n",
      "quantity_acute            0\n",
      "quantity_h1               0\n",
      "days                      0\n",
      "discount                  0\n",
      "dtype: int64\n"
     ]
    }
   ],
   "source": [
    "print(X_train.isnull().sum()) "
   ]
  },
  {
   "cell_type": "markdown",
   "metadata": {},
   "source": [
    "__Observation:__\n",
    "\n",
    " - All null values present in train data are imputed."
   ]
  },
  {
   "cell_type": "markdown",
   "metadata": {},
   "source": [
    "# Multicollinearity "
   ]
  },
  {
   "cell_type": "markdown",
   "metadata": {},
   "source": [
    "#### Standardizing the numerical variables"
   ]
  },
  {
   "cell_type": "code",
   "execution_count": 67,
   "metadata": {},
   "outputs": [],
   "source": [
    "scaler = StandardScaler()\n",
    "scaler.fit(X_train[num_attr])\n",
    "\n",
    "#Standardising train num columns to remove multicollinearity\n",
    "X_train_num = pd.DataFrame(scaler.transform(X_train[num_attr]), columns=num_attr)"
   ]
  },
  {
   "cell_type": "markdown",
   "metadata": {},
   "source": [
    "## Checking MultiCollinearity"
   ]
  },
  {
   "cell_type": "code",
   "execution_count": 68,
   "metadata": {},
   "outputs": [
    {
     "data": {
      "text/html": [
       "<div>\n",
       "<style scoped>\n",
       "    .dataframe tbody tr th:only-of-type {\n",
       "        vertical-align: middle;\n",
       "    }\n",
       "\n",
       "    .dataframe tbody tr th {\n",
       "        vertical-align: top;\n",
       "    }\n",
       "\n",
       "    .dataframe thead th {\n",
       "        text-align: right;\n",
       "    }\n",
       "</style>\n",
       "<table border=\"1\" class=\"dataframe\">\n",
       "  <thead>\n",
       "    <tr style=\"text-align: right;\">\n",
       "      <th></th>\n",
       "      <th>VIF Factor</th>\n",
       "      <th>features</th>\n",
       "    </tr>\n",
       "  </thead>\n",
       "  <tbody>\n",
       "    <tr>\n",
       "      <th>0</th>\n",
       "      <td>1.494185</td>\n",
       "      <td>customer_ref_id</td>\n",
       "    </tr>\n",
       "    <tr>\n",
       "      <th>1</th>\n",
       "      <td>1.489452</td>\n",
       "      <td>doctor_ref_id</td>\n",
       "    </tr>\n",
       "    <tr>\n",
       "      <th>2</th>\n",
       "      <td>1.682175</td>\n",
       "      <td>num_drugs_bill</td>\n",
       "    </tr>\n",
       "    <tr>\n",
       "      <th>3</th>\n",
       "      <td>2.167581</td>\n",
       "      <td>total_quantity_bill</td>\n",
       "    </tr>\n",
       "    <tr>\n",
       "      <th>4</th>\n",
       "      <td>inf</td>\n",
       "      <td>mrp_bill</td>\n",
       "    </tr>\n",
       "    <tr>\n",
       "      <th>5</th>\n",
       "      <td>inf</td>\n",
       "      <td>total_spend_bill</td>\n",
       "    </tr>\n",
       "    <tr>\n",
       "      <th>6</th>\n",
       "      <td>1.101565</td>\n",
       "      <td>return_value_bill</td>\n",
       "    </tr>\n",
       "    <tr>\n",
       "      <th>7</th>\n",
       "      <td>1.040621</td>\n",
       "      <td>returned_quantity_bill</td>\n",
       "    </tr>\n",
       "    <tr>\n",
       "      <th>8</th>\n",
       "      <td>1.608857</td>\n",
       "      <td>quantity_ethical</td>\n",
       "    </tr>\n",
       "    <tr>\n",
       "      <th>9</th>\n",
       "      <td>1.776238</td>\n",
       "      <td>quantity_generic</td>\n",
       "    </tr>\n",
       "    <tr>\n",
       "      <th>10</th>\n",
       "      <td>1.022958</td>\n",
       "      <td>quantity_surgical</td>\n",
       "    </tr>\n",
       "    <tr>\n",
       "      <th>11</th>\n",
       "      <td>NaN</td>\n",
       "      <td>quantity_ayurvedic</td>\n",
       "    </tr>\n",
       "    <tr>\n",
       "      <th>12</th>\n",
       "      <td>1.009985</td>\n",
       "      <td>quantity_general</td>\n",
       "    </tr>\n",
       "    <tr>\n",
       "      <th>13</th>\n",
       "      <td>NaN</td>\n",
       "      <td>quantity_otc</td>\n",
       "    </tr>\n",
       "    <tr>\n",
       "      <th>14</th>\n",
       "      <td>1.590769</td>\n",
       "      <td>quantity_chronic</td>\n",
       "    </tr>\n",
       "    <tr>\n",
       "      <th>15</th>\n",
       "      <td>1.628719</td>\n",
       "      <td>quantity_acute</td>\n",
       "    </tr>\n",
       "    <tr>\n",
       "      <th>16</th>\n",
       "      <td>NaN</td>\n",
       "      <td>quantity_h1</td>\n",
       "    </tr>\n",
       "    <tr>\n",
       "      <th>17</th>\n",
       "      <td>1.015639</td>\n",
       "      <td>days</td>\n",
       "    </tr>\n",
       "    <tr>\n",
       "      <th>18</th>\n",
       "      <td>inf</td>\n",
       "      <td>discount</td>\n",
       "    </tr>\n",
       "  </tbody>\n",
       "</table>\n",
       "</div>"
      ],
      "text/plain": [
       "    VIF Factor                features\n",
       "0     1.494185         customer_ref_id\n",
       "1     1.489452           doctor_ref_id\n",
       "2     1.682175          num_drugs_bill\n",
       "3     2.167581     total_quantity_bill\n",
       "4          inf                mrp_bill\n",
       "5          inf        total_spend_bill\n",
       "6     1.101565       return_value_bill\n",
       "7     1.040621  returned_quantity_bill\n",
       "8     1.608857        quantity_ethical\n",
       "9     1.776238        quantity_generic\n",
       "10    1.022958       quantity_surgical\n",
       "11         NaN      quantity_ayurvedic\n",
       "12    1.009985        quantity_general\n",
       "13         NaN            quantity_otc\n",
       "14    1.590769        quantity_chronic\n",
       "15    1.628719          quantity_acute\n",
       "16         NaN             quantity_h1\n",
       "17    1.015639                    days\n",
       "18         inf                discount"
      ]
     },
     "execution_count": 68,
     "metadata": {},
     "output_type": "execute_result"
    }
   ],
   "source": [
    "from statsmodels.stats.outliers_influence import variance_inflation_factor\n",
    "vif = pd.DataFrame()\n",
    "vif[\"VIF Factor\"] = [variance_inflation_factor(X_train_num[num_attr].values, i) for i in range(X_train_num[num_attr].shape[1])]\n",
    "vif[\"features\"] = X_train_num[num_attr].columns\n",
    "vif"
   ]
  },
  {
   "cell_type": "code",
   "execution_count": 69,
   "metadata": {},
   "outputs": [],
   "source": [
    "for col in ['store_ref_id','payment_method']:\n",
    "    X_train[col] = X_train[col].astype('category')\n",
    "    X_val[col] = X_val[col].astype('category')"
   ]
  },
  {
   "cell_type": "code",
   "execution_count": 70,
   "metadata": {},
   "outputs": [
    {
     "data": {
      "text/plain": [
       "store_ref_id              category\n",
       "customer_ref_id            float64\n",
       "doctor_ref_id              float64\n",
       "payment_method            category\n",
       "num_drugs_bill             float64\n",
       "total_quantity_bill        float64\n",
       "mrp_bill                   float64\n",
       "total_spend_bill           float64\n",
       "return_value_bill          float64\n",
       "returned_quantity_bill     float64\n",
       "quantity_ethical           float64\n",
       "quantity_generic           float64\n",
       "quantity_surgical          float64\n",
       "quantity_ayurvedic         float64\n",
       "quantity_general           float64\n",
       "quantity_otc               float64\n",
       "quantity_chronic           float64\n",
       "quantity_acute             float64\n",
       "quantity_h1                float64\n",
       "days                         int64\n",
       "discount                   float64\n",
       "dtype: object"
      ]
     },
     "execution_count": 70,
     "metadata": {},
     "output_type": "execute_result"
    }
   ],
   "source": [
    "X_train.dtypes"
   ]
  },
  {
   "cell_type": "markdown",
   "metadata": {
    "colab_type": "text",
    "id": "HC6ewXEwFoqn"
   },
   "source": [
    "## Initiating Pipeline \n",
    "\n",
    "#### Standardizing and One-hot encoding Categorical attributes "
   ]
  },
  {
   "cell_type": "code",
   "execution_count": 71,
   "metadata": {},
   "outputs": [],
   "source": [
    "from sklearn_pandas import DataFrameMapper\n",
    "from sklearn.pipeline import Pipeline"
   ]
  },
  {
   "cell_type": "code",
   "execution_count": 72,
   "metadata": {
    "scrolled": true
   },
   "outputs": [],
   "source": [
    "# DataFrameMapper, a class for mapping pandas data frame columns to different sklearn transformations\n",
    "mapper = DataFrameMapper(\n",
    "  [([continuous_col], StandardScaler()) for continuous_col in num_attr]  + \n",
    "    [([categorical_col], OneHotEncoder(handle_unknown='ignore')) for categorical_col in cat_attr]\n",
    ", df_out=True)"
   ]
  },
  {
   "cell_type": "code",
   "execution_count": 73,
   "metadata": {
    "scrolled": true
   },
   "outputs": [
    {
     "name": "stdout",
     "output_type": "stream",
     "text": [
      "<class 'sklearn_pandas.dataframe_mapper.DataFrameMapper'>\n"
     ]
    }
   ],
   "source": [
    "print(type(mapper))"
   ]
  },
  {
   "cell_type": "code",
   "execution_count": 74,
   "metadata": {
    "scrolled": false
   },
   "outputs": [],
   "source": [
    "mapper.fit(X_train)\n",
    "\n",
    "X_train = mapper.transform(X_train)\n",
    "X_val = mapper.transform(X_val)"
   ]
  },
  {
   "cell_type": "code",
   "execution_count": 75,
   "metadata": {
    "scrolled": true
   },
   "outputs": [
    {
     "name": "stdout",
     "output_type": "stream",
     "text": [
      "(888018, 65)\n",
      "(296007, 65)\n"
     ]
    }
   ],
   "source": [
    "print(X_train.shape)\n",
    "print(X_val.shape)"
   ]
  },
  {
   "cell_type": "markdown",
   "metadata": {},
   "source": [
    "# Classification report"
   ]
  },
  {
   "cell_type": "code",
   "execution_count": 76,
   "metadata": {
    "scrolled": true
   },
   "outputs": [],
   "source": [
    "def get_CR_CM(train_actual,train_predicted,test_actual,test_predicted):\n",
    "    print('''\n",
    "         ========================================\n",
    "           CLASSIFICATION REPORT FOR TRAIN DATA\n",
    "         ========================================\n",
    "        ''')\n",
    "    print(classification_report(train_actual, train_predicted, digits=4))\n",
    "\n",
    "    print('''\n",
    "             =============================================\n",
    "               CLASSIFICATION REPORT FOR VALIDATION DATA\n",
    "             =============================================\n",
    "            ''')\n",
    "    print(classification_report(test_actual, test_predicted, digits=4))\n",
    "\n",
    "    print('''\n",
    "             ========================================\n",
    "               Confusion Matrix FOR TRAIN DATA\n",
    "             ========================================\n",
    "            ''')\n",
    "    print(confusion_matrix(train_actual, train_predicted))\n",
    "\n",
    "    print('''\n",
    "             =============================================\n",
    "               Confusion matrix FOR VALIDATION DATA\n",
    "             =============================================\n",
    "            ''')\n",
    "    print(confusion_matrix(test_actual, test_predicted))\n",
    "    "
   ]
  },
  {
   "cell_type": "markdown",
   "metadata": {},
   "source": [
    "## Function to calculate accuracy, recall, precision and F1 score# "
   ]
  },
  {
   "cell_type": "code",
   "execution_count": 77,
   "metadata": {
    "scrolled": true
   },
   "outputs": [],
   "source": [
    "scores = pd.DataFrame(columns=['Model','Train_Accuracy','Train_Recall','Train_Precision','Train_F1_Score','Test_Accuracy','Test_Recall','Test_Precision','Test_F1_Score'])\n",
    "\n",
    "def get_metrics(train_actual,train_predicted,test_actual,test_predicted,model_description,dataframe):\n",
    "    get_CR_CM(train_actual,train_predicted,test_actual,test_predicted)\n",
    "    train_accuracy = accuracy_score(train_actual,train_predicted)\n",
    "    train_recall   = recall_score(train_actual,train_predicted)\n",
    "    train_precision= precision_score(train_actual,train_predicted)\n",
    "    train_f1score  = f1_score(train_actual,train_predicted)\n",
    "    test_accuracy = accuracy_score(test_actual,test_predicted)\n",
    "    test_recall   = recall_score(test_actual,test_predicted)\n",
    "    test_precision= precision_score(test_actual,test_predicted)\n",
    "    test_f1score  = f1_score(test_actual,test_predicted)\n",
    "    dataframe = dataframe.append(pd.Series([model_description, train_accuracy,train_recall,train_precision,train_f1score,\n",
    "                                            test_accuracy,test_recall,test_precision,test_f1score],\n",
    "                                           index=scores.columns ), ignore_index=True)\n",
    "    return(dataframe)"
   ]
  },
  {
   "cell_type": "markdown",
   "metadata": {},
   "source": [
    "#  MODEL BUILDING"
   ]
  },
  {
   "cell_type": "markdown",
   "metadata": {},
   "source": [
    "### Logistic Regression"
   ]
  },
  {
   "cell_type": "code",
   "execution_count": 78,
   "metadata": {
    "scrolled": true
   },
   "outputs": [],
   "source": [
    "log_mod = LogisticRegression(random_state=123)"
   ]
  },
  {
   "cell_type": "code",
   "execution_count": 79,
   "metadata": {
    "scrolled": true
   },
   "outputs": [
    {
     "data": {
      "text/plain": [
       "LogisticRegression(random_state=123)"
      ]
     },
     "execution_count": 79,
     "metadata": {},
     "output_type": "execute_result"
    }
   ],
   "source": [
    "log_mod.fit(X_train, y_train)"
   ]
  },
  {
   "cell_type": "code",
   "execution_count": 80,
   "metadata": {
    "scrolled": true
   },
   "outputs": [],
   "source": [
    "y_pred_train = log_mod.predict(X_train)\n",
    "y_pred_val = log_mod.predict(X_val)"
   ]
  },
  {
   "cell_type": "markdown",
   "metadata": {},
   "source": [
    "##### Evaluating the model performance"
   ]
  },
  {
   "cell_type": "code",
   "execution_count": 81,
   "metadata": {},
   "outputs": [
    {
     "name": "stdout",
     "output_type": "stream",
     "text": [
      "\n",
      "         ========================================\n",
      "           CLASSIFICATION REPORT FOR TRAIN DATA\n",
      "         ========================================\n",
      "        \n",
      "              precision    recall  f1-score   support\n",
      "\n",
      "           0     0.9744    1.0000    0.9870    347799\n",
      "           1     1.0000    0.9831    0.9915    540219\n",
      "\n",
      "    accuracy                         0.9897    888018\n",
      "   macro avg     0.9872    0.9915    0.9892    888018\n",
      "weighted avg     0.9900    0.9897    0.9897    888018\n",
      "\n",
      "\n",
      "             =============================================\n",
      "               CLASSIFICATION REPORT FOR VALIDATION DATA\n",
      "             =============================================\n",
      "            \n",
      "              precision    recall  f1-score   support\n",
      "\n",
      "           0     0.9747    1.0000    0.9872    115933\n",
      "           1     1.0000    0.9833    0.9916    180074\n",
      "\n",
      "    accuracy                         0.9898    296007\n",
      "   macro avg     0.9873    0.9916    0.9894    296007\n",
      "weighted avg     0.9901    0.9898    0.9898    296007\n",
      "\n",
      "\n",
      "             ========================================\n",
      "               Confusion Matrix FOR TRAIN DATA\n",
      "             ========================================\n",
      "            \n",
      "[[347784     15]\n",
      " [  9139 531080]]\n",
      "\n",
      "             =============================================\n",
      "               Confusion matrix FOR VALIDATION DATA\n",
      "             =============================================\n",
      "            \n",
      "[[115929      4]\n",
      " [  3010 177064]]\n"
     ]
    },
    {
     "data": {
      "text/html": [
       "<div>\n",
       "<style scoped>\n",
       "    .dataframe tbody tr th:only-of-type {\n",
       "        vertical-align: middle;\n",
       "    }\n",
       "\n",
       "    .dataframe tbody tr th {\n",
       "        vertical-align: top;\n",
       "    }\n",
       "\n",
       "    .dataframe thead th {\n",
       "        text-align: right;\n",
       "    }\n",
       "</style>\n",
       "<table border=\"1\" class=\"dataframe\">\n",
       "  <thead>\n",
       "    <tr style=\"text-align: right;\">\n",
       "      <th></th>\n",
       "      <th>Model</th>\n",
       "      <th>Train_Accuracy</th>\n",
       "      <th>Train_Recall</th>\n",
       "      <th>Train_Precision</th>\n",
       "      <th>Train_F1_Score</th>\n",
       "      <th>Test_Accuracy</th>\n",
       "      <th>Test_Recall</th>\n",
       "      <th>Test_Precision</th>\n",
       "      <th>Test_F1_Score</th>\n",
       "    </tr>\n",
       "  </thead>\n",
       "  <tbody>\n",
       "    <tr>\n",
       "      <th>0</th>\n",
       "      <td>LogisticRegression</td>\n",
       "      <td>0.989692</td>\n",
       "      <td>0.983083</td>\n",
       "      <td>0.999972</td>\n",
       "      <td>0.991455</td>\n",
       "      <td>0.989818</td>\n",
       "      <td>0.983285</td>\n",
       "      <td>0.999977</td>\n",
       "      <td>0.991561</td>\n",
       "    </tr>\n",
       "  </tbody>\n",
       "</table>\n",
       "</div>"
      ],
      "text/plain": [
       "                Model  Train_Accuracy  Train_Recall  Train_Precision  \\\n",
       "0  LogisticRegression        0.989692      0.983083         0.999972   \n",
       "\n",
       "   Train_F1_Score  Test_Accuracy  Test_Recall  Test_Precision  Test_F1_Score  \n",
       "0        0.991455       0.989818     0.983285        0.999977       0.991561  "
      ]
     },
     "execution_count": 81,
     "metadata": {},
     "output_type": "execute_result"
    }
   ],
   "source": [
    "scores = get_metrics(y_train,y_pred_train,y_val,y_pred_val,\"LogisticRegression\",scores)\n",
    "scores"
   ]
  },
  {
   "cell_type": "markdown",
   "metadata": {
    "id": "bMqBBQzMSFwt"
   },
   "source": [
    "\n",
    "\n",
    "# ROC AUC Curve"
   ]
  },
  {
   "cell_type": "code",
   "execution_count": 82,
   "metadata": {
    "id": "Q7PyckAfSFwt",
    "outputId": "4bb93371-1224-48bc-a5ec-d2bda2743220",
    "scrolled": true
   },
   "outputs": [
    {
     "data": {
      "image/png": "[encoded data removed]",
      "text/plain": [
       "<Figure size 432x288 with 1 Axes>"
      ]
     },
     "metadata": {
      "needs_background": "light"
     },
     "output_type": "display_data"
    }
   ],
   "source": [
    "y_pred_train_prob = log_mod.predict_proba(X_train)[:,1]\n",
    "fpr, tpr, threshold = roc_curve(y_train, y_pred_train_prob, pos_label = 1)\n",
    "auc = roc_auc_score(y_train, y_pred_train)\n",
    "plt.plot(fpr,tpr,label=\"auc=\"+str(auc))\n",
    "plt.xlabel('False Positive Rate')\n",
    "plt.ylabel('True Positive Rate')\n",
    "plt.legend()\n",
    "plt.show()"
   ]
  },
  {
   "cell_type": "markdown",
   "metadata": {},
   "source": [
    "### Decision Tree Classifier"
   ]
  },
  {
   "cell_type": "code",
   "execution_count": 83,
   "metadata": {
    "scrolled": true
   },
   "outputs": [
    {
     "data": {
      "text/plain": [
       "DecisionTreeClassifier(ccp_alpha=0.05, class_weight='balanced',\n",
       "                       random_state=123)"
      ]
     },
     "execution_count": 83,
     "metadata": {},
     "output_type": "execute_result"
    }
   ],
   "source": [
    "# Create Decision Tree classifer object\n",
    "clf_dt = DecisionTreeClassifier(class_weight = 'balanced', random_state=123,ccp_alpha =0.05)\n",
    "\n",
    "# Train Decision Tree Classifer\n",
    "clf_dt.fit(X_train,y_train)"
   ]
  },
  {
   "cell_type": "code",
   "execution_count": 84,
   "metadata": {
    "scrolled": true
   },
   "outputs": [],
   "source": [
    "y_pred_train = clf_dt.predict(X_train)\n",
    "y_pred_val = clf_dt.predict(X_val)"
   ]
  },
  {
   "cell_type": "code",
   "execution_count": 85,
   "metadata": {
    "scrolled": false
   },
   "outputs": [
    {
     "name": "stdout",
     "output_type": "stream",
     "text": [
      "\n",
      "         ========================================\n",
      "           CLASSIFICATION REPORT FOR TRAIN DATA\n",
      "         ========================================\n",
      "        \n",
      "              precision    recall  f1-score   support\n",
      "\n",
      "           0     0.9743    1.0000    0.9870    347799\n",
      "           1     1.0000    0.9830    0.9914    540219\n",
      "\n",
      "    accuracy                         0.9897    888018\n",
      "   macro avg     0.9872    0.9915    0.9892    888018\n",
      "weighted avg     0.9899    0.9897    0.9897    888018\n",
      "\n",
      "\n",
      "             =============================================\n",
      "               CLASSIFICATION REPORT FOR VALIDATION DATA\n",
      "             =============================================\n",
      "            \n",
      "              precision    recall  f1-score   support\n",
      "\n",
      "           0     0.9746    1.0000    0.9871    115933\n",
      "           1     1.0000    0.9832    0.9915    180074\n",
      "\n",
      "    accuracy                         0.9898    296007\n",
      "   macro avg     0.9873    0.9916    0.9893    296007\n",
      "weighted avg     0.9901    0.9898    0.9898    296007\n",
      "\n",
      "\n",
      "             ========================================\n",
      "               Confusion Matrix FOR TRAIN DATA\n",
      "             ========================================\n",
      "            \n",
      "[[347799      0]\n",
      " [  9162 531057]]\n",
      "\n",
      "             =============================================\n",
      "               Confusion matrix FOR VALIDATION DATA\n",
      "             =============================================\n",
      "            \n",
      "[[115933      0]\n",
      " [  3019 177055]]\n"
     ]
    },
    {
     "data": {
      "text/html": [
       "<div>\n",
       "<style scoped>\n",
       "    .dataframe tbody tr th:only-of-type {\n",
       "        vertical-align: middle;\n",
       "    }\n",
       "\n",
       "    .dataframe tbody tr th {\n",
       "        vertical-align: top;\n",
       "    }\n",
       "\n",
       "    .dataframe thead th {\n",
       "        text-align: right;\n",
       "    }\n",
       "</style>\n",
       "<table border=\"1\" class=\"dataframe\">\n",
       "  <thead>\n",
       "    <tr style=\"text-align: right;\">\n",
       "      <th></th>\n",
       "      <th>Model</th>\n",
       "      <th>Train_Accuracy</th>\n",
       "      <th>Train_Recall</th>\n",
       "      <th>Train_Precision</th>\n",
       "      <th>Train_F1_Score</th>\n",
       "      <th>Test_Accuracy</th>\n",
       "      <th>Test_Recall</th>\n",
       "      <th>Test_Precision</th>\n",
       "      <th>Test_F1_Score</th>\n",
       "    </tr>\n",
       "  </thead>\n",
       "  <tbody>\n",
       "    <tr>\n",
       "      <th>0</th>\n",
       "      <td>LogisticRegression</td>\n",
       "      <td>0.989692</td>\n",
       "      <td>0.983083</td>\n",
       "      <td>0.999972</td>\n",
       "      <td>0.991455</td>\n",
       "      <td>0.989818</td>\n",
       "      <td>0.983285</td>\n",
       "      <td>0.999977</td>\n",
       "      <td>0.991561</td>\n",
       "    </tr>\n",
       "    <tr>\n",
       "      <th>1</th>\n",
       "      <td>DecisionTree</td>\n",
       "      <td>0.989683</td>\n",
       "      <td>0.983040</td>\n",
       "      <td>1.000000</td>\n",
       "      <td>0.991448</td>\n",
       "      <td>0.989801</td>\n",
       "      <td>0.983235</td>\n",
       "      <td>1.000000</td>\n",
       "      <td>0.991546</td>\n",
       "    </tr>\n",
       "  </tbody>\n",
       "</table>\n",
       "</div>"
      ],
      "text/plain": [
       "                Model  Train_Accuracy  Train_Recall  Train_Precision  \\\n",
       "0  LogisticRegression        0.989692      0.983083         0.999972   \n",
       "1        DecisionTree        0.989683      0.983040         1.000000   \n",
       "\n",
       "   Train_F1_Score  Test_Accuracy  Test_Recall  Test_Precision  Test_F1_Score  \n",
       "0        0.991455       0.989818     0.983285        0.999977       0.991561  \n",
       "1        0.991448       0.989801     0.983235        1.000000       0.991546  "
      ]
     },
     "execution_count": 85,
     "metadata": {},
     "output_type": "execute_result"
    }
   ],
   "source": [
    "scores = get_metrics(y_train,y_pred_train,y_val,y_pred_val,\"DecisionTree\",scores)\n",
    "scores"
   ]
  },
  {
   "cell_type": "markdown",
   "metadata": {
    "id": "ViNXtgp4SF0W"
   },
   "source": [
    "# Check important features"
   ]
  },
  {
   "cell_type": "markdown",
   "metadata": {
    "id": "j9WjzHhrRHyT"
   },
   "source": [
    "### Feature Importances"
   ]
  },
  {
   "cell_type": "code",
   "execution_count": 86,
   "metadata": {},
   "outputs": [],
   "source": [
    "from sklearn.ensemble import ExtraTreesClassifier"
   ]
  },
  {
   "cell_type": "code",
   "execution_count": 87,
   "metadata": {
    "colab": {
     "base_uri": "https://localhost:8080/"
    },
    "executionInfo": {
     "elapsed": 3330,
     "status": "ok",
     "timestamp": 1621456082463,
     "user": {
      "displayName": "Himanshu Rai",
      "photoUrl": "",
      "userId": "05553162241328899148"
     },
     "user_tz": -330
    },
    "id": "DijH2l4zTlJU",
    "outputId": "78deb08b-6361-496b-9d2a-0ef20335dee6"
   },
   "outputs": [
    {
     "data": {
      "text/plain": [
       "ExtraTreesClassifier()"
      ]
     },
     "execution_count": 87,
     "metadata": {},
     "output_type": "execute_result"
    }
   ],
   "source": [
    "#from sklearn.ensemble import ExtraTreesClassifier\n",
    "model = ExtraTreesClassifier()\n",
    "model.fit(X_train,y_train)"
   ]
  },
  {
   "cell_type": "code",
   "execution_count": 88,
   "metadata": {
    "colab": {
     "base_uri": "https://localhost:8080/",
     "height": 592
    },
    "executionInfo": {
     "elapsed": 875,
     "status": "ok",
     "timestamp": 1621456958768,
     "user": {
      "displayName": "Himanshu Rai",
      "photoUrl": "",
      "userId": "05553162241328899148"
     },
     "user_tz": -330
    },
    "id": "IwBzOIpvUvme",
    "outputId": "72b79c17-60bb-45b4-be16-856505d66703"
   },
   "outputs": [
    {
     "data": {
      "image/png": "[encoded data removed]",
      "text/plain": [
       "<Figure size 432x288 with 1 Axes>"
      ]
     },
     "metadata": {
      "needs_background": "light"
     },
     "output_type": "display_data"
    }
   ],
   "source": [
    "ranked_features = pd.Series(model.feature_importances_,index = X_train.columns)\n",
    "#plt.figure(figsize= (10,10))\n",
    "ranked_features.nlargest(20).plot(kind='barh')\n",
    "plt.show()"
   ]
  },
  {
   "cell_type": "markdown",
   "metadata": {
    "id": "gVQvlwcLSF0f"
   },
   "source": [
    "# Max_depth"
   ]
  },
  {
   "cell_type": "code",
   "execution_count": 91,
   "metadata": {
    "id": "p9QCR5XUSF0g",
    "outputId": "ceb71738-9e41-419b-bf1f-db28a55924e7",
    "scrolled": true
   },
   "outputs": [
    {
     "data": {
      "image/png": "[encoded data removed]",
      "text/plain": [
       "<Figure size 432x288 with 1 Axes>"
      ]
     },
     "metadata": {
      "needs_background": "light"
     },
     "output_type": "display_data"
    }
   ],
   "source": [
    "max_depths = np.linspace(1, 50, 50, endpoint=True)\n",
    "\n",
    "train_results = []\n",
    "val_results = []\n",
    "\n",
    "for max_depth in max_depths:\n",
    "    dt = tree.DecisionTreeClassifier(max_depth=max_depth)\n",
    "    dt.fit(X_train, y_train)\n",
    "    \n",
    "    train_pred = dt.predict(X_train)\n",
    "    confusion_matrix_train = confusion_matrix(y_train, train_pred)\n",
    "    Accuracy_Train=(confusion_matrix_train[0,0]+confusion_matrix_train[1,1])/(confusion_matrix_train[0,0]+confusion_matrix_train[0,1]+confusion_matrix_train[1,0]+confusion_matrix_train[1,1])\n",
    "    train_results.append(Accuracy_Train)\n",
    "    \n",
    "    val_pred = dt.predict(X_val)\n",
    "    confusion_matrix_val = confusion_matrix(y_val, val_pred)\n",
    "    Accuracy_val=(confusion_matrix_val[0,0]+confusion_matrix_val[1,1])/(confusion_matrix_val[0,0]+confusion_matrix_val[0,1]+confusion_matrix_val[1,0]+confusion_matrix_val[1,1])\n",
    "    val_results.append(Accuracy_val)\n",
    "    \n",
    "from matplotlib.legend_handler import HandlerLine2D\n",
    "line1, = plt.plot(max_depths, train_results,'b', label='Train Accuracy')\n",
    "line2, = plt.plot(max_depths, val_results,'r', label='val Accuracy')\n",
    "plt.legend(handler_map={line1: HandlerLine2D(numpoints=2)})\n",
    "plt.ylabel('Accuracy')\n",
    "plt.xlabel('Tree depth')\n",
    "plt.show()"
   ]
  },
  {
   "cell_type": "markdown",
   "metadata": {},
   "source": [
    "## RandomForestClassifier Model"
   ]
  },
  {
   "cell_type": "code",
   "execution_count": 92,
   "metadata": {},
   "outputs": [],
   "source": [
    "clf2 = RandomForestClassifier()"
   ]
  },
  {
   "cell_type": "code",
   "execution_count": 93,
   "metadata": {},
   "outputs": [
    {
     "data": {
      "text/plain": [
       "RandomForestClassifier()"
      ]
     },
     "execution_count": 93,
     "metadata": {},
     "output_type": "execute_result"
    }
   ],
   "source": [
    "clf2.fit(X_train, y_train)"
   ]
  },
  {
   "cell_type": "code",
   "execution_count": 94,
   "metadata": {},
   "outputs": [],
   "source": [
    "y_pred_train = clf2.predict(X_train)\n",
    "y_pred_val = clf2.predict(X_val)"
   ]
  },
  {
   "cell_type": "code",
   "execution_count": 95,
   "metadata": {},
   "outputs": [
    {
     "name": "stdout",
     "output_type": "stream",
     "text": [
      "\n",
      "         ========================================\n",
      "           CLASSIFICATION REPORT FOR TRAIN DATA\n",
      "         ========================================\n",
      "        \n",
      "              precision    recall  f1-score   support\n",
      "\n",
      "           0     0.9999    1.0000    1.0000    347799\n",
      "           1     1.0000    1.0000    1.0000    540219\n",
      "\n",
      "    accuracy                         1.0000    888018\n",
      "   macro avg     1.0000    1.0000    1.0000    888018\n",
      "weighted avg     1.0000    1.0000    1.0000    888018\n",
      "\n",
      "\n",
      "             =============================================\n",
      "               CLASSIFICATION REPORT FOR VALIDATION DATA\n",
      "             =============================================\n",
      "            \n",
      "              precision    recall  f1-score   support\n",
      "\n",
      "           0     0.9753    0.9995    0.9873    115933\n",
      "           1     0.9997    0.9837    0.9916    180074\n",
      "\n",
      "    accuracy                         0.9899    296007\n",
      "   macro avg     0.9875    0.9916    0.9894    296007\n",
      "weighted avg     0.9901    0.9899    0.9899    296007\n",
      "\n",
      "\n",
      "             ========================================\n",
      "               Confusion Matrix FOR TRAIN DATA\n",
      "             ========================================\n",
      "            \n",
      "[[347798      1]\n",
      " [    27 540192]]\n",
      "\n",
      "             =============================================\n",
      "               Confusion matrix FOR VALIDATION DATA\n",
      "             =============================================\n",
      "            \n",
      "[[115872     61]\n",
      " [  2931 177143]]\n"
     ]
    },
    {
     "data": {
      "text/html": [
       "<div>\n",
       "<style scoped>\n",
       "    .dataframe tbody tr th:only-of-type {\n",
       "        vertical-align: middle;\n",
       "    }\n",
       "\n",
       "    .dataframe tbody tr th {\n",
       "        vertical-align: top;\n",
       "    }\n",
       "\n",
       "    .dataframe thead th {\n",
       "        text-align: right;\n",
       "    }\n",
       "</style>\n",
       "<table border=\"1\" class=\"dataframe\">\n",
       "  <thead>\n",
       "    <tr style=\"text-align: right;\">\n",
       "      <th></th>\n",
       "      <th>Model</th>\n",
       "      <th>Train_Accuracy</th>\n",
       "      <th>Train_Recall</th>\n",
       "      <th>Train_Precision</th>\n",
       "      <th>Train_F1_Score</th>\n",
       "      <th>Test_Accuracy</th>\n",
       "      <th>Test_Recall</th>\n",
       "      <th>Test_Precision</th>\n",
       "      <th>Test_F1_Score</th>\n",
       "    </tr>\n",
       "  </thead>\n",
       "  <tbody>\n",
       "    <tr>\n",
       "      <th>0</th>\n",
       "      <td>LogisticRegression</td>\n",
       "      <td>0.989692</td>\n",
       "      <td>0.983083</td>\n",
       "      <td>0.999972</td>\n",
       "      <td>0.991455</td>\n",
       "      <td>0.989818</td>\n",
       "      <td>0.983285</td>\n",
       "      <td>0.999977</td>\n",
       "      <td>0.991561</td>\n",
       "    </tr>\n",
       "    <tr>\n",
       "      <th>1</th>\n",
       "      <td>DecisionTree</td>\n",
       "      <td>0.989683</td>\n",
       "      <td>0.983040</td>\n",
       "      <td>1.000000</td>\n",
       "      <td>0.991448</td>\n",
       "      <td>0.989801</td>\n",
       "      <td>0.983235</td>\n",
       "      <td>1.000000</td>\n",
       "      <td>0.991546</td>\n",
       "    </tr>\n",
       "    <tr>\n",
       "      <th>2</th>\n",
       "      <td>Random Forest</td>\n",
       "      <td>0.999968</td>\n",
       "      <td>0.999950</td>\n",
       "      <td>0.999998</td>\n",
       "      <td>0.999974</td>\n",
       "      <td>0.989892</td>\n",
       "      <td>0.983723</td>\n",
       "      <td>0.999656</td>\n",
       "      <td>0.991626</td>\n",
       "    </tr>\n",
       "  </tbody>\n",
       "</table>\n",
       "</div>"
      ],
      "text/plain": [
       "                Model  Train_Accuracy  Train_Recall  Train_Precision  \\\n",
       "0  LogisticRegression        0.989692      0.983083         0.999972   \n",
       "1        DecisionTree        0.989683      0.983040         1.000000   \n",
       "2       Random Forest        0.999968      0.999950         0.999998   \n",
       "\n",
       "   Train_F1_Score  Test_Accuracy  Test_Recall  Test_Precision  Test_F1_Score  \n",
       "0        0.991455       0.989818     0.983285        0.999977       0.991561  \n",
       "1        0.991448       0.989801     0.983235        1.000000       0.991546  \n",
       "2        0.999974       0.989892     0.983723        0.999656       0.991626  "
      ]
     },
     "execution_count": 95,
     "metadata": {},
     "output_type": "execute_result"
    }
   ],
   "source": [
    "scores = get_metrics(y_train,y_pred_train,y_val,y_pred_val,\"Random Forest\",scores)\n",
    "scores"
   ]
  }
 ],
 "metadata": {
  "kernelspec": {
   "display_name": "Python 3",
   "language": "python",
   "name": "python3"
  }
 },
 "nbformat": 4,
 "nbformat_minor": 4
}
